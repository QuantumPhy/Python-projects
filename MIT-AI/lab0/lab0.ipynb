{
 "cells": [
  {
   "cell_type": "code",
   "execution_count": 31,
   "metadata": {
    "collapsed": false
   },
   "outputs": [
    {
     "data": {
      "text/plain": [
       "3"
      ]
     },
     "execution_count": 31,
     "metadata": {},
     "output_type": "execute_result"
    }
   ],
   "source": [
    "def count_pattern(pattern, lst):\n",
    "    a=0\n",
    "    b=0\n",
    "    for char in lst:\n",
    "        if pattern==lst[a:a+len(pattern)]:\n",
    "            b+=1\n",
    "        a+=1\n",
    "    return b\n",
    "\n",
    "count_pattern(('a', 'b', 'a'), ('g', 'a', 'b', 'a', 'b', 'a', 'b', 'a'))\n"
   ]
  },
  {
   "cell_type": "code",
   "execution_count": 73,
   "metadata": {
    "collapsed": false
   },
   "outputs": [
    {
     "data": {
      "text/plain": [
       "3"
      ]
     },
     "execution_count": 73,
     "metadata": {},
     "output_type": "execute_result"
    }
   ],
   "source": [
    "from collections import Sequence\n",
    "from itertools import chain, count\n",
    "\n",
    "\n",
    "\n",
    "\n",
    "d = lambda L: isinstance(L, tuple)  and max(map(d,L))+1\n",
    "L=('a',2,(1,1,(1,1,1)))\n",
    "d(L)"
   ]
  },
  {
   "cell_type": "code",
   "execution_count": 87,
   "metadata": {
    "collapsed": false
   },
   "outputs": [
    {
     "data": {
      "text/plain": [
       "((1, 2), 3)"
      ]
     },
     "execution_count": 87,
     "metadata": {},
     "output_type": "execute_result"
    }
   ],
   "source": [
    "def tree_ref(tree, index):\n",
    "    if len(index)>0:\n",
    "        i=index[0]\n",
    "        index2=index[1:len(index)]\n",
    "        return tree_ref(tree[i],index2)\n",
    "    else:\n",
    "        return tree\n",
    "\n",
    "\n",
    "\n",
    "tree=(((1, 2), 3), (4, (5, 6)), 7, (8, 9, 10))\n",
    "tree_ref(tree,(0,))\n"
   ]
  }
 ],
 "metadata": {
  "kernelspec": {
   "display_name": "Python 3",
   "language": "python",
   "name": "python3"
  },
  "language_info": {
   "codemirror_mode": {
    "name": "ipython",
    "version": 3
   },
   "file_extension": ".py",
   "mimetype": "text/x-python",
   "name": "python",
   "nbconvert_exporter": "python",
   "pygments_lexer": "ipython3",
   "version": "3.6.0"
  }
 },
 "nbformat": 4,
 "nbformat_minor": 2
}
