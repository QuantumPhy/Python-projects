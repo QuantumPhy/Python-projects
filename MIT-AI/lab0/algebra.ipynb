{
 "cells": [
  {
   "cell_type": "code",
   "execution_count": 2,
   "metadata": {
    "collapsed": true
   },
   "outputs": [],
   "source": [
    "class Expression:\n",
    "    \"This abstract class does nothing on its own.\"\n",
    "    pass\n",
    "\n",
    "class Sum(list, Expression):\n",
    "    \"\"\"\n",
    "    A Sum acts just like a list in almost all regards, except that this code\n",
    "    can tell it is a Sum using isinstance(), and we add useful methods\n",
    "    such as simplify().\n",
    "\n",
    "    Because of this:\n",
    "      * You can index into a sum like a list, as in term = sum[0].\n",
    "      * You can iterate over a sum with \"for term in sum:\".\n",
    "      * You can convert a sum to an ordinary list with the list() constructor:\n",
    "         the_list = list(the_sum)\n",
    "      * You can convert an ordinary list to a sum with the Sum() constructor:\n",
    "         the_sum = Sum(the_list)\n",
    "    \"\"\"\n",
    "    def __repr__(self):\n",
    "        return \"Sum(%s)\" % list.__repr__(self)\n",
    "    \n",
    "    def simplify(self):\n",
    "        \"\"\"\n",
    "        This is the starting point for the task you need to perform. It\n",
    "        removes unnecessary nesting and applies the associative law.\n",
    "        \"\"\"\n",
    "        terms = self.flatten()\n",
    "        if len(terms) == 1:\n",
    "            return simplify_if_possible(terms[0])\n",
    "        else:\n",
    "            return Sum([simplify_if_possible(term) for term in terms]).flatten()\n",
    "\n",
    "    def flatten(self):\n",
    "        \"\"\"Simplifies nested sums.\"\"\"\n",
    "        terms = []\n",
    "        for term in self:\n",
    "            if isinstance(term, Sum):\n",
    "                terms += list(term)\n",
    "            else:\n",
    "                terms.append(term)\n",
    "        return Sum(terms)\n",
    "\n",
    "\n",
    "class Product(list, Expression):\n",
    "    \"\"\"\n",
    "    See the documentation above for Sum. A Product acts almost exactly\n",
    "    like a list, and can be converted to and from a list when necessary.\n",
    "    \"\"\"\n",
    "    def __repr__(self):\n",
    "        return \"Product(%s)\" % list.__repr__(self)\n",
    "    \n",
    "    def simplify(self):\n",
    "        \"\"\"\n",
    "        To simplify a product, we need to multiply all its factors together\n",
    "        while taking things like the distributive law into account. This\n",
    "        method calls multiply() repeatedly, leading to the code you will\n",
    "        need to write.\n",
    "        \"\"\"\n",
    "        factors = []\n",
    "        for factor in self:\n",
    "            if isinstance(factor, Product):\n",
    "                factors += list(factor)\n",
    "            else:\n",
    "                factors.append(factor)\n",
    "        result = Product([1])\n",
    "        for factor in factors:\n",
    "            result = multiply(result, simplify_if_possible(factor))\n",
    "        return result.flatten()\n",
    "\n",
    "    def flatten(self):\n",
    "        \"\"\"Simplifies nested products.\"\"\"\n",
    "        factors = []\n",
    "        for factor in self:\n",
    "            if isinstance(factor, Product):\n",
    "                factors += list(factor)\n",
    "            else:\n",
    "                factors.append(factor)\n",
    "        return Product(factors)\n",
    "\n"
   ]
  },
  {
   "cell_type": "code",
   "execution_count": 3,
   "metadata": {
    "collapsed": true
   },
   "outputs": [],
   "source": [
    "def simplify_if_possible(expr):\n",
    "    \"\"\"\n",
    "    A helper function that guards against trying to simplify a non-Expression.\n",
    "    \"\"\"\n",
    "    if isinstance(expr, Expression):\n",
    "        return expr.simplify()\n",
    "    else:\n",
    "        return expr\n",
    "\n",
    "# You may find the following helper functions to be useful.\n",
    "# \"multiply\" is provided for you; but you will need to write \"do_multiply\"\n",
    "# if you would like to use it.\n",
    "\n",
    "def multiply(expr1, expr2):\n",
    "    \"\"\"\n",
    "    This function makes sure that its arguments are represented as either a\n",
    "    Sum or a Product, and then passes the hard work onto do_multiply.\n",
    "    \"\"\"\n",
    "    # Simple expressions that are not sums or products can be handled\n",
    "    # in exactly the same way as products -- they just have one thing in them.\n",
    "    if not isinstance(expr1, Expression): expr1 = Product([expr1])\n",
    "    if not isinstance(expr2, Expression): expr2 = Product([expr2])\n",
    "    return do_multiply(expr1, expr2)\n"
   ]
  },
  {
   "cell_type": "code",
   "execution_count": 61,
   "metadata": {
    "collapsed": false
   },
   "outputs": [],
   "source": [
    "expr = Product([Sum([3,9]),Sum([2,Product([4,5,Sum([1,2])])])])\n",
    "expr=expr.simplify()\n"
   ]
  },
  {
   "cell_type": "code",
   "execution_count": 51,
   "metadata": {
    "collapsed": false
   },
   "outputs": [],
   "source": [
    "def do_multiply(expr1, expr2):\n",
    "    \"\"\"\n",
    "    You have two Expressions, and you need to make a simplified expression\n",
    "    representing their product. They are guaranteed to be of type Expression\n",
    "    -- that is, either Sums or Products -- by the multiply() function that\n",
    "    calls this one.\n",
    "\n",
    "    So, you have four cases to deal with:\n",
    "    * expr1 is a Sum, and expr2 is a Sum\n",
    "    * expr1 is a Sum, and expr2 is a Product\n",
    "    * expr1 is a Product, and expr2 is a Sum\n",
    "    * expr1 is a Product, and expr2 is a Product\n",
    "\n",
    "    You need to create Sums or Products that represent what you get by\n",
    "    applying the algebraic rules of multiplication to these expressions,\n",
    "    and simplifying.\n",
    "\n",
    "    Look above for details on the Sum and Product classes. The Python operator\n",
    "    '*' will not help you.\n",
    "    \"\"\"\n",
    "    if isinstance(expr1, Product) and isinstance(expr2, Product):\n",
    "        expr=[]\n",
    "        expr+=list(expr1)\n",
    "        expr+=list(expr2)\n",
    "        return Product(expr)\n",
    "    \n",
    "    if isinstance(expr1, Product) and isinstance(expr2, Sum):\n",
    "        expr=[Product([exp,expr1]) for exp in expr2]\n",
    "        return Sum(expr).simplify()\n",
    "    \n",
    "    if isinstance(expr1, Sum) and isinstance(expr2, Product):\n",
    "        expr=[Product([exp,expr2]) for exp in expr1]\n",
    "        return Sum(expr).simplify()\n",
    "    \n",
    "    if isinstance(expr1, Sum) and isinstance(expr2, Sum):\n",
    "        expr=[Product([exp1,exp2]) for exp1 in expr1  for exp2 in expr2]\n",
    "        return Sum(expr).simplify()"
   ]
  },
  {
   "cell_type": "code",
   "execution_count": 62,
   "metadata": {
    "collapsed": false
   },
   "outputs": [
    {
     "name": "stdout",
     "output_type": "stream",
     "text": [
      "744\n"
     ]
    }
   ],
   "source": [
    "the_list=list(expr)\n",
    "calc=0\n",
    "for item in the_list:\n",
    "    product_list=list(item)\n",
    "    mult=1\n",
    "    for factor in product_list:\n",
    "        mult*=factor\n",
    "    calc+=mult\n",
    "print(calc)"
   ]
  }
 ],
 "metadata": {
  "kernelspec": {
   "display_name": "Python 3",
   "language": "python",
   "name": "python3"
  },
  "language_info": {
   "codemirror_mode": {
    "name": "ipython",
    "version": 3
   },
   "file_extension": ".py",
   "mimetype": "text/x-python",
   "name": "python",
   "nbconvert_exporter": "python",
   "pygments_lexer": "ipython3",
   "version": "3.6.0"
  }
 },
 "nbformat": 4,
 "nbformat_minor": 2
}
