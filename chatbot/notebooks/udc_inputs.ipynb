{
 "cells": [
  {
   "cell_type": "code",
   "execution_count": 1,
   "metadata": {
    "collapsed": true
   },
   "outputs": [],
   "source": [
    "import tensorflow as tf\n",
    "\n",
    "TEXT_FEATURE_SIZE = 160\n",
    "\n",
    "def get_feature_columns(mode):\n",
    "  feature_columns = []\n",
    "\n",
    "  feature_columns.append(tf.contrib.layers.real_valued_column(\n",
    "    column_name=\"context\", dimension=TEXT_FEATURE_SIZE, dtype=tf.int64))\n",
    "  feature_columns.append(tf.contrib.layers.real_valued_column(\n",
    "      column_name=\"context_len\", dimension=1, dtype=tf.int64))\n",
    "  feature_columns.append(tf.contrib.layers.real_valued_column(\n",
    "      column_name=\"utterance\", dimension=TEXT_FEATURE_SIZE, dtype=tf.int64))\n",
    "  feature_columns.append(tf.contrib.layers.real_valued_column(\n",
    "      column_name=\"utterance_len\", dimension=1, dtype=tf.int64))\n",
    "\n",
    "  if mode == tf.contrib.learn.ModeKeys.TRAIN:\n",
    "    # During training we have a label feature\n",
    "    feature_columns.append(tf.contrib.layers.real_valued_column(\n",
    "      column_name=\"label\", dimension=1, dtype=tf.int64))\n",
    "\n",
    "  if mode == tf.contrib.learn.ModeKeys.EVAL:\n",
    "    # During evaluation we have distractors\n",
    "    for i in range(9):\n",
    "      feature_columns.append(tf.contrib.layers.real_valued_column(\n",
    "        column_name=\"distractor_{}\".format(i), dimension=TEXT_FEATURE_SIZE, dtype=tf.int64))\n",
    "      feature_columns.append(tf.contrib.layers.real_valued_column(\n",
    "        column_name=\"distractor_{}_len\".format(i), dimension=1, dtype=tf.int64))\n",
    "\n",
    "  return set(feature_columns)\n",
    "\n",
    "\n",
    "def create_input_fn(mode, input_files, batch_size, num_epochs):\n",
    "  def input_fn():\n",
    "    features = tf.contrib.layers.create_feature_spec_for_parsing(\n",
    "        get_feature_columns(mode))\n",
    "\n",
    "    feature_map = tf.contrib.learn.io.read_batch_features(\n",
    "        file_pattern=input_files,\n",
    "        batch_size=batch_size,\n",
    "        features=features,\n",
    "        reader=tf.TFRecordReader,\n",
    "        randomize_input=True,\n",
    "        num_epochs=num_epochs,\n",
    "        queue_capacity=200000 + batch_size * 10,\n",
    "        name=\"read_batch_features_{}\".format(mode))\n",
    "\n",
    "    # This is an ugly hack because of a current bug in tf.learn\n",
    "    # During evaluation TF tries to restore the epoch variable which isn't defined during training\n",
    "    # So we define the variable manually here\n",
    "    if mode == tf.contrib.learn.ModeKeys.TRAIN:\n",
    "      tf.get_variable(\n",
    "        \"read_batch_features_eval/file_name_queue/limit_epochs/epochs\",\n",
    "        initializer=tf.constant(0, dtype=tf.int64))\n",
    "\n",
    "    if mode == tf.contrib.learn.ModeKeys.TRAIN:\n",
    "      target = feature_map.pop(\"label\")\n",
    "    else:\n",
    "      # In evaluation we have 10 classes (utterances).\n",
    "      # The first one (index 0) is always the correct one\n",
    "      target = tf.zeros([batch_size, 1], dtype=tf.int64)\n",
    "    return feature_map, target\n",
    "  return input_fn"
   ]
  }
 ],
 "metadata": {
  "kernelspec": {
   "display_name": "Python 3",
   "language": "python",
   "name": "python3"
  },
  "language_info": {
   "codemirror_mode": {
    "name": "ipython",
    "version": 3
   },
   "file_extension": ".py",
   "mimetype": "text/x-python",
   "name": "python",
   "nbconvert_exporter": "python",
   "pygments_lexer": "ipython3",
   "version": "3.5.3"
  }
 },
 "nbformat": 4,
 "nbformat_minor": 2
}
