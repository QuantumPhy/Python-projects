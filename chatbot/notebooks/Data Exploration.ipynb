{
 "cells": [
  {
   "cell_type": "code",
   "execution_count": 12,
   "metadata": {
    "collapsed": true
   },
   "outputs": [],
   "source": [
    "%matplotlib inline\n",
    "\n",
    "import pandas as pd\n",
    "import matplotlib.pyplot as plt\n",
    "import matplotlib\n",
    "matplotlib.style.use('ggplot')"
   ]
  },
  {
   "cell_type": "code",
   "execution_count": 13,
   "metadata": {
    "collapsed": false
   },
   "outputs": [],
   "source": [
    "# Load Data\n",
    "train_df = pd.read_csv(\"../data/train.csv\")\n",
    "train_df.Label = train_df.Label.astype('category')\n",
    "\n",
    "test_df = pd.read_csv(\"../data/test.csv\")\n",
    "validation_df = pd.read_csv(\"../data/valid.csv\")"
   ]
  },
  {
   "cell_type": "code",
   "execution_count": 5,
   "metadata": {
    "collapsed": false
   },
   "outputs": [
    {
     "data": {
      "text/html": [
       "<div>\n",
       "<table border=\"1\" class=\"dataframe\">\n",
       "  <thead>\n",
       "    <tr style=\"text-align: right;\">\n",
       "      <th></th>\n",
       "      <th>Context</th>\n",
       "      <th>Utterance</th>\n",
       "      <th>Label</th>\n",
       "    </tr>\n",
       "  </thead>\n",
       "  <tbody>\n",
       "    <tr>\n",
       "      <th>count</th>\n",
       "      <td>1000000</td>\n",
       "      <td>1000000</td>\n",
       "      <td>1000000</td>\n",
       "    </tr>\n",
       "    <tr>\n",
       "      <th>unique</th>\n",
       "      <td>957097</td>\n",
       "      <td>736145</td>\n",
       "      <td>2</td>\n",
       "    </tr>\n",
       "    <tr>\n",
       "      <th>top</th>\n",
       "      <td>! op __eou__ __eot__ ? __eou__ __eot__</td>\n",
       "      <td>thank __eou__</td>\n",
       "      <td>0</td>\n",
       "    </tr>\n",
       "    <tr>\n",
       "      <th>freq</th>\n",
       "      <td>15</td>\n",
       "      <td>12426</td>\n",
       "      <td>500127</td>\n",
       "    </tr>\n",
       "  </tbody>\n",
       "</table>\n",
       "</div>"
      ],
      "text/plain": [
       "                                       Context      Utterance    Label\n",
       "count                                  1000000        1000000  1000000\n",
       "unique                                  957097         736145        2\n",
       "top     ! op __eou__ __eot__ ? __eou__ __eot__  thank __eou__        0\n",
       "freq                                        15          12426   500127"
      ]
     },
     "execution_count": 5,
     "metadata": {},
     "output_type": "execute_result"
    }
   ],
   "source": [
    "train_df.describe()"
   ]
  },
  {
   "cell_type": "code",
   "execution_count": 6,
   "metadata": {
    "collapsed": false
   },
   "outputs": [
    {
     "data": {
      "text/plain": [
       "<matplotlib.text.Text at 0x20e819f1128>"
      ]
     },
     "execution_count": 6,
     "metadata": {},
     "output_type": "execute_result"
    },
    {
     "data": {
      "image/png": "[encoded data removed]",
      "text/plain": [
       "<matplotlib.figure.Figure at 0x20efb105cc0>"
      ]
     },
     "metadata": {},
     "output_type": "display_data"
    }
   ],
   "source": [
    "train_df.Label.hist()\n",
    "plt.title(\"Training Label Distribution\")"
   ]
  },
  {
   "cell_type": "code",
   "execution_count": 7,
   "metadata": {
    "collapsed": false
   },
   "outputs": [
    {
     "data": {
      "text/html": [
       "<div>\n",
       "<table border=\"1\" class=\"dataframe\">\n",
       "  <thead>\n",
       "    <tr style=\"text-align: right;\">\n",
       "      <th></th>\n",
       "      <th>Context</th>\n",
       "      <th>Utterance</th>\n",
       "      <th>Label</th>\n",
       "    </tr>\n",
       "  </thead>\n",
       "  <tbody>\n",
       "    <tr>\n",
       "      <th>0</th>\n",
       "      <td>i think we could import the old comment via rsync , but from there we need to go via email . i think it be easier than cach the status on each bug and than import bite here and there __eou__ __eot__ it would be veri easi to keep a hash db of message-id __eou__ sound good __eou__ __eot__ ok __eou__ perhap we can ship an ad-hoc apt_preferec __eou__ __eot__ version ? __eou__ __eot__ thank __eou__ __eot__ not yet __eou__ it be cover by your insur ? __eou__ __eot__ yes __eou__ but it 's realli no...</td>\n",
       "      <td>basic each xfree86 upload will not forc user to upgrad 100mb of font for noth __eou__ no someth i do in my spare time . __eou__</td>\n",
       "      <td>1</td>\n",
       "    </tr>\n",
       "    <tr>\n",
       "      <th>1</th>\n",
       "      <td>i 'm not suggest all - onli the one you modifi . __eou__ __eot__ ok , it sound like you re agre with me , then __eou__ though rather than `` the one we modifi '' , my idea be `` the one we need to merg '' __eou__ __eot__</td>\n",
       "      <td>sorri __eou__ i think it be ubuntu relat . __eou__</td>\n",
       "      <td>0</td>\n",
       "    </tr>\n",
       "    <tr>\n",
       "      <th>2</th>\n",
       "      <td>afternoon all __eou__ not entir relat to warti , but if grub-instal take 5 minut to instal , be this a sign that i should just retri the instal : ) __eou__ __eot__ here __eou__ __eot__ you might want to know that thinic in warti be buggi compar to that in sid __eou__ __eot__ and appar gnome be suddent almost perfect ( out of the thinic problem ) , nobodi report bug : -p __eou__ i do n't get your question , where do you want to past ? __eou__ __eot__ can i file the panel not link to ed ? : ) ...</td>\n",
       "      <td>yep . __eou__ oh , okay . i wonder what happen to you __eou__ what distro do you need ? __eou__ yes __eou__</td>\n",
       "      <td>0</td>\n",
       "    </tr>\n",
       "    <tr>\n",
       "      <th>3</th>\n",
       "      <td>interest __eou__ grub-instal work with / be ext3 , fail when it be xfs __eou__ i think d-i instal the relev kernel for your machin . i have a p4 and it instal the 386 kernel __eou__ holi crap a lot of stuff get instal by default : ) __eou__ you be instal vim on a box of mine __eou__ ; ) __eou__ __eot__ more like osx than debian ; ) __eou__ we have a select of python modul avail for great justic ( and python develop ) __eou__ __eot__ 2.8 be fix them iirc __eou__ __eot__ pong __eou__ vino will...</td>\n",
       "      <td>that the one __eou__</td>\n",
       "      <td>1</td>\n",
       "    </tr>\n",
       "    <tr>\n",
       "      <th>4</th>\n",
       "      <td>and becaus python give mark a woodi __eou__ __eot__ i 'm not sure if we re mean to talk about that public yet . __eou__ __eot__ and i think we be a `` pant off '' kind of compani ... : p __eou__ you need new glass __eou__ __eot__ mono 1.0 ? dude , that 's go to be a barrel of laugh for total non-releas relat reason dure hoari __eou__ read bryan clark 's entri about networkmanag ? __eou__ __eot__ there be an accompani irc convers to that one &lt; g &gt; __eou__ explain ? __eou__ i guess you could s...</td>\n",
       "      <td>( i think someon be go to make a joke about .au bandwidth ... ) __eou__ especi not if you re use screen ; ) __eou__</td>\n",
       "      <td>1</td>\n",
       "    </tr>\n",
       "  </tbody>\n",
       "</table>\n",
       "</div>"
      ],
      "text/plain": [
       "                                                                                                                                                                                                                                                                                                                                                                                                                                                                                                               Context  \\\n",
       "0  i think we could import the old comment via rsync , but from there we need to go via email . i think it be easier than cach the status on each bug and than import bite here and there __eou__ __eot__ it would be veri easi to keep a hash db of message-id __eou__ sound good __eou__ __eot__ ok __eou__ perhap we can ship an ad-hoc apt_preferec __eou__ __eot__ version ? __eou__ __eot__ thank __eou__ __eot__ not yet __eou__ it be cover by your insur ? __eou__ __eot__ yes __eou__ but it 's realli no...   \n",
       "1                                                                                                                                                                                                                                                                                         i 'm not suggest all - onli the one you modifi . __eou__ __eot__ ok , it sound like you re agre with me , then __eou__ though rather than `` the one we modifi '' , my idea be `` the one we need to merg '' __eou__ __eot__   \n",
       "2  afternoon all __eou__ not entir relat to warti , but if grub-instal take 5 minut to instal , be this a sign that i should just retri the instal : ) __eou__ __eot__ here __eou__ __eot__ you might want to know that thinic in warti be buggi compar to that in sid __eou__ __eot__ and appar gnome be suddent almost perfect ( out of the thinic problem ) , nobodi report bug : -p __eou__ i do n't get your question , where do you want to past ? __eou__ __eot__ can i file the panel not link to ed ? : ) ...   \n",
       "3  interest __eou__ grub-instal work with / be ext3 , fail when it be xfs __eou__ i think d-i instal the relev kernel for your machin . i have a p4 and it instal the 386 kernel __eou__ holi crap a lot of stuff get instal by default : ) __eou__ you be instal vim on a box of mine __eou__ ; ) __eou__ __eot__ more like osx than debian ; ) __eou__ we have a select of python modul avail for great justic ( and python develop ) __eou__ __eot__ 2.8 be fix them iirc __eou__ __eot__ pong __eou__ vino will...   \n",
       "4  and becaus python give mark a woodi __eou__ __eot__ i 'm not sure if we re mean to talk about that public yet . __eou__ __eot__ and i think we be a `` pant off '' kind of compani ... : p __eou__ you need new glass __eou__ __eot__ mono 1.0 ? dude , that 's go to be a barrel of laugh for total non-releas relat reason dure hoari __eou__ read bryan clark 's entri about networkmanag ? __eou__ __eot__ there be an accompani irc convers to that one < g > __eou__ explain ? __eou__ i guess you could s...   \n",
       "\n",
       "                                                                                                                         Utterance  \\\n",
       "0  basic each xfree86 upload will not forc user to upgrad 100mb of font for noth __eou__ no someth i do in my spare time . __eou__   \n",
       "1                                                                               sorri __eou__ i think it be ubuntu relat . __eou__   \n",
       "2                      yep . __eou__ oh , okay . i wonder what happen to you __eou__ what distro do you need ? __eou__ yes __eou__   \n",
       "3                                                                                                             that the one __eou__   \n",
       "4              ( i think someon be go to make a joke about .au bandwidth ... ) __eou__ especi not if you re use screen ; ) __eou__   \n",
       "\n",
       "  Label  \n",
       "0     1  \n",
       "1     0  \n",
       "2     0  \n",
       "3     1  \n",
       "4     1  "
      ]
     },
     "execution_count": 7,
     "metadata": {},
     "output_type": "execute_result"
    }
   ],
   "source": [
    "pd.options.display.max_colwidth = 500\n",
    "train_df.head()"
   ]
  },
  {
   "cell_type": "code",
   "execution_count": 9,
   "metadata": {
    "collapsed": false
   },
   "outputs": [
    {
     "name": "stdout",
     "output_type": "stream",
     "text": [
      "count    1000000.000000\n",
      "mean          86.339195\n",
      "std           74.929713\n",
      "min            5.000000\n",
      "25%           37.000000\n",
      "50%           63.000000\n",
      "75%          108.000000\n",
      "max         1879.000000\n",
      "Name: Context, dtype: float64\n",
      "count    1000000.000000\n",
      "mean          17.246392\n",
      "std           16.422901\n",
      "min            1.000000\n",
      "25%            7.000000\n",
      "50%           13.000000\n",
      "75%           22.000000\n",
      "max          653.000000\n",
      "Name: Utterance, dtype: float64\n"
     ]
    },
    {
     "data": {
      "image/png": "[encoded data removed]",
      "text/plain": [
       "<matplotlib.figure.Figure at 0x20efd0edc88>"
      ]
     },
     "metadata": {},
     "output_type": "display_data"
    },
    {
     "data": {
      "image/png": "[encoded data removed]",
      "text/plain": [
       "<matplotlib.figure.Figure at 0x20efb05f940>"
      ]
     },
     "metadata": {},
     "output_type": "display_data"
    }
   ],
   "source": [
    "plt.figure(1)\n",
    "train_df_context_len = train_df.Context.str.split(\" \").apply(len)\n",
    "train_df_context_len.hist(bins=100)\n",
    "plt.title(\"Training Context Length Statistics\")\n",
    "print(train_df_context_len.describe())\n",
    "\n",
    "plt.figure(2)\n",
    "train_df_utterance_len = train_df.Utterance.str.split(\" \").apply(len)\n",
    "train_df_utterance_len.hist(bins=100)\n",
    "plt.title(\"Training Utterance Length Statistics\")\n",
    "print(train_df_utterance_len.describe())"
   ]
  },
  {
   "cell_type": "code",
   "execution_count": 10,
   "metadata": {
    "collapsed": false
   },
   "outputs": [
    {
     "data": {
      "text/html": [
       "<div>\n",
       "<table border=\"1\" class=\"dataframe\">\n",
       "  <thead>\n",
       "    <tr style=\"text-align: right;\">\n",
       "      <th></th>\n",
       "      <th>Context</th>\n",
       "      <th>Ground Truth Utterance</th>\n",
       "      <th>Distractor_0</th>\n",
       "      <th>Distractor_1</th>\n",
       "      <th>Distractor_2</th>\n",
       "      <th>Distractor_3</th>\n",
       "      <th>Distractor_4</th>\n",
       "      <th>Distractor_5</th>\n",
       "      <th>Distractor_6</th>\n",
       "      <th>Distractor_7</th>\n",
       "      <th>Distractor_8</th>\n",
       "    </tr>\n",
       "  </thead>\n",
       "  <tbody>\n",
       "    <tr>\n",
       "      <th>0</th>\n",
       "      <td>anyon know whi my stock oneir export env var usernam ' ? i mean what be that use for ? i know of $ user but not $ usernam . my precis instal doe n't export usernam __eou__ __eot__ look like it use to be export by lightdm , but the line have the comment `` // fixm : be this requir ? '' so i guess it be n't surpris it be go __eou__ __eot__ thank ! how the heck do you figur that out ? __eou__ __eot__ https : //bugs.launchpad.net/lightdm/+bug/864109/comments/3 __eou__ __eot__</td>\n",
       "      <td>nice thank ! __eou__</td>\n",
       "      <td>wrong channel for it , but check efnet.org , unoffici page . __eou__</td>\n",
       "      <td>everi time the kernel chang , you will lose video __eou__ yep __eou__</td>\n",
       "      <td>ok __eou__</td>\n",
       "      <td>! nomodeset &gt; acer __eou__ i 'm assum it be a driver issu . __eou__ ! pm &gt; acer __eou__ i do n't pm . ; ) __eou__ oop sorri for the cap __eou__</td>\n",
       "      <td>http : //www.ubuntu.com/project/about-ubuntu/deriv ( some call them deriv , other call them flavor , same differ ) __eou__</td>\n",
       "      <td>thx __eou__ unfortun the program be n't instal from the repositori __eou__</td>\n",
       "      <td>how can i check ? by do a recoveri for test ? __eou__</td>\n",
       "      <td>my humbl apolog __eou__</td>\n",
       "      <td># ubuntu-offtop __eou__</td>\n",
       "    </tr>\n",
       "    <tr>\n",
       "      <th>1</th>\n",
       "      <td>i set up my hd such that i have to type a passphras to access it at boot . how can i remov that passwrd , and just boot up normal . i do this at instal , it work fine , just tire of have reboot where i need to be at termin to type passwd in . help ? __eou__ __eot__ backup your data , and re-instal without encrypt `` might '' be the easiest method __eou__ __eot__</td>\n",
       "      <td>so you dont know , ok , anyon els ? __eou__ you be like , yah my mous doesnt work , reinstal your os lolol what a joke __eou__</td>\n",
       "      <td>nmap be nice , but it be n't what i be look for . i final find it again : mtr ( my tracerout ) be what i be look for . i ll be keep nmap handi though . __eou__</td>\n",
       "      <td>ok __eou__</td>\n",
       "      <td>cdrom work fine on window . __eou__ i dont think it have anyth to do with the bure process , cds work fine on my desktop and my other ubuntu lap __eou__</td>\n",
       "      <td>ah yes , i have read return as rerun __eou__</td>\n",
       "      <td>hm ? __eou__</td>\n",
       "      <td>not the case , lts be everi other .04 releas . the .04 be n't alway more stabl __eou__ i would reinstal with precis __eou__ you can restor user data and such from backup __eou__</td>\n",
       "      <td>pretti much __eou__</td>\n",
       "      <td>i use the one i download from amd __eou__</td>\n",
       "      <td>ffmpeg be part of the packag , quixotedon , at least i 'm quit sure it still be __eou__ if not just instal ffmpeg __eou__</td>\n",
       "    </tr>\n",
       "    <tr>\n",
       "      <th>2</th>\n",
       "      <td>im tri to use ubuntu on my macbook pro retina __eou__ i read in the forum that ubuntu have a appl version now ? __eou__ __eot__ not that ive ever hear of.. normal ubutnu should work on an intel base mac . there be the ppc version also . __eou__ you want total control ? or what be you want exact ? __eou__ __eot__</td>\n",
       "      <td>just wonder how it run __eou__</td>\n",
       "      <td>yes , that 's what i do , export it to a `` id_dsa '' file , then back to ubuntu copi it into ~/.ssh/ __eou__</td>\n",
       "      <td>noth - i be talk about the question of myhero __eou__</td>\n",
       "      <td>that should fix the font be too larg __eou__</td>\n",
       "      <td>okay , so hcitool echo back hci0 &lt; mac address of control &gt; but the bluetooth devic panel keep disconnect and reconnect the devic ( or so it seem ) ani idea whi that would be ? __eou__</td>\n",
       "      <td>i get to the menu with option such as tri ubuntu ' , instal ubuntu ' , check disc ' __eou__</td>\n",
       "      <td>whi do u need analyz __eou__ it be a toy __eou__ ok msp301 __eou__ but y , i mean it be the same ubunut , onli with older program __eou__ ubuntu 804 or 1204 __eou__ no i dont use 804 __eou__ i be ask hypo qs __eou__</td>\n",
       "      <td>cntrl-c may stop the command but it doe n't fix my hdd problem . __eou__</td>\n",
       "      <td>if you re onli go to run ubuntu , just get a normal pc rather than a mac __eou__ that say , i 'm run it on a macbook , becaus i get one relat cheapli __eou__</td>\n",
       "      <td>the one which be not pick up at the moment be on stderr and not stdout and &gt; be onli cover stdout __eou__</td>\n",
       "    </tr>\n",
       "    <tr>\n",
       "      <th>3</th>\n",
       "      <td>no suggest ? __eou__ link ? __eou__ how can i remov luk passphras at boot . i dont want to use featur anymor ... __eou__ __eot__ you may need to creat a new volum __eou__ __eot__ that lead me to the next question lol ... i dont know how to creat new volum exact in cmdline , usual i use a gui . im just tri to access this server via usb load with next os im go to load , the luk pw be stop me __eou__ __eot__ for someth like that i would like use someth like a live gpart disk to avoid the confli...</td>\n",
       "      <td>you cant load anyth via usb or cd when luk be run __eou__ it wont allow usb boot , i tri with 2 diff usb drive __eou__</td>\n",
       "      <td>-p sorri ... __eou__ nmap -p22 __eou__ it doe n't say : 22/tcp open ssh ? __eou__</td>\n",
       "      <td>i guess so i ca n't even launch it . __eou__</td>\n",
       "      <td>note __eou__</td>\n",
       "      <td>rxvt-unicod be one __eou__</td>\n",
       "      <td>i tar all of ~ __eou__</td>\n",
       "      <td>i tar all of ~ __eou__</td>\n",
       "      <td>i do n't realli know if i can help , but i be curious . lol __eou__ that 's cool . i ll look into it . now , we better stop talk about this sinc it 's offtop . : p __eou__</td>\n",
       "      <td>that work just fine , thank ! __eou__</td>\n",
       "      <td>thank you __eou__</td>\n",
       "    </tr>\n",
       "    <tr>\n",
       "      <th>4</th>\n",
       "      <td>i just ad a second usb printer but not sure what the uri should read - can anyon help with usb printer ? __eou__ __eot__ firefox localhost:631 __eou__ __eot__ firefox ? __eou__ __eot__ yes __eou__ firefox localhost:631 __eou__ firefox http : //localhost:631 __eou__ cup have a web base interfac __eou__ __eot__</td>\n",
       "      <td>i be set it up under the printer configur __eou__ thank ! __eou__</td>\n",
       "      <td>i 'd say the most common venu would be via launchpad . check out the factoid ! bug as well __eou__</td>\n",
       "      <td>the old hardi man page , http : //manpages.ubuntu.com/manpages/hardy/man1/gcalctool.1.html say `` delet '' clear the screen , but it doe n't __eou__ becaus lts be good __eou__</td>\n",
       "      <td>i ll give a tri __eou__</td>\n",
       "      <td>by the way , the url you post for davf be from dapper ... that 's 5.xx iirc __eou__</td>\n",
       "      <td>http : //ubuntuforums.org/showthread.php ? t=1549847 __eou__</td>\n",
       "      <td>so i load up putti gui , then what do i do ? __eou__</td>\n",
       "      <td>you should read error messag , it say be you root ? ' __eou__</td>\n",
       "      <td>wait the colleg semest to close just to make sure i will not need to reconfigur my environ again __eou__</td>\n",
       "      <td>i be call myself a jerk . all i know be that you download a game success . __eou__</td>\n",
       "    </tr>\n",
       "  </tbody>\n",
       "</table>\n",
       "</div>"
      ],
      "text/plain": [
       "                                                                                                                                                                                                                                                                                                                                                                                                                                                                                                               Context  \\\n",
       "0                         anyon know whi my stock oneir export env var usernam ' ? i mean what be that use for ? i know of $ user but not $ usernam . my precis instal doe n't export usernam __eou__ __eot__ look like it use to be export by lightdm , but the line have the comment `` // fixm : be this requir ? '' so i guess it be n't surpris it be go __eou__ __eot__ thank ! how the heck do you figur that out ? __eou__ __eot__ https : //bugs.launchpad.net/lightdm/+bug/864109/comments/3 __eou__ __eot__   \n",
       "1                                                                                                                                         i set up my hd such that i have to type a passphras to access it at boot . how can i remov that passwrd , and just boot up normal . i do this at instal , it work fine , just tire of have reboot where i need to be at termin to type passwd in . help ? __eou__ __eot__ backup your data , and re-instal without encrypt `` might '' be the easiest method __eou__ __eot__   \n",
       "2                                                                                                                                                                                            im tri to use ubuntu on my macbook pro retina __eou__ i read in the forum that ubuntu have a appl version now ? __eou__ __eot__ not that ive ever hear of.. normal ubutnu should work on an intel base mac . there be the ppc version also . __eou__ you want total control ? or what be you want exact ? __eou__ __eot__   \n",
       "3  no suggest ? __eou__ link ? __eou__ how can i remov luk passphras at boot . i dont want to use featur anymor ... __eou__ __eot__ you may need to creat a new volum __eou__ __eot__ that lead me to the next question lol ... i dont know how to creat new volum exact in cmdline , usual i use a gui . im just tri to access this server via usb load with next os im go to load , the luk pw be stop me __eou__ __eot__ for someth like that i would like use someth like a live gpart disk to avoid the confli...   \n",
       "4                                                                                                                                                                                               i just ad a second usb printer but not sure what the uri should read - can anyon help with usb printer ? __eou__ __eot__ firefox localhost:631 __eou__ __eot__ firefox ? __eou__ __eot__ yes __eou__ firefox localhost:631 __eou__ firefox http : //localhost:631 __eou__ cup have a web base interfac __eou__ __eot__   \n",
       "\n",
       "                                                                                                           Ground Truth Utterance  \\\n",
       "0                                                                                                            nice thank ! __eou__   \n",
       "1  so you dont know , ok , anyon els ? __eou__ you be like , yah my mous doesnt work , reinstal your os lolol what a joke __eou__   \n",
       "2                                                                                                  just wonder how it run __eou__   \n",
       "3          you cant load anyth via usb or cd when luk be run __eou__ it wont allow usb boot , i tri with 2 diff usb drive __eou__   \n",
       "4                                                               i be set it up under the printer configur __eou__ thank ! __eou__   \n",
       "\n",
       "                                                                                                                                                      Distractor_0  \\\n",
       "0                                                                                             wrong channel for it , but check efnet.org , unoffici page . __eou__   \n",
       "1  nmap be nice , but it be n't what i be look for . i final find it again : mtr ( my tracerout ) be what i be look for . i ll be keep nmap handi though . __eou__   \n",
       "2                                                    yes , that 's what i do , export it to a `` id_dsa '' file , then back to ubuntu copi it into ~/.ssh/ __eou__   \n",
       "3                                                                                -p sorri ... __eou__ nmap -p22 __eou__ it doe n't say : 22/tcp open ssh ? __eou__   \n",
       "4                                                               i 'd say the most common venu would be via launchpad . check out the factoid ! bug as well __eou__   \n",
       "\n",
       "                                                                                                                                                                      Distractor_1  \\\n",
       "0                                                                                                            everi time the kernel chang , you will lose video __eou__ yep __eou__   \n",
       "1                                                                                                                                                                       ok __eou__   \n",
       "2                                                                                                                            noth - i be talk about the question of myhero __eou__   \n",
       "3                                                                                                                                     i guess so i ca n't even launch it . __eou__   \n",
       "4  the old hardi man page , http : //manpages.ubuntu.com/manpages/hardy/man1/gcalctool.1.html say `` delet '' clear the screen , but it doe n't __eou__ becaus lts be good __eou__   \n",
       "\n",
       "                                                                                                                                               Distractor_2  \\\n",
       "0                                                                                                                                                ok __eou__   \n",
       "1  cdrom work fine on window . __eou__ i dont think it have anyth to do with the bure process , cds work fine on my desktop and my other ubuntu lap __eou__   \n",
       "2                                                                                                              that should fix the font be too larg __eou__   \n",
       "3                                                                                                                                              note __eou__   \n",
       "4                                                                                                                                   i ll give a tri __eou__   \n",
       "\n",
       "                                                                                                                                                                               Distractor_3  \\\n",
       "0                                           ! nomodeset > acer __eou__ i 'm assum it be a driver issu . __eou__ ! pm > acer __eou__ i do n't pm . ; ) __eou__ oop sorri for the cap __eou__   \n",
       "1                                                                                                                                              ah yes , i have read return as rerun __eou__   \n",
       "2  okay , so hcitool echo back hci0 < mac address of control > but the bluetooth devic panel keep disconnect and reconnect the devic ( or so it seem ) ani idea whi that would be ? __eou__   \n",
       "3                                                                                                                                                                rxvt-unicod be one __eou__   \n",
       "4                                                                                                       by the way , the url you post for davf be from dapper ... that 's 5.xx iirc __eou__   \n",
       "\n",
       "                                                                                                                 Distractor_4  \\\n",
       "0  http : //www.ubuntu.com/project/about-ubuntu/deriv ( some call them deriv , other call them flavor , same differ ) __eou__   \n",
       "1                                                                                                                hm ? __eou__   \n",
       "2                                 i get to the menu with option such as tri ubuntu ' , instal ubuntu ' , check disc ' __eou__   \n",
       "3                                                                                                      i tar all of ~ __eou__   \n",
       "4                                                                http : //ubuntuforums.org/showthread.php ? t=1549847 __eou__   \n",
       "\n",
       "                                                                                                                                                                                                              Distractor_5  \\\n",
       "0                                                                                                                                               thx __eou__ unfortun the program be n't instal from the repositori __eou__   \n",
       "1                                        not the case , lts be everi other .04 releas . the .04 be n't alway more stabl __eou__ i would reinstal with precis __eou__ you can restor user data and such from backup __eou__   \n",
       "2  whi do u need analyz __eou__ it be a toy __eou__ ok msp301 __eou__ but y , i mean it be the same ubunut , onli with older program __eou__ ubuntu 804 or 1204 __eou__ no i dont use 804 __eou__ i be ask hypo qs __eou__   \n",
       "3                                                                                                                                                                                                   i tar all of ~ __eou__   \n",
       "4                                                                                                                                                                     so i load up putti gui , then what do i do ? __eou__   \n",
       "\n",
       "                                                                                                                                                                  Distractor_6  \\\n",
       "0                                                                                                                        how can i check ? by do a recoveri for test ? __eou__   \n",
       "1                                                                                                                                                          pretti much __eou__   \n",
       "2                                                                                                     cntrl-c may stop the command but it doe n't fix my hdd problem . __eou__   \n",
       "3  i do n't realli know if i can help , but i be curious . lol __eou__ that 's cool . i ll look into it . now , we better stop talk about this sinc it 's offtop . : p __eou__   \n",
       "4                                                                                                                you should read error messag , it say be you root ? ' __eou__   \n",
       "\n",
       "                                                                                                                                                    Distractor_7  \\\n",
       "0                                                                                                                                        my humbl apolog __eou__   \n",
       "1                                                                                                                      i use the one i download from amd __eou__   \n",
       "2  if you re onli go to run ubuntu , just get a normal pc rather than a mac __eou__ that say , i 'm run it on a macbook , becaus i get one relat cheapli __eou__   \n",
       "3                                                                                                                          that work just fine , thank ! __eou__   \n",
       "4                                                       wait the colleg semest to close just to make sure i will not need to reconfigur my environ again __eou__   \n",
       "\n",
       "                                                                                                                Distractor_8  \n",
       "0                                                                                                    # ubuntu-offtop __eou__  \n",
       "1  ffmpeg be part of the packag , quixotedon , at least i 'm quit sure it still be __eou__ if not just instal ffmpeg __eou__  \n",
       "2                  the one which be not pick up at the moment be on stderr and not stdout and > be onli cover stdout __eou__  \n",
       "3                                                                                                          thank you __eou__  \n",
       "4                                         i be call myself a jerk . all i know be that you download a game success . __eou__  "
      ]
     },
     "execution_count": 10,
     "metadata": {},
     "output_type": "execute_result"
    }
   ],
   "source": [
    "pd.options.display.max_colwidth = 500\n",
    "test_df.head()"
   ]
  },
  {
   "cell_type": "code",
   "execution_count": 11,
   "metadata": {
    "collapsed": false
   },
   "outputs": [
    {
     "data": {
      "text/html": [
       "<div>\n",
       "<table border=\"1\" class=\"dataframe\">\n",
       "  <thead>\n",
       "    <tr style=\"text-align: right;\">\n",
       "      <th></th>\n",
       "      <th>Context</th>\n",
       "      <th>Ground Truth Utterance</th>\n",
       "      <th>Distractor_0</th>\n",
       "      <th>Distractor_1</th>\n",
       "      <th>Distractor_2</th>\n",
       "      <th>Distractor_3</th>\n",
       "      <th>Distractor_4</th>\n",
       "      <th>Distractor_5</th>\n",
       "      <th>Distractor_6</th>\n",
       "      <th>Distractor_7</th>\n",
       "      <th>Distractor_8</th>\n",
       "    </tr>\n",
       "  </thead>\n",
       "  <tbody>\n",
       "    <tr>\n",
       "      <th>count</th>\n",
       "      <td>18920</td>\n",
       "      <td>18920</td>\n",
       "      <td>18920</td>\n",
       "      <td>18920</td>\n",
       "      <td>18920</td>\n",
       "      <td>18920</td>\n",
       "      <td>18920</td>\n",
       "      <td>18920</td>\n",
       "      <td>18920</td>\n",
       "      <td>18920</td>\n",
       "      <td>18920</td>\n",
       "    </tr>\n",
       "    <tr>\n",
       "      <th>unique</th>\n",
       "      <td>18920</td>\n",
       "      <td>17914</td>\n",
       "      <td>13982</td>\n",
       "      <td>13902</td>\n",
       "      <td>14077</td>\n",
       "      <td>14041</td>\n",
       "      <td>14101</td>\n",
       "      <td>14072</td>\n",
       "      <td>13969</td>\n",
       "      <td>13975</td>\n",
       "      <td>14123</td>\n",
       "    </tr>\n",
       "    <tr>\n",
       "      <th>top</th>\n",
       "      <td>can anyon help me with python __eou__ i have instal python3 on 12.04 but python -v still show 2.7 instal __eou__ __eot__ better call turtl man he isgood with python __eou__ dpkg -l | grep python you probabl have both version __eou__ __eot__ yes that true i have both version .. how do i make python3 default ? __eou__ __eot__ guest2493 do you need both ? could apt-get remov python2.7 perhap __eou__ __eot__ i can do that.. i be scare that the system shouldnt crash due to that as a lot of thing ...</td>\n",
       "      <td>thank __eou__</td>\n",
       "      <td>thank __eou__</td>\n",
       "      <td>thank __eou__</td>\n",
       "      <td>thank __eou__</td>\n",
       "      <td>thank __eou__</td>\n",
       "      <td>thank __eou__</td>\n",
       "      <td>thank __eou__</td>\n",
       "      <td>thank __eou__</td>\n",
       "      <td>thank __eou__</td>\n",
       "      <td>thank __eou__</td>\n",
       "    </tr>\n",
       "    <tr>\n",
       "      <th>freq</th>\n",
       "      <td>1</td>\n",
       "      <td>186</td>\n",
       "      <td>176</td>\n",
       "      <td>186</td>\n",
       "      <td>194</td>\n",
       "      <td>195</td>\n",
       "      <td>167</td>\n",
       "      <td>197</td>\n",
       "      <td>190</td>\n",
       "      <td>188</td>\n",
       "      <td>201</td>\n",
       "    </tr>\n",
       "  </tbody>\n",
       "</table>\n",
       "</div>"
      ],
      "text/plain": [
       "                                                                                                                                                                                                                                                                                                                                                                                                                                                                                                                    Context  \\\n",
       "count                                                                                                                                                                                                                                                                                                                                                                                                                                                                                                                 18920   \n",
       "unique                                                                                                                                                                                                                                                                                                                                                                                                                                                                                                                18920   \n",
       "top     can anyon help me with python __eou__ i have instal python3 on 12.04 but python -v still show 2.7 instal __eou__ __eot__ better call turtl man he isgood with python __eou__ dpkg -l | grep python you probabl have both version __eou__ __eot__ yes that true i have both version .. how do i make python3 default ? __eou__ __eot__ guest2493 do you need both ? could apt-get remov python2.7 perhap __eou__ __eot__ i can do that.. i be scare that the system shouldnt crash due to that as a lot of thing ...   \n",
       "freq                                                                                                                                                                                                                                                                                                                                                                                                                                                                                                                      1   \n",
       "\n",
       "       Ground Truth Utterance   Distractor_0   Distractor_1   Distractor_2  \\\n",
       "count                   18920          18920          18920          18920   \n",
       "unique                  17914          13982          13902          14077   \n",
       "top             thank __eou__  thank __eou__  thank __eou__  thank __eou__   \n",
       "freq                      186            176            186            194   \n",
       "\n",
       "         Distractor_3   Distractor_4   Distractor_5   Distractor_6  \\\n",
       "count           18920          18920          18920          18920   \n",
       "unique          14041          14101          14072          13969   \n",
       "top     thank __eou__  thank __eou__  thank __eou__  thank __eou__   \n",
       "freq              195            167            197            190   \n",
       "\n",
       "         Distractor_7   Distractor_8  \n",
       "count           18920          18920  \n",
       "unique          13975          14123  \n",
       "top     thank __eou__  thank __eou__  \n",
       "freq              188            201  "
      ]
     },
     "execution_count": 11,
     "metadata": {},
     "output_type": "execute_result"
    }
   ],
   "source": [
    "test_df.describe()"
   ]
  }
 ],
 "metadata": {
  "kernelspec": {
   "display_name": "Python 3",
   "language": "python",
   "name": "python3"
  },
  "language_info": {
   "codemirror_mode": {
    "name": "ipython",
    "version": 3
   },
   "file_extension": ".py",
   "mimetype": "text/x-python",
   "name": "python",
   "nbconvert_exporter": "python",
   "pygments_lexer": "ipython3",
   "version": "3.6.0"
  }
 },
 "nbformat": 4,
 "nbformat_minor": 0
}
