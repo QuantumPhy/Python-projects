{
 "cells": [
  {
   "cell_type": "markdown",
   "metadata": {
    "deletable": true,
    "editable": true
   },
   "source": [
    "# Sentiment Analysis"
   ]
  },
  {
   "cell_type": "markdown",
   "metadata": {
    "deletable": true,
    "editable": true
   },
   "source": [
    "\n",
    "\n",
    "MY FUNCTIONS"
   ]
  },
  {
   "cell_type": "code",
   "execution_count": 1,
   "metadata": {
    "collapsed": true,
    "deletable": true,
    "editable": true
   },
   "outputs": [],
   "source": [
    "def sentence(data):\n",
    "    data=data.replace('?','.').replace('!','.').split('.')\n",
    "    data = [title.strip() for title in data]\n",
    "    data.pop()\n",
    "    return data"
   ]
  },
  {
   "cell_type": "markdown",
   "metadata": {
    "deletable": true,
    "editable": true
   },
   "source": [
    "word count"
   ]
  },
  {
   "cell_type": "code",
   "execution_count": 2,
   "metadata": {
    "collapsed": false,
    "deletable": true,
    "editable": true
   },
   "outputs": [],
   "source": [
    "def words(data):\n",
    "    data=[title.lower().replace(',','').split(' ') for title in data]\n",
    "    return data"
   ]
  },
  {
   "cell_type": "markdown",
   "metadata": {
    "deletable": true,
    "editable": true
   },
   "source": [
    "Main function"
   ]
  },
  {
   "cell_type": "code",
   "execution_count": 3,
   "metadata": {
    "collapsed": false,
    "deletable": true,
    "editable": true
   },
   "outputs": [
    {
     "data": {
      "text/plain": [
       "[('the', 0.054568409950968545),\n",
       " ('a', 0.027863928837628303),\n",
       " ('and', 0.024539389954720693),\n",
       " ('of', 0.024317979383464517),\n",
       " ('to', 0.0238945950468258),\n",
       " ('is', 0.01764439434067819),\n",
       " ('in', 0.01576409464203319),\n",
       " ('that', 0.01146518022989516),\n",
       " ('it', 0.009142904467254052),\n",
       " ('with', 0.007804300097522061)]"
      ]
     },
     "execution_count": 3,
     "metadata": {},
     "output_type": "execute_result"
    }
   ],
   "source": [
    "from collections import Counter\n",
    "d=Counter()\n",
    "f=open(\"txt_sentoken/neg/output.txt\",\"r\")\n",
    "content=f.read()\n",
    "senten=sentence(content)\n",
    "wordlist=words(senten)\n",
    "wordcounter=0\n",
    "for sen in wordlist:\n",
    "    count=0\n",
    "    megj=0\n",
    "    for word in sen:\n",
    "        if word!='' and word!='\"' and word!='(' and word!=')'and word!=':'and word!=';'and word!='-':\n",
    "            if megj==1:\n",
    "                d[\"NOT_\"+word]+=1\n",
    "                count+=1\n",
    "                wordcounter+=1\n",
    "            else:\n",
    "                d[word]+=1\n",
    "                wordcounter+=1\n",
    "            if word[-3:len(word)]==\"n't\":\n",
    "                megj=1\n",
    "            if count==2:\n",
    "                megj=0\n",
    "                count=0\n",
    "Prob=Counter()\n",
    "for word in d:\n",
    "    Prob[word]=(d[word]+1)/(wordcounter+len(d))\n",
    "Prob.most_common(10)\n",
    "    \n",
    "\n"
   ]
  },
  {
   "cell_type": "markdown",
   "metadata": {
    "deletable": true,
    "editable": true
   },
   "source": [
    "positive part"
   ]
  },
  {
   "cell_type": "code",
   "execution_count": 4,
   "metadata": {
    "collapsed": false,
    "deletable": true,
    "editable": true
   },
   "outputs": [
    {
     "data": {
      "text/plain": [
       "[('the', 0.05810404931945931),\n",
       " ('a', 0.028324910655272654),\n",
       " ('and', 0.027995899793527405),\n",
       " ('of', 0.02624556200904268),\n",
       " ('to', 0.02302125556393924),\n",
       " ('is', 0.01991831757005738),\n",
       " ('in', 0.016343066205759007),\n",
       " ('that', 0.01089172179426439),\n",
       " ('as', 0.009033175993027893),\n",
       " ('it', 0.00895860019769897)]"
      ]
     },
     "execution_count": 4,
     "metadata": {},
     "output_type": "execute_result"
    }
   ],
   "source": [
    "from collections import Counter\n",
    "dpos=Counter()\n",
    "f=open(\"txt_sentoken/pos/output.txt\",\"r\")\n",
    "content=f.read()\n",
    "senten=sentence(content)\n",
    "wordlist=words(senten)\n",
    "wordcounter=0\n",
    "for sen in wordlist:\n",
    "    count=0\n",
    "    megj=0\n",
    "    for word in sen:\n",
    "        if word!='' and word!='\"' and word!='(' and word!=')'and word!=':'and word!=';'and word!='-':\n",
    "            if megj==1:\n",
    "                dpos[\"NOT_\"+word]+=1\n",
    "                count+=1\n",
    "                wordcounter+=1\n",
    "            else:\n",
    "                dpos[word]+=1\n",
    "                wordcounter+=1\n",
    "            if word[-3:len(word)]==\"n't\":\n",
    "                megj=1\n",
    "            if count==2:\n",
    "                megj=0\n",
    "                count=0\n",
    "Probpos=Counter()\n",
    "for word in dpos:\n",
    "    Probpos[word]=(dpos[word]+1)/(wordcounter+len(dpos))\n",
    "Probpos.most_common(10)"
   ]
  },
  {
   "cell_type": "markdown",
   "metadata": {
    "deletable": true,
    "editable": true
   },
   "source": [
    "### NEW TEXT\n",
    "\n"
   ]
  },
  {
   "cell_type": "code",
   "execution_count": 5,
   "metadata": {
    "collapsed": false,
    "deletable": true,
    "editable": true
   },
   "outputs": [
    {
     "name": "stdout",
     "output_type": "stream",
     "text": [
      "test_pos\n",
      "-2915.7110073541357 -2923.202598875962\n"
     ]
    }
   ],
   "source": [
    "from collections import Counter\n",
    "import math\n",
    "\n",
    "dtest=Counter()\n",
    "f=open(\"txt_sentoken/own_test.txt\",\"r\")\n",
    "content=f.read()\n",
    "senten=sentence(content)\n",
    "wordlist=words(senten)\n",
    "wordcounter=0\n",
    "for sen in wordlist:\n",
    "    count=0\n",
    "    megj=0\n",
    "    for word in sen:\n",
    "        if word!='' and word!='\"' and word!='(' and word!=')'and word!=':'and word!=';'and word!='-':\n",
    "            if megj==1:\n",
    "                dtest[\"NOT_\"+word]+=1\n",
    "                count+=1\n",
    "                wordcounter+=1\n",
    "            else:\n",
    "                dtest[word]+=1\n",
    "                wordcounter+=1\n",
    "            if word[-3:len(word)]==\"n't\":\n",
    "                megj=1\n",
    "            if count==2:\n",
    "                megj=0\n",
    "                count=0\n",
    "\n",
    "test_pos=0\n",
    "test_neg=0\n",
    "for word in dtest:\n",
    "    if word in Probpos and word in Prob:\n",
    "        test_pos+=math.log(Probpos[word])\n",
    "        test_neg+=math.log(Prob[word])\n",
    "if test_pos>test_neg:\n",
    "    print(\"test_pos\")\n",
    "else: print(\"test_neg\")\n",
    "print(test_pos,test_neg)"
   ]
  }
 ],
 "metadata": {
  "kernelspec": {
   "display_name": "Python 3",
   "language": "python",
   "name": "python3"
  },
  "language_info": {
   "codemirror_mode": {
    "name": "ipython",
    "version": 3
   },
   "file_extension": ".py",
   "mimetype": "text/x-python",
   "name": "python",
   "nbconvert_exporter": "python",
   "pygments_lexer": "ipython3",
   "version": "3.6.0"
  }
 },
 "nbformat": 4,
 "nbformat_minor": 0
}
