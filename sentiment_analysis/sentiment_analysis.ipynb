{
 "cells": [
  {
   "cell_type": "markdown",
   "metadata": {
    "deletable": true,
    "editable": true
   },
   "source": [
    "# Day 6-7. Object oriented programming in Python\n",
    "\n",
    "Python has been object oriented since its first version. In Python basically everything is an object including class definitions, functions and modules.\n",
    "\n",
    "PEP8 covers style guidelines for classes as well and we shall use them in our examples."
   ]
  },
  {
   "cell_type": "markdown",
   "metadata": {
    "deletable": true,
    "editable": true
   },
   "source": [
    "## Defining classes\n",
    "\n",
    "MY FUNCTIONS"
   ]
  },
  {
   "cell_type": "code",
   "execution_count": 1,
   "metadata": {
    "collapsed": true,
    "deletable": true,
    "editable": true
   },
   "outputs": [],
   "source": [
    "def sentence(data):\n",
    "    data=data.replace('?','.').replace('!','.').split('.')\n",
    "    data = [title.strip() for title in data]\n",
    "    data.pop()\n",
    "    return data"
   ]
  },
  {
   "cell_type": "markdown",
   "metadata": {
    "deletable": true,
    "editable": true
   },
   "source": [
    "word count"
   ]
  },
  {
   "cell_type": "code",
   "execution_count": 2,
   "metadata": {
    "collapsed": false,
    "deletable": true,
    "editable": true
   },
   "outputs": [],
   "source": [
    "def words(data):\n",
    "    data=[title.lower().replace(',','').split(' ') for title in data]\n",
    "    return data"
   ]
  },
  {
   "cell_type": "markdown",
   "metadata": {
    "deletable": true,
    "editable": true
   },
   "source": [
    "Main function"
   ]
  },
  {
   "cell_type": "code",
   "execution_count": 3,
   "metadata": {
    "collapsed": false,
    "deletable": true,
    "editable": true
   },
   "outputs": [
    {
     "data": {
      "text/plain": [
       "[('the', 0.054568409950968545),\n",
       " ('a', 0.027863928837628303),\n",
       " ('and', 0.024539389954720693),\n",
       " ('of', 0.024317979383464517),\n",
       " ('to', 0.0238945950468258),\n",
       " ('is', 0.01764439434067819),\n",
       " ('in', 0.01576409464203319),\n",
       " ('that', 0.01146518022989516),\n",
       " ('it', 0.009142904467254052),\n",
       " ('with', 0.007804300097522061)]"
      ]
     },
     "execution_count": 3,
     "metadata": {},
     "output_type": "execute_result"
    }
   ],
   "source": [
    "from collections import Counter\n",
    "d=Counter()\n",
    "f=open(\"txt_sentoken/neg/output.txt\",\"r\")\n",
    "content=f.read()\n",
    "senten=sentence(content)\n",
    "wordlist=words(senten)\n",
    "wordcounter=0\n",
    "for sen in wordlist:\n",
    "    count=0\n",
    "    megj=0\n",
    "    for word in sen:\n",
    "        if word!='' and word!='\"' and word!='(' and word!=')'and word!=':'and word!=';'and word!='-':\n",
    "            if megj==1:\n",
    "                d[\"NOT_\"+word]+=1\n",
    "                count+=1\n",
    "                wordcounter+=1\n",
    "            else:\n",
    "                d[word]+=1\n",
    "                wordcounter+=1\n",
    "            if word[-3:len(word)]==\"n't\":\n",
    "                megj=1\n",
    "            if count==2:\n",
    "                megj=0\n",
    "                count=0\n",
    "Prob=Counter()\n",
    "for word in d:\n",
    "    Prob[word]=(d[word]+1)/(wordcounter+len(d))\n",
    "Prob.most_common(10)\n",
    "    \n",
    "\n"
   ]
  },
  {
   "cell_type": "markdown",
   "metadata": {
    "deletable": true,
    "editable": true
   },
   "source": [
    "positive part"
   ]
  },
  {
   "cell_type": "code",
   "execution_count": 4,
   "metadata": {
    "collapsed": false,
    "deletable": true,
    "editable": true
   },
   "outputs": [
    {
     "data": {
      "text/plain": [
       "[('the', 0.05810404931945931),\n",
       " ('a', 0.028324910655272654),\n",
       " ('and', 0.027995899793527405),\n",
       " ('of', 0.02624556200904268),\n",
       " ('to', 0.02302125556393924),\n",
       " ('is', 0.01991831757005738),\n",
       " ('in', 0.016343066205759007),\n",
       " ('that', 0.01089172179426439),\n",
       " ('as', 0.009033175993027893),\n",
       " ('it', 0.00895860019769897)]"
      ]
     },
     "execution_count": 4,
     "metadata": {},
     "output_type": "execute_result"
    }
   ],
   "source": [
    "from collections import Counter\n",
    "dpos=Counter()\n",
    "f=open(\"txt_sentoken/pos/output.txt\",\"r\")\n",
    "content=f.read()\n",
    "senten=sentence(content)\n",
    "wordlist=words(senten)\n",
    "wordcounter=0\n",
    "for sen in wordlist:\n",
    "    count=0\n",
    "    megj=0\n",
    "    for word in sen:\n",
    "        if word!='' and word!='\"' and word!='(' and word!=')'and word!=':'and word!=';'and word!='-':\n",
    "            if megj==1:\n",
    "                dpos[\"NOT_\"+word]+=1\n",
    "                count+=1\n",
    "                wordcounter+=1\n",
    "            else:\n",
    "                dpos[word]+=1\n",
    "                wordcounter+=1\n",
    "            if word[-3:len(word)]==\"n't\":\n",
    "                megj=1\n",
    "            if count==2:\n",
    "                megj=0\n",
    "                count=0\n",
    "Probpos=Counter()\n",
    "for word in dpos:\n",
    "    Probpos[word]=(dpos[word]+1)/(wordcounter+len(dpos))\n",
    "Probpos.most_common(10)"
   ]
  },
  {
   "cell_type": "markdown",
   "metadata": {
    "deletable": true,
    "editable": true
   },
   "source": [
    "### NEW TEXT\n",
    "\n"
   ]
  },
  {
   "cell_type": "code",
   "execution_count": 6,
   "metadata": {
    "collapsed": false,
    "deletable": true,
    "editable": true
   },
   "outputs": [
    {
     "name": "stdout",
     "output_type": "stream",
     "text": [
      "test_pos\n",
      "-2915.7110073541353 -2923.2025988759624\n"
     ]
    }
   ],
   "source": [
    "from collections import Counter\n",
    "import math\n",
    "\n",
    "dtest=Counter()\n",
    "f=open(\"txt_sentoken/own_test.txt\",\"r\")\n",
    "content=f.read()\n",
    "senten=sentence(content)\n",
    "wordlist=words(senten)\n",
    "wordcounter=0\n",
    "for sen in wordlist:\n",
    "    count=0\n",
    "    megj=0\n",
    "    for word in sen:\n",
    "        if word!='' and word!='\"' and word!='(' and word!=')'and word!=':'and word!=';'and word!='-':\n",
    "            if megj==1:\n",
    "                dtest[\"NOT_\"+word]+=1\n",
    "                count+=1\n",
    "                wordcounter+=1\n",
    "            else:\n",
    "                dtest[word]+=1\n",
    "                wordcounter+=1\n",
    "            if word[-3:len(word)]==\"n't\":\n",
    "                megj=1\n",
    "            if count==2:\n",
    "                megj=0\n",
    "                count=0\n",
    "\n",
    "test_pos=0\n",
    "test_neg=0\n",
    "for word in dtest:\n",
    "    if word in Probpos and word in Prob:\n",
    "        test_pos+=math.log(Probpos[word])\n",
    "        test_neg+=math.log(Prob[word])\n",
    "if test_pos>test_neg:\n",
    "    print(\"test_pos\")\n",
    "else: print(\"test_neg\")\n",
    "print(test_pos,test_neg)"
   ]
  },
  {
   "cell_type": "markdown",
   "metadata": {
    "deletable": true,
    "editable": true
   },
   "source": [
    "## Method attributes\n",
    "\n",
    "Methods are defined as functions inside the class definition. It is possible to define methods outside the class definitions but it greatly reduces the code's readability.\n",
    "\n",
    "Methods always explicitely take the instance as the first parameter, which is usually called self."
   ]
  },
  {
   "cell_type": "code",
   "execution_count": 5,
   "metadata": {
    "collapsed": false,
    "deletable": true,
    "editable": true
   },
   "outputs": [
    {
     "name": "stdout",
     "output_type": "stream",
     "text": [
      "foo called\n",
      "bar called\n"
     ]
    }
   ],
   "source": [
    "class A:\n",
    "    def foo(self):\n",
    "        print(\"foo called\")\n",
    "    \n",
    "    def bar(param):\n",
    "        print(\"bar called\")\n",
    "        \n",
    "c = A()\n",
    "c.foo()\n",
    "c.bar()"
   ]
  },
  {
   "cell_type": "markdown",
   "metadata": {
    "deletable": true,
    "editable": true
   },
   "source": [
    "Methods can be called via the class name with the instance as an explicit parameter."
   ]
  },
  {
   "cell_type": "code",
   "execution_count": 6,
   "metadata": {
    "collapsed": false,
    "deletable": true,
    "editable": true
   },
   "outputs": [
    {
     "name": "stdout",
     "output_type": "stream",
     "text": [
      "foo called\n",
      "bar called\n"
     ]
    }
   ],
   "source": [
    "A.foo(c)\n",
    "A.bar(c)"
   ]
  },
  {
   "cell_type": "markdown",
   "metadata": {
    "collapsed": true,
    "deletable": true,
    "editable": true
   },
   "source": [
    "## Special attributes\n",
    "\n",
    "Special attributes are created automatically for every object and they use the *dunder* notation (two leading and two trailing underscores). These are attributes that provide access to the implementation and are not intended for general use. Their definition may change in the future.\n",
    "\n",
    "We will provide a more detailed discussion later, for now, we only use the **\\_\\_dict\\_\\_** attribute. **\\_\\_dict\\_\\_** is the namespace of the attribute."
   ]
  },
  {
   "cell_type": "code",
   "execution_count": null,
   "metadata": {
    "collapsed": false,
    "deletable": true,
    "editable": true
   },
   "outputs": [],
   "source": [
    "A.__dict__"
   ]
  },
  {
   "cell_type": "markdown",
   "metadata": {
    "deletable": true,
    "editable": true
   },
   "source": [
    "### Data hiding with name mangling\n",
    "\n",
    "By default every attribute is public and there is no native support for private variables, however, Python provides limited support for private attributes via __name mangling__.\n",
    "\n",
    "Every attribute with at least two leading underscores and at most one trailing underscore is textually replaced with *\\_\\_classname_attrname*, where *classname* is the name of the class and *attrname* is the name of the attribute."
   ]
  },
  {
   "cell_type": "code",
   "execution_count": 9,
   "metadata": {
    "collapsed": false,
    "deletable": true,
    "editable": true
   },
   "outputs": [
    {
     "data": {
      "text/plain": [
       "{'_A__private_attr': 43}"
      ]
     },
     "execution_count": 9,
     "metadata": {},
     "output_type": "execute_result"
    }
   ],
   "source": [
    "class A:\n",
    "    def __init__(self):\n",
    "        self.__private_attr = 42\n",
    "        \n",
    "    def foo(self):\n",
    "        self.__private_attr += 1\n",
    "        \n",
    "a = A()\n",
    "a.foo()\n",
    "#a.__private_attr  # raises AttributeError\n",
    "a.__dict__"
   ]
  },
  {
   "cell_type": "markdown",
   "metadata": {
    "collapsed": true,
    "deletable": true,
    "editable": true
   },
   "source": [
    "## Class attributes\n",
    "\n",
    "So far, we only created instance attributes, but Python supports class attributes. These are roughly the same as static attributes in C\\+\\+."
   ]
  },
  {
   "cell_type": "code",
   "execution_count": 26,
   "metadata": {
    "collapsed": true,
    "deletable": true,
    "editable": true
   },
   "outputs": [],
   "source": [
    "class A:\n",
    "    class_attr = 42\n",
    "    \n",
    "    def __init__(self, value):\n",
    "        self.value = value\n",
    "        self.class_attr+=1\n",
    "       "
   ]
  },
  {
   "cell_type": "markdown",
   "metadata": {
    "deletable": true,
    "editable": true
   },
   "source": [
    "These attributes can be accessed both via an instance and via an instance:"
   ]
  },
  {
   "cell_type": "code",
   "execution_count": 27,
   "metadata": {
    "collapsed": false,
    "deletable": true,
    "editable": true
   },
   "outputs": [
    {
     "data": {
      "text/plain": [
       "43"
      ]
     },
     "execution_count": 27,
     "metadata": {},
     "output_type": "execute_result"
    }
   ],
   "source": [
    "a1 = A(12)\n",
    "a2 = A(13)\n",
    "a1.class_attr"
   ]
  },
  {
   "cell_type": "markdown",
   "metadata": {
    "deletable": true,
    "editable": true
   },
   "source": [
    "# Inheritance\n",
    "\n",
    "Python supports inheritance and multiple inheritance. A class may inherit from one or more classes, we shall refer to them as **base classes** and **subclass**.\n",
    "\n",
    "A minimal example looks like this:"
   ]
  },
  {
   "cell_type": "code",
   "execution_count": 28,
   "metadata": {
    "collapsed": false,
    "deletable": true,
    "editable": true
   },
   "outputs": [
    {
     "name": "stdout",
     "output_type": "stream",
     "text": [
      "False\n",
      "True\n",
      "True\n",
      "False\n"
     ]
    }
   ],
   "source": [
    "class A:\n",
    "    pass\n",
    "\n",
    "class B(A):\n",
    "    pass\n",
    "\n",
    "a = A()\n",
    "b = B()\n",
    "print(isinstance(a, B))\n",
    "print(isinstance(b, A))\n",
    "print(issubclass(B, A))\n",
    "print(issubclass(A, B))"
   ]
  },
  {
   "cell_type": "markdown",
   "metadata": {
    "deletable": true,
    "editable": true
   },
   "source": [
    "## New style vs. old style classes\n",
    "\n",
    "Python has been object oriented since its inception. As of Python 2.2 a new inheritance mechanism, called new style classes was introduced, bringing a wide range of functionality previously unavailable. The new style is the recommended style but old style classes were kept for backward compatibility. Python 3.x only supports new style classes.\n",
    "\n",
    "The differences between old style and new style classes are listed here: https://wiki.python.org/moin/NewClassVsClassicClass\n",
    "\n",
    "We shall only use new style classes from here on.\n",
    "\n",
    "A class is new style class if it inherits from **object** or one of its base classes inherits from **object**."
   ]
  },
  {
   "cell_type": "code",
   "execution_count": null,
   "metadata": {
    "collapsed": true,
    "deletable": true,
    "editable": true
   },
   "outputs": [],
   "source": [
    "class OldStyleClass:\n",
    "    pass\n",
    "\n",
    "class NewStyleClass(object):\n",
    "    pass\n",
    "\n",
    "class ThisIsAlsoNewStyleClass(NewStyleClass):\n",
    "    pass"
   ]
  },
  {
   "cell_type": "markdown",
   "metadata": {
    "deletable": true,
    "editable": true
   },
   "source": [
    "Old style classes were removed in Python 3 and all classes implicitely inherit from `object`."
   ]
  },
  {
   "cell_type": "code",
   "execution_count": 29,
   "metadata": {
    "collapsed": false,
    "deletable": true,
    "editable": true
   },
   "outputs": [
    {
     "name": "stdout",
     "output_type": "stream",
     "text": [
      "True\n",
      "True\n"
     ]
    }
   ],
   "source": [
    "\n",
    "\n",
    "class A: pass\n",
    "class B(object): pass\n",
    "\n",
    "print(issubclass(A, object))\n",
    "print(issubclass(B, object))"
   ]
  },
  {
   "cell_type": "markdown",
   "metadata": {
    "deletable": true,
    "editable": true
   },
   "source": [
    "## Inheritance (cont.)"
   ]
  },
  {
   "cell_type": "markdown",
   "metadata": {
    "deletable": true,
    "editable": true
   },
   "source": [
    "Methods are inherited in the usual way"
   ]
  },
  {
   "cell_type": "code",
   "execution_count": 30,
   "metadata": {
    "collapsed": false,
    "deletable": true,
    "editable": true
   },
   "outputs": [
    {
     "name": "stdout",
     "output_type": "stream",
     "text": [
      "B.foo was called\n",
      "A.bar was called\n"
     ]
    }
   ],
   "source": [
    "class A(object):\n",
    "    def foo(self):\n",
    "        print(\"A.foo was called\")\n",
    "        \n",
    "    def bar(self):\n",
    "        print(\"A.bar was called\")\n",
    "        \n",
    "class B(A):\n",
    "    def foo(self):\n",
    "        print(\"B.foo was called\")\n",
    "        \n",
    "b = B()\n",
    "b.foo()\n",
    "b.bar()"
   ]
  },
  {
   "cell_type": "markdown",
   "metadata": {
    "deletable": true,
    "editable": true
   },
   "source": [
    "Since data attributes can be created anywhere, they are only inherited if the code in the base class' method is called."
   ]
  },
  {
   "cell_type": "code",
   "execution_count": 34,
   "metadata": {
    "collapsed": false,
    "deletable": true,
    "editable": true
   },
   "outputs": [
    {
     "name": "stdout",
     "output_type": "stream",
     "text": [
      "{}\n",
      "{}\n",
      "{'value': 42}\n"
     ]
    }
   ],
   "source": [
    "class A(object):\n",
    "    \n",
    "    def foo(self):\n",
    "        self.value = 42\n",
    "        \n",
    "class B(A):\n",
    "    pass\n",
    "\n",
    "b = B()\n",
    "print(b.__dict__)\n",
    "a = A()\n",
    "print(a.__dict__)\n",
    "b.foo()\n",
    "print(b.__dict__)"
   ]
  },
  {
   "cell_type": "markdown",
   "metadata": {
    "deletable": true,
    "editable": true
   },
   "source": [
    "Unlike in C++, the \\_\\_init\\_\\_ method of the base class is not called when a subclass is instantiated, if the subclass overrides the base class's \\_\\_init\\_\\_."
   ]
  },
  {
   "cell_type": "code",
   "execution_count": 32,
   "metadata": {
    "collapsed": false,
    "deletable": true,
    "editable": true
   },
   "outputs": [
    {
     "name": "stdout",
     "output_type": "stream",
     "text": [
      "B.__init__ called\n",
      "A.__init__ called\n"
     ]
    }
   ],
   "source": [
    "class A(object):\n",
    "    def __init__(self):\n",
    "        print(\"A.__init__ called\")\n",
    "        \n",
    "        \n",
    "class B(A):\n",
    "    def __init__(self):\n",
    "        print(\"B.__init__ called\")\n",
    "        \n",
    "class C(A):\n",
    "    pass\n",
    "        \n",
    "b = B()\n",
    "c = C()"
   ]
  },
  {
   "cell_type": "markdown",
   "metadata": {
    "deletable": true,
    "editable": true
   },
   "source": [
    "The base class's methods can be called in at least two ways:\n",
    "1. explicitely via the class name\n",
    "1. using the **super** function\n",
    "\n",
    "Using the super function, we do not need to name the base class, which will come in handy when dealing with multiple base classes.\n",
    "The super function is only available for new style classes."
   ]
  },
  {
   "cell_type": "code",
   "execution_count": 46,
   "metadata": {
    "collapsed": false,
    "deletable": true,
    "editable": true
   },
   "outputs": [
    {
     "name": "stdout",
     "output_type": "stream",
     "text": [
      "Instantiating B\n",
      "A.__init__ called\n",
      "B.__init__ called\n",
      "Instantiating C\n",
      "A.__init__ called\n",
      "C.__init__ called\n"
     ]
    }
   ],
   "source": [
    "class A(object):\n",
    "    def __init__(self):\n",
    "        print(\"A.__init__ called\")\n",
    "        \n",
    "        \n",
    "class B(A):\n",
    "    def __init__(self):\n",
    "        A.__init__(self)\n",
    "        print(\"B.__init__ called\")\n",
    "        \n",
    "class C(A):\n",
    "    def __init__(self):\n",
    "        super(C, self).__init__()\n",
    "        print(\"C.__init__ called\")\n",
    "        \n",
    "print(\"Instantiating B\")\n",
    "b = B()\n",
    "print(\"Instantiating C\")\n",
    "c = C()"
   ]
  },
  {
   "cell_type": "markdown",
   "metadata": {
    "deletable": true,
    "editable": true
   },
   "source": [
    "A complete example using super in the subclass's init:"
   ]
  },
  {
   "cell_type": "code",
   "execution_count": 48,
   "metadata": {
    "collapsed": false,
    "deletable": true,
    "editable": true
   },
   "outputs": [
    {
     "name": "stdout",
     "output_type": "stream",
     "text": [
      "Jakab Gipsz, age 33, position: manager, salary: 450000\n",
      "Jakab Gipsz, age 33\n"
     ]
    },
    {
     "data": {
      "text/plain": [
       "{'age': 33, 'name': 'Jakab Gipsz', 'position': 'manager', 'salary': 450000}"
      ]
     },
     "execution_count": 48,
     "metadata": {},
     "output_type": "execute_result"
    }
   ],
   "source": [
    "class Person(object):\n",
    "    \n",
    "    def __init__(self, name, age):\n",
    "        self.name = name\n",
    "        self.age = age\n",
    "        \n",
    "    def __str__(self):\n",
    "        return \"{0}, age {1}\".format(self.name, self.age)\n",
    "        \n",
    "class Employee(Person):\n",
    "    \n",
    "    def __init__(self, name, age, position, salary):\n",
    "        self.position = position\n",
    "        self.salary = salary\n",
    "        super(Employee, self).__init__(name, age)\n",
    "        \n",
    "    def __str__(self):\n",
    "        return \"{0}, position: {1}, salary: {2}\".format(super(Employee, self).__str__(), self.position, self.salary)\n",
    "    \n",
    "    \n",
    "e = Employee(\"Jakab Gipsz\", 33, \"manager\", 450000)\n",
    "print(e)\n",
    "print(Person(e.name, e.age))\n",
    "e.__dict__"
   ]
  },
  {
   "cell_type": "markdown",
   "metadata": {
    "deletable": true,
    "editable": true
   },
   "source": [
    "## Duck typing and interfaces\n",
    "\n",
    "There is no builtin mechanism for interfacing.\n",
    "\n",
    "Originally there was no separate mechanism for interface inheritance. The **Abstract Base Classes** package was introduced in Python2.6, which provides interface-like mechanisms.\n",
    "https://docs.python.org/2.7/library/abc.html\n",
    "\n",
    "\"In computer programming, duck typing is an application of the duck test in type safety. It requires that type checking be deferred to runtime, and is implemented by means of dynamic typing or reflection.\" -- [Wikipedia](https://en.wikipedia.org/wiki/Duck_typing)\n",
    "\n",
    "\"If it looks like a duck, swims like a duck, and quacks like a duck, then it probably is a duck.\" -- [Wikipedia](https://en.wikipedia.org/wiki/Duck_test)\n",
    "\n",
    "Duck typing allows polymorphism without the need for interfaces and abstract base classes."
   ]
  },
  {
   "cell_type": "code",
   "execution_count": 49,
   "metadata": {
    "collapsed": false,
    "deletable": true,
    "editable": true
   },
   "outputs": [
    {
     "name": "stdout",
     "output_type": "stream",
     "text": [
      "Mieuw\n",
      "Vau\n"
     ]
    }
   ],
   "source": [
    "class Cat(object):\n",
    "    \n",
    "    def make_sound(self):\n",
    "        self.mieuw()\n",
    "        \n",
    "    def mieuw(self):\n",
    "        print(\"Mieuw\")\n",
    "        \n",
    "        \n",
    "class Dog(object):\n",
    "    \n",
    "    def make_sound(self):\n",
    "        self.bark()\n",
    "        \n",
    "    def bark(self):\n",
    "        print(\"Vau\")\n",
    "        \n",
    "\n",
    "animals = [Cat(), Dog()]\n",
    "for animal in animals:\n",
    "    # animal must have a make_sound method\n",
    "    animal.make_sound()"
   ]
  },
  {
   "cell_type": "markdown",
   "metadata": {
    "deletable": true,
    "editable": true
   },
   "source": [
    "### NotImplementedError\n",
    "\n",
    "If we expect a subclass to implement a method, we can raise `NotImplementedError` in the base class. This roughly corresponds to C\\+\\+'s pure virtual function concept, although it does not prevent us from instantiating the base class."
   ]
  },
  {
   "cell_type": "code",
   "execution_count": 51,
   "metadata": {
    "collapsed": false,
    "deletable": true,
    "editable": true
   },
   "outputs": [
    {
     "name": "stdout",
     "output_type": "stream",
     "text": [
      "Yay.\n"
     ]
    },
    {
     "ename": "NotImplementedError",
     "evalue": "",
     "output_type": "error",
     "traceback": [
      "\u001b[0;31m---------------------------------------------------------------------------\u001b[0m",
      "\u001b[0;31mNotImplementedError\u001b[0m                       Traceback (most recent call last)",
      "\u001b[0;32m<ipython-input-51-4b55b6e97b74>\u001b[0m in \u001b[0;36m<module>\u001b[0;34m()\u001b[0m\n\u001b[1;32m     13\u001b[0m \u001b[1;33m\u001b[0m\u001b[0m\n\u001b[1;32m     14\u001b[0m \u001b[0mc\u001b[0m \u001b[1;33m=\u001b[0m \u001b[0mC\u001b[0m\u001b[1;33m(\u001b[0m\u001b[1;33m)\u001b[0m\u001b[1;33m\u001b[0m\u001b[0m\n\u001b[0;32m---> 15\u001b[0;31m \u001b[0mc\u001b[0m\u001b[1;33m.\u001b[0m\u001b[0mfoo\u001b[0m\u001b[1;33m(\u001b[0m\u001b[1;33m)\u001b[0m  \u001b[1;31m# NotImplementedError why does this happen?\u001b[0m\u001b[1;33m\u001b[0m\u001b[0m\n\u001b[0m",
      "\u001b[0;32m<ipython-input-51-4b55b6e97b74>\u001b[0m in \u001b[0;36mfoo\u001b[0;34m(self)\u001b[0m\n\u001b[1;32m      1\u001b[0m \u001b[1;32mclass\u001b[0m \u001b[0mA\u001b[0m\u001b[1;33m(\u001b[0m\u001b[0mobject\u001b[0m\u001b[1;33m)\u001b[0m\u001b[1;33m:\u001b[0m\u001b[1;33m\u001b[0m\u001b[0m\n\u001b[1;32m      2\u001b[0m     \u001b[1;32mdef\u001b[0m \u001b[0mfoo\u001b[0m\u001b[1;33m(\u001b[0m\u001b[0mself\u001b[0m\u001b[1;33m)\u001b[0m\u001b[1;33m:\u001b[0m\u001b[1;33m\u001b[0m\u001b[0m\n\u001b[0;32m----> 3\u001b[0;31m         \u001b[1;32mraise\u001b[0m \u001b[0mNotImplementedError\u001b[0m\u001b[1;33m(\u001b[0m\u001b[1;33m)\u001b[0m\u001b[1;33m\u001b[0m\u001b[0m\n\u001b[0m\u001b[1;32m      4\u001b[0m \u001b[1;33m\u001b[0m\u001b[0m\n\u001b[1;32m      5\u001b[0m \u001b[1;32mclass\u001b[0m \u001b[0mB\u001b[0m\u001b[1;33m(\u001b[0m\u001b[0mA\u001b[0m\u001b[1;33m)\u001b[0m\u001b[1;33m:\u001b[0m\u001b[1;33m\u001b[0m\u001b[0m\n",
      "\u001b[0;31mNotImplementedError\u001b[0m: "
     ]
    }
   ],
   "source": [
    "class A(object):\n",
    "    def foo(self):\n",
    "        raise NotImplementedError()\n",
    "        \n",
    "class B(A):\n",
    "    def foo(self):\n",
    "        print(\"Yay.\")\n",
    "        \n",
    "class C(A): pass\n",
    "\n",
    "b = B()\n",
    "b.foo()\n",
    "\n",
    "c = C()\n",
    "c.foo()  # NotImplementedError why does this happen?"
   ]
  },
  {
   "cell_type": "markdown",
   "metadata": {
    "deletable": true,
    "editable": true
   },
   "source": [
    "## Special or double underscore (*dunder*) attributes\n",
    "\n",
    "A number of methods and attributes are automatically created for every object, which enable higher level OO features such as operator overloading. So far, we used the `__dict__` method, which contains the namespace of each object."
   ]
  },
  {
   "cell_type": "code",
   "execution_count": 52,
   "metadata": {
    "collapsed": false,
    "deletable": true,
    "editable": true
   },
   "outputs": [
    {
     "data": {
      "text/plain": [
       "mappingproxy({'__dict__': <attribute '__dict__' of 'A' objects>,\n",
       "              '__doc__': None,\n",
       "              '__module__': '__main__',\n",
       "              '__weakref__': <attribute '__weakref__' of 'A' objects>})"
      ]
     },
     "execution_count": 52,
     "metadata": {},
     "output_type": "execute_result"
    }
   ],
   "source": [
    "class A(object):\n",
    "    pass\n",
    "\n",
    "A.__dict__"
   ]
  },
  {
   "cell_type": "markdown",
   "metadata": {
    "deletable": true,
    "editable": true
   },
   "source": [
    "The class object's namespace is populated but a new instance's namespace is empty, since the class does not initialize any attributes."
   ]
  },
  {
   "cell_type": "code",
   "execution_count": 53,
   "metadata": {
    "collapsed": false,
    "deletable": true,
    "editable": true
   },
   "outputs": [
    {
     "data": {
      "text/plain": [
       "{}"
      ]
     },
     "execution_count": 53,
     "metadata": {},
     "output_type": "execute_result"
    }
   ],
   "source": [
    "A().__dict__"
   ]
  },
  {
   "cell_type": "markdown",
   "metadata": {
    "deletable": true,
    "editable": true
   },
   "source": [
    "Let's create a more populous class definition"
   ]
  },
  {
   "cell_type": "code",
   "execution_count": 54,
   "metadata": {
    "collapsed": false,
    "deletable": true,
    "editable": true
   },
   "outputs": [
    {
     "data": {
      "text/plain": [
       "mappingproxy({'__dict__': <attribute '__dict__' of 'A' objects>,\n",
       "              '__doc__': None,\n",
       "              '__init__': <function __main__.A.__init__>,\n",
       "              '__module__': '__main__',\n",
       "              '__weakref__': <attribute '__weakref__' of 'A' objects>,\n",
       "              'foo': <function __main__.A.foo>})"
      ]
     },
     "execution_count": 54,
     "metadata": {},
     "output_type": "execute_result"
    }
   ],
   "source": [
    "class A(object):\n",
    "    def __init__(self, value=42):\n",
    "        self.param = value\n",
    "        \n",
    "    def foo(self):\n",
    "        print(self.param)\n",
    "        \n",
    "A.__dict__"
   ]
  },
  {
   "cell_type": "code",
   "execution_count": 55,
   "metadata": {
    "collapsed": false,
    "deletable": true,
    "editable": true
   },
   "outputs": [
    {
     "data": {
      "text/plain": [
       "{'param': 21}"
      ]
     },
     "execution_count": 55,
     "metadata": {},
     "output_type": "execute_result"
    }
   ],
   "source": [
    "a = A(21)\n",
    "a.__dict__"
   ]
  },
  {
   "cell_type": "markdown",
   "metadata": {
    "deletable": true,
    "editable": true
   },
   "source": [
    "Some attributes facilitate object introspection, such as `__class__` or `__code__`. We shall get back to object intrsopection later."
   ]
  },
  {
   "cell_type": "code",
   "execution_count": 56,
   "metadata": {
    "collapsed": false,
    "deletable": true,
    "editable": true
   },
   "outputs": [
    {
     "data": {
      "text/plain": [
       "(__main__.A,\n",
       " <code object foo at 0x000002812876C9C0, file \"<ipython-input-54-0f70248c0dfd>\", line 5>)"
      ]
     },
     "execution_count": 56,
     "metadata": {},
     "output_type": "execute_result"
    }
   ],
   "source": [
    "a.__class__, a.foo.__code__"
   ]
  },
  {
   "cell_type": "markdown",
   "metadata": {
    "deletable": true,
    "editable": true
   },
   "source": [
    "## Magic methods\n",
    "\n",
    "Magic methods are builtin methods for classes and modules that enable advanced customization such as operator overloading. They are numerous and we shall only introduce the most prevalent ones. Their names are always enclosed between two underscores. So far, we have used `__init__` as a 'contructor' and `__str__`."
   ]
  },
  {
   "cell_type": "code",
   "execution_count": 57,
   "metadata": {
    "collapsed": false,
    "deletable": true,
    "editable": true
   },
   "outputs": [
    {
     "name": "stdout",
     "output_type": "stream",
     "text": [
      "My id is 2753752821656 and my parameter is 345\n"
     ]
    }
   ],
   "source": [
    "class A(object):\n",
    "    def __init__(self, value=42):\n",
    "        self.param = value\n",
    "        \n",
    "    def __str__(self):\n",
    "        return \"My id is {0} and my parameter is {1}\".format(id(self), self.param)\n",
    "    \n",
    "print(A(345))"
   ]
  },
  {
   "cell_type": "markdown",
   "metadata": {
    "deletable": true,
    "editable": true
   },
   "source": [
    "The `__str__` method returns the string representation of the object, however we should be careful when handling non-ASCII characters. "
   ]
  },
  {
   "cell_type": "code",
   "execution_count": null,
   "metadata": {
    "collapsed": false,
    "deletable": true,
    "editable": true
   },
   "outputs": [],
   "source": [
    "# unicode(A(\"álmos\"))  # WHY does this raise a UnicodeDecodeError?\n",
    "# unicode(A(u\"álmos\"))  # WHY does this print garbage?"
   ]
  },
  {
   "cell_type": "markdown",
   "metadata": {
    "deletable": true,
    "editable": true
   },
   "source": [
    "Fortunately the \\_\\_unicode\\_\\_ method solves this issue"
   ]
  },
  {
   "cell_type": "code",
   "execution_count": 64,
   "metadata": {
    "collapsed": false,
    "deletable": true,
    "editable": true
   },
   "outputs": [
    {
     "ename": "NameError",
     "evalue": "name 'unicode' is not defined",
     "output_type": "error",
     "traceback": [
      "\u001b[0;31m---------------------------------------------------------------------------\u001b[0m",
      "\u001b[0;31mNameError\u001b[0m                                 Traceback (most recent call last)",
      "\u001b[0;32m<ipython-input-64-05a4c769d689>\u001b[0m in \u001b[0;36m<module>\u001b[0;34m()\u001b[0m\n\u001b[1;32m      9\u001b[0m         \u001b[1;32mreturn\u001b[0m \u001b[1;34mu\"My id is {0} and my parameter is {1}\"\u001b[0m\u001b[1;33m.\u001b[0m\u001b[0mformat\u001b[0m\u001b[1;33m(\u001b[0m\u001b[0mid\u001b[0m\u001b[1;33m(\u001b[0m\u001b[0mself\u001b[0m\u001b[1;33m)\u001b[0m\u001b[1;33m,\u001b[0m \u001b[0mself\u001b[0m\u001b[1;33m.\u001b[0m\u001b[0mparam\u001b[0m\u001b[1;33m)\u001b[0m\u001b[1;33m\u001b[0m\u001b[0m\n\u001b[1;32m     10\u001b[0m \u001b[1;33m\u001b[0m\u001b[0m\n\u001b[0;32m---> 11\u001b[0;31m \u001b[0mprint\u001b[0m\u001b[1;33m(\u001b[0m\u001b[0mA\u001b[0m\u001b[1;33m(\u001b[0m\u001b[1;34mu\"álmos\"\u001b[0m\u001b[1;33m)\u001b[0m\u001b[1;33m)\u001b[0m\u001b[1;33m\u001b[0m\u001b[0m\n\u001b[0m",
      "\u001b[0;32m<ipython-input-64-05a4c769d689>\u001b[0m in \u001b[0;36m__str__\u001b[0;34m(self)\u001b[0m\n\u001b[1;32m      4\u001b[0m \u001b[1;33m\u001b[0m\u001b[0m\n\u001b[1;32m      5\u001b[0m     \u001b[1;32mdef\u001b[0m \u001b[0m__str__\u001b[0m\u001b[1;33m(\u001b[0m\u001b[0mself\u001b[0m\u001b[1;33m)\u001b[0m\u001b[1;33m:\u001b[0m\u001b[1;33m\u001b[0m\u001b[0m\n\u001b[0;32m----> 6\u001b[0;31m         \u001b[1;32mreturn\u001b[0m \u001b[0municode\u001b[0m\u001b[1;33m(\u001b[0m\u001b[0mself\u001b[0m\u001b[1;33m)\u001b[0m\u001b[1;33m.\u001b[0m\u001b[0mencode\u001b[0m\u001b[1;33m(\u001b[0m\u001b[1;34m'utf-8'\u001b[0m\u001b[1;33m)\u001b[0m\u001b[1;33m\u001b[0m\u001b[0m\n\u001b[0m\u001b[1;32m      7\u001b[0m \u001b[1;33m\u001b[0m\u001b[0m\n\u001b[1;32m      8\u001b[0m     \u001b[1;32mdef\u001b[0m \u001b[0m__unicode__\u001b[0m\u001b[1;33m(\u001b[0m\u001b[0mself\u001b[0m\u001b[1;33m)\u001b[0m\u001b[1;33m:\u001b[0m\u001b[1;33m\u001b[0m\u001b[0m\n",
      "\u001b[0;31mNameError\u001b[0m: name 'unicode' is not defined"
     ]
    }
   ],
   "source": [
    "class A(object):\n",
    "    def __init__(self, value=42):\n",
    "        self.param = value\n",
    "        \n",
    "    def __str__(self):\n",
    "        return unicode(self).encode('utf-8')\n",
    "    \n",
    "    def __unicode__(self):\n",
    "        return u\"My id is {0} and my parameter is {1}\".format(id(self), self.param)\n",
    "    \n",
    "print(A(u\"álmos\"))"
   ]
  },
  {
   "cell_type": "markdown",
   "metadata": {
    "deletable": true,
    "editable": true
   },
   "source": [
    "### Operator overloading\n",
    "\n",
    "Common operators are mapped to magic functions and operator overloading can be achieved with defining or overloading these functions.\n",
    "\n",
    "A comprehensive list of operator functions are [here](https://docs.python.org/2/library/operator.html)."
   ]
  },
  {
   "cell_type": "code",
   "execution_count": 65,
   "metadata": {
    "collapsed": false,
    "deletable": true,
    "editable": true
   },
   "outputs": [
    {
     "data": {
      "text/plain": [
       "False"
      ]
     },
     "execution_count": 65,
     "metadata": {},
     "output_type": "execute_result"
    }
   ],
   "source": [
    "class Complex(object):\n",
    "    def __init__(self, real=0.0, imag=0.0):\n",
    "        self.real = real\n",
    "        self.imag = imag\n",
    "        \n",
    "    def __abs__(self):\n",
    "        return (self.real**2 + self.imag**2) ** 0.5\n",
    "    \n",
    "    def __eq__(self, other):  # right hand side\n",
    "        return self.real == other.real and self.imag == other.imag\n",
    "    \n",
    "    def __gt__(self, other):\n",
    "        return abs(self) > abs(other)\n",
    "    \n",
    "c1 = Complex()\n",
    "c2 = Complex(1, 1)\n",
    "c1 > c2"
   ]
  },
  {
   "cell_type": "markdown",
   "metadata": {
    "deletable": true,
    "editable": true
   },
   "source": [
    "## Shallow copy vs. deep copy\n",
    "\n",
    "There are 3 types of copying:\n",
    "\n",
    "1. the assignment operator (=) creates a new reference to the same object,\n",
    "1. `copy` performs shallow copy,\n",
    "1. `deepcopy` recursively deepcopies everything.\n",
    "\n",
    "The difference between shallow and deep copy is only relevant for compound objects.\n",
    "\n",
    "#### Assignment operator"
   ]
  },
  {
   "cell_type": "code",
   "execution_count": 104,
   "metadata": {
    "collapsed": false,
    "deletable": true,
    "editable": true
   },
   "outputs": [
    {
     "data": {
      "text/plain": [
       "True"
      ]
     },
     "execution_count": 104,
     "metadata": {},
     "output_type": "execute_result"
    }
   ],
   "source": [
    "l1 = [[1, 2], [3, 4, 5]]\n",
    "l2 = l1\n",
    "id(l1[0]) == id(l2[0])"
   ]
  },
  {
   "cell_type": "code",
   "execution_count": 106,
   "metadata": {
    "collapsed": false,
    "deletable": true,
    "editable": true
   },
   "outputs": [
    {
     "name": "stdout",
     "output_type": "stream",
     "text": [
      "[[10, 2], [3, 4, 5]]\n",
      "(4, 5, 6)\n"
     ]
    },
    {
     "data": {
      "text/plain": [
       "list"
      ]
     },
     "execution_count": 106,
     "metadata": {},
     "output_type": "execute_result"
    }
   ],
   "source": [
    "l1[0][0] = 10\n",
    "print(l2)\n",
    "b=(4,3,4)\n",
    "a=b\n",
    "b=(4,5,6)\n",
    "print(b)\n"
   ]
  },
  {
   "cell_type": "markdown",
   "metadata": {
    "deletable": true,
    "editable": true
   },
   "source": [
    "#### Shallow copy"
   ]
  },
  {
   "cell_type": "code",
   "execution_count": 68,
   "metadata": {
    "collapsed": false,
    "deletable": true,
    "editable": true
   },
   "outputs": [
    {
     "data": {
      "text/plain": [
       "(False, True)"
      ]
     },
     "execution_count": 68,
     "metadata": {},
     "output_type": "execute_result"
    }
   ],
   "source": [
    "from copy import copy\n",
    "\n",
    "l1 = [[1, 2], [3, 4, 5]]\n",
    "l2 = copy(l1)\n",
    "id(l1) == id(l2), id(l1[0]) == id(l2[0])"
   ]
  },
  {
   "cell_type": "code",
   "execution_count": 69,
   "metadata": {
    "collapsed": false,
    "deletable": true,
    "editable": true
   },
   "outputs": [
    {
     "data": {
      "text/plain": [
       "[[10, 2], [3, 4, 5]]"
      ]
     },
     "execution_count": 69,
     "metadata": {},
     "output_type": "execute_result"
    }
   ],
   "source": [
    "l1[0][0] = 10\n",
    "l2"
   ]
  },
  {
   "cell_type": "markdown",
   "metadata": {
    "deletable": true,
    "editable": true
   },
   "source": [
    "#### Deep copy"
   ]
  },
  {
   "cell_type": "code",
   "execution_count": 70,
   "metadata": {
    "collapsed": false,
    "deletable": true,
    "editable": true
   },
   "outputs": [
    {
     "data": {
      "text/plain": [
       "(False, False)"
      ]
     },
     "execution_count": 70,
     "metadata": {},
     "output_type": "execute_result"
    }
   ],
   "source": [
    "from copy import deepcopy\n",
    "\n",
    "l1 = [[1, 2], [3, 4, 5]]\n",
    "l2 = deepcopy(l1)\n",
    "id(l1) == id(l2), id(l1[0]) == id(l2[0])"
   ]
  },
  {
   "cell_type": "code",
   "execution_count": 71,
   "metadata": {
    "collapsed": false,
    "deletable": true,
    "editable": true
   },
   "outputs": [
    {
     "data": {
      "text/plain": [
       "[[1, 2], [3, 4, 5]]"
      ]
     },
     "execution_count": 71,
     "metadata": {},
     "output_type": "execute_result"
    }
   ],
   "source": [
    "l1[0][0] = 10\n",
    "l2"
   ]
  },
  {
   "cell_type": "markdown",
   "metadata": {
    "deletable": true,
    "editable": true
   },
   "source": [
    "We can add shallow and deep copy operations for our own classes:"
   ]
  },
  {
   "cell_type": "code",
   "execution_count": 72,
   "metadata": {
    "collapsed": false,
    "deletable": true,
    "editable": true
   },
   "outputs": [
    {
     "name": "stdout",
     "output_type": "stream",
     "text": [
      "[2, 3]\n",
      "ListOfLists copy called\n",
      "[[12, 2], [3, 4, 5]]\n",
      "ListOfLists deepcopy called\n"
     ]
    }
   ],
   "source": [
    "from copy import deepcopy\n",
    "\n",
    "class ListOfLists(object):\n",
    "    def __init__(self, lists):\n",
    "        self.lists = lists\n",
    "        self.list_lengths = [len(l) for l in self.lists]\n",
    "        \n",
    "    def __copy__(self):\n",
    "        print(\"ListOfLists copy called\")\n",
    "        return ListOfLists(self.lists)\n",
    "        \n",
    "    def __deepcopy__(self, memo):\n",
    "        print(\"ListOfLists deepcopy called\")\n",
    "        return ListOfLists(deepcopy(self.lists))\n",
    "        \n",
    "        \n",
    "l1 = ListOfLists([[1, 2], [3, 4, 5]])\n",
    "print(l1.list_lengths)\n",
    "l2 = copy(l1)\n",
    "l1.lists[0][0] = 12\n",
    "print(l2.lists)\n",
    "\n",
    "l3 = deepcopy(l1)"
   ]
  },
  {
   "cell_type": "markdown",
   "metadata": {
    "deletable": true,
    "editable": true
   },
   "source": [
    "However, these are very far from complete implementations. We need to take care of preventing infinite loops and support for pickling."
   ]
  },
  {
   "cell_type": "markdown",
   "metadata": {
    "deletable": true,
    "editable": true
   },
   "source": [
    "## Object creation and destruction: the `__new__` and the `__del__` method\n",
    "\n",
    "The `__new__` method is called to create a new instance of a class. `__new__` is a static method that takes the class object as a first parameter.\n",
    "\n",
    "Typical implementations create a new instance of the class by invoking the superclass’s `__new__()` method using `super(currentclass, cls).__new__(cls[, ...])` with appropriate arguments and then modifying the newly-created instance as necessary before returning it.\n",
    "\n",
    "`__new__` has to return an instance of `cls`, on which `__init__` is called.\n",
    "\n",
    "The `__del__` method is called when an object is about to be destroyed.\n",
    "Although technically a destructor, it is handled by the garbage collector.\n",
    "It is not guaranteed that `__del__()` methods are called for objects that still exist when the interpreter exits."
   ]
  },
  {
   "cell_type": "code",
   "execution_count": 73,
   "metadata": {
    "collapsed": false,
    "deletable": true,
    "editable": true
   },
   "outputs": [
    {
     "name": "stdout",
     "output_type": "stream",
     "text": [
      "A.__new__ called\n",
      "A.__init__ called\n",
      "A.__del__ called\n",
      "parent class does not have a __del__ method\n"
     ]
    }
   ],
   "source": [
    "class A(object):\n",
    "    \n",
    "    def __new__(cls, *args, **kwargs):\n",
    "        instance = super(A, cls).__new__(cls)\n",
    "        print(\"A.__new__ called\")\n",
    "        return instance\n",
    "    \n",
    "    def __init__(self):\n",
    "        print(\"A.__init__ called\")\n",
    "        \n",
    "    def __del__(self):\n",
    "        print(\"A.__del__ called\")\n",
    "        try:\n",
    "            super(A, self).__del__()\n",
    "        except AttributeError:\n",
    "            print(\"parent class does not have a __del__ method\")\n",
    "        \n",
    "        \n",
    "a = A()\n",
    "del a"
   ]
  },
  {
   "cell_type": "markdown",
   "metadata": {
    "deletable": true,
    "editable": true
   },
   "source": [
    "## Object introspection\n",
    "\n",
    "Python's dynamic nature enables very flexible object introspection, there is virtually nothing we cannot check at runtime.\n",
    "\n",
    "We can examine every object at runtime, including namespaces, functions, variables, classes and instances.\n",
    "\n",
    "The builtin **dir** function list every attribute of an object (recall that classes are objects too)."
   ]
  },
  {
   "cell_type": "code",
   "execution_count": 74,
   "metadata": {
    "collapsed": false,
    "deletable": true,
    "editable": true
   },
   "outputs": [
    {
     "data": {
      "text/plain": [
       "['__class__',\n",
       " '__delattr__',\n",
       " '__dict__',\n",
       " '__dir__',\n",
       " '__doc__',\n",
       " '__eq__',\n",
       " '__format__',\n",
       " '__ge__',\n",
       " '__getattribute__',\n",
       " '__gt__',\n",
       " '__hash__',\n",
       " '__init__',\n",
       " '__init_subclass__',\n",
       " '__le__',\n",
       " '__lt__',\n",
       " '__module__',\n",
       " '__ne__',\n",
       " '__new__',\n",
       " '__reduce__',\n",
       " '__reduce_ex__',\n",
       " '__repr__',\n",
       " '__setattr__',\n",
       " '__sizeof__',\n",
       " '__str__',\n",
       " '__subclasshook__',\n",
       " '__weakref__',\n",
       " 'foo',\n",
       " 'var']"
      ]
     },
     "execution_count": 74,
     "metadata": {},
     "output_type": "execute_result"
    }
   ],
   "source": [
    "class A(object):\n",
    "    var = 12\n",
    "    def __init__(self, value):\n",
    "        self.value = value\n",
    "        \n",
    "    def foo(self):\n",
    "        print(\"bar\")\n",
    "  \n",
    "dir(A)"
   ]
  },
  {
   "cell_type": "markdown",
   "metadata": {
    "deletable": true,
    "editable": true
   },
   "source": [
    "Class A does not have a value attribute, since it is bounded to an instance. However, it does have the class global var attribute.\n",
    "\n",
    "An instance of A has both:"
   ]
  },
  {
   "cell_type": "code",
   "execution_count": 75,
   "metadata": {
    "collapsed": false,
    "deletable": true,
    "editable": true
   },
   "outputs": [
    {
     "data": {
      "text/plain": [
       "['__class__',\n",
       " '__delattr__',\n",
       " '__dict__',\n",
       " '__dir__',\n",
       " '__doc__',\n",
       " '__eq__',\n",
       " '__format__',\n",
       " '__ge__',\n",
       " '__getattribute__',\n",
       " '__gt__',\n",
       " '__hash__',\n",
       " '__init__',\n",
       " '__init_subclass__',\n",
       " '__le__',\n",
       " '__lt__',\n",
       " '__module__',\n",
       " '__ne__',\n",
       " '__new__',\n",
       " '__reduce__',\n",
       " '__reduce_ex__',\n",
       " '__repr__',\n",
       " '__setattr__',\n",
       " '__sizeof__',\n",
       " '__str__',\n",
       " '__subclasshook__',\n",
       " '__weakref__',\n",
       " 'foo',\n",
       " 'value',\n",
       " 'var']"
      ]
     },
     "execution_count": 75,
     "metadata": {},
     "output_type": "execute_result"
    }
   ],
   "source": [
    "dir(A(12))"
   ]
  },
  {
   "cell_type": "markdown",
   "metadata": {
    "deletable": true,
    "editable": true
   },
   "source": [
    "Basic class introspection can be achieved with the builtin functions **isinstance** and **issubclass**."
   ]
  },
  {
   "cell_type": "code",
   "execution_count": 76,
   "metadata": {
    "collapsed": false,
    "deletable": true,
    "editable": true
   },
   "outputs": [
    {
     "name": "stdout",
     "output_type": "stream",
     "text": [
      "True\n",
      "False\n",
      "True\n",
      "True\n"
     ]
    }
   ],
   "source": [
    "class A(object):\n",
    "    pass\n",
    "\n",
    "class B(A):\n",
    "    pass\n",
    "\n",
    "b = B()\n",
    "a = A()\n",
    "\n",
    "print(isinstance(a, A))\n",
    "print(isinstance(a, B))\n",
    "print(isinstance(b, A))\n",
    "print(isinstance(b, object))"
   ]
  },
  {
   "cell_type": "markdown",
   "metadata": {
    "collapsed": true,
    "deletable": true,
    "editable": true
   },
   "source": [
    "Each object has a \\_\\_code\\_\\_ attribute, which contains everything needed to call the function."
   ]
  },
  {
   "cell_type": "code",
   "execution_count": 77,
   "metadata": {
    "collapsed": false,
    "deletable": true,
    "editable": true
   },
   "outputs": [
    {
     "name": "stdout",
     "output_type": "stream",
     "text": [
      "<code object evaluate at 0x000002812876C780, file \"<ipython-input-77-66876f0c7d70>\", line 1>\n"
     ]
    },
    {
     "data": {
      "text/plain": [
       "['__class__',\n",
       " '__delattr__',\n",
       " '__dir__',\n",
       " '__doc__',\n",
       " '__eq__',\n",
       " '__format__',\n",
       " '__ge__',\n",
       " '__getattribute__',\n",
       " '__gt__',\n",
       " '__hash__',\n",
       " '__init__',\n",
       " '__init_subclass__',\n",
       " '__le__',\n",
       " '__lt__',\n",
       " '__ne__',\n",
       " '__new__',\n",
       " '__reduce__',\n",
       " '__reduce_ex__',\n",
       " '__repr__',\n",
       " '__setattr__',\n",
       " '__sizeof__',\n",
       " '__str__',\n",
       " '__subclasshook__',\n",
       " 'co_argcount',\n",
       " 'co_cellvars',\n",
       " 'co_code',\n",
       " 'co_consts',\n",
       " 'co_filename',\n",
       " 'co_firstlineno',\n",
       " 'co_flags',\n",
       " 'co_freevars',\n",
       " 'co_kwonlyargcount',\n",
       " 'co_lnotab',\n",
       " 'co_name',\n",
       " 'co_names',\n",
       " 'co_nlocals',\n",
       " 'co_stacksize',\n",
       " 'co_varnames']"
      ]
     },
     "execution_count": 77,
     "metadata": {},
     "output_type": "execute_result"
    }
   ],
   "source": [
    "def evaluate(x):\n",
    "    a = 12\n",
    "    b = 3\n",
    "    return a*x + b\n",
    "    \n",
    "print(evaluate.__code__)\n",
    "dir(evaluate.__code__)"
   ]
  },
  {
   "cell_type": "code",
   "execution_count": 78,
   "metadata": {
    "collapsed": false,
    "deletable": true,
    "editable": true
   },
   "outputs": [
    {
     "data": {
      "text/plain": [
       "(('x', 'a', 'b'), (), 2)"
      ]
     },
     "execution_count": 78,
     "metadata": {},
     "output_type": "execute_result"
    }
   ],
   "source": [
    "evaluate.__code__.co_varnames, evaluate.__code__.co_freevars, evaluate.__code__.co_stacksize"
   ]
  },
  {
   "cell_type": "markdown",
   "metadata": {
    "deletable": true,
    "editable": true
   },
   "source": [
    "The **inspect** module provides further code introspection tools, including the **getsourcelines** function, which returns the source code itself."
   ]
  },
  {
   "cell_type": "code",
   "execution_count": 82,
   "metadata": {
    "collapsed": false,
    "deletable": true,
    "editable": true
   },
   "outputs": [
    {
     "data": {
      "text/plain": [
       "(['def evaluate(x):\\n', '    a = 12\\n', '    b = 3\\n', '    return a*x + b\\n'],\n",
       " 1)"
      ]
     },
     "execution_count": 82,
     "metadata": {},
     "output_type": "execute_result"
    }
   ],
   "source": [
    "from inspect import getsourcelines\n",
    "\n",
    "getsourcelines(evaluate)"
   ]
  },
  {
   "cell_type": "markdown",
   "metadata": {
    "deletable": true,
    "editable": true
   },
   "source": [
    "# Class decorators\n",
    "\n",
    "Many OO features are achieved via a syntax sugar called decorators. We will talk about decorators in detail later.\n",
    "\n",
    "The most common features are:\n",
    "\n",
    "1. staticmethod,\n",
    "1. classmethod,\n",
    "1. property.\n",
    "\n",
    "## Static methods\n",
    "\n",
    "Static methods are functions that are defined inside a class but are not bound to an instance. Note that they do not take a self argument."
   ]
  },
  {
   "cell_type": "code",
   "execution_count": 83,
   "metadata": {
    "collapsed": false,
    "deletable": true,
    "editable": true
   },
   "outputs": [
    {
     "name": "stdout",
     "output_type": "stream",
     "text": [
      "1\n",
      "2\n"
     ]
    }
   ],
   "source": [
    "class A(object):\n",
    "    instance_count = 0\n",
    "    \n",
    "    def __init__(self, value=42):\n",
    "        self.value = value\n",
    "        A.increase_instance_count()\n",
    "        \n",
    "    @staticmethod\n",
    "    def increase_instance_count():\n",
    "        A.instance_count += 1\n",
    "        \n",
    "        \n",
    "a1 = A()\n",
    "print(A.instance_count)\n",
    "a2 = A()\n",
    "print(A.instance_count)"
   ]
  },
  {
   "cell_type": "markdown",
   "metadata": {
    "deletable": true,
    "editable": true
   },
   "source": [
    "## Class methods\n",
    "\n",
    "Class methods are bound to a class instance instead of an object. Their first parameter is always the class instance, which is usually named `cls`.\n",
    "\n",
    "Since there is no function overloading mechanism in Python, classmethods can be used to for example define different contructors.\n",
    "Let's create a Complex class that can be initialized with either a string such as \"5+j6\" or with two numbers."
   ]
  },
  {
   "cell_type": "code",
   "execution_count": 85,
   "metadata": {
    "collapsed": false,
    "deletable": true,
    "editable": true
   },
   "outputs": [
    {
     "name": "stdout",
     "output_type": "stream",
     "text": [
      "3.45+j2.0\n",
      "3+j4\n"
     ]
    }
   ],
   "source": [
    "class Complex(object):\n",
    "    def __init__(self, real, imag):\n",
    "        self.real = real\n",
    "        self.imag = imag\n",
    "        \n",
    "    def __str__(self):\n",
    "        return '{0}+j{1}'.format(self.real, self.imag)\n",
    "    \n",
    "    @classmethod\n",
    "    def from_str(cls, complex_str):\n",
    "        real, imag = complex_str.split('+')\n",
    "        imag = imag.lstrip('ij')\n",
    "        return Complex(float(real), float(imag))\n",
    "    \n",
    "c1 = Complex.from_str(\"3.45+j2\")\n",
    "print(c1)\n",
    "c2 = Complex(3, 4)\n",
    "print(c2)"
   ]
  },
  {
   "cell_type": "markdown",
   "metadata": {
    "deletable": true,
    "editable": true
   },
   "source": [
    "## Properties\n",
    "\n",
    "Properties are attributes with getters, setters and deleters. Property works as both a builtin function and as separate decorators.\n",
    "\n",
    "To demonstrate their usage, let's create a Triangle class with three attributes."
   ]
  },
  {
   "cell_type": "code",
   "execution_count": 86,
   "metadata": {
    "collapsed": false,
    "deletable": true,
    "editable": true
   },
   "outputs": [
    {
     "data": {
      "text/plain": [
       "6.0"
      ]
     },
     "execution_count": 86,
     "metadata": {},
     "output_type": "execute_result"
    }
   ],
   "source": [
    "class Triangle(object):\n",
    "    def __init__(self, a, b, c):\n",
    "        self.a = a\n",
    "        self.b = b\n",
    "        self.c = c\n",
    "        \n",
    "    def get_area(self):\n",
    "        from math import sqrt\n",
    "        s = (self.a + self.b + self.c) / 2.0  # semiperimeter\n",
    "        return sqrt(s * (s-self.a) * (s-self.b) * (s-self.c))\n",
    "    \n",
    "t = Triangle(3, 4, 5)\n",
    "t.get_area()"
   ]
  },
  {
   "cell_type": "markdown",
   "metadata": {
    "deletable": true,
    "editable": true
   },
   "source": [
    "Unfortunately our triangle class cannot handle invalid input such as strings."
   ]
  },
  {
   "cell_type": "code",
   "execution_count": 87,
   "metadata": {
    "collapsed": false,
    "deletable": true,
    "editable": true
   },
   "outputs": [],
   "source": [
    "t = Triangle(\"3\", 4, 5)\n",
    "# t.get_area()  # this would raise a TypeError"
   ]
  },
  {
   "cell_type": "markdown",
   "metadata": {
    "deletable": true,
    "editable": true
   },
   "source": [
    "Let's create getters and setters to solve this problem."
   ]
  },
  {
   "cell_type": "code",
   "execution_count": 88,
   "metadata": {
    "collapsed": false,
    "deletable": true,
    "editable": true
   },
   "outputs": [
    {
     "name": "stdout",
     "output_type": "stream",
     "text": [
      "6.0\n"
     ]
    }
   ],
   "source": [
    "class Triangle(object):\n",
    "    def __init__(self, a, b, c):\n",
    "        self.set_a(a)\n",
    "        self.set_b(b)\n",
    "        self.set_c(c)\n",
    "        \n",
    "    def set_a(self, a):\n",
    "        a = float(a)\n",
    "        self._a = a\n",
    "        \n",
    "    def set_b(self, b):\n",
    "        b = float(b)\n",
    "        self._b = b\n",
    "        \n",
    "    def set_c(self, c):\n",
    "        c = float(c)\n",
    "        self._c = c\n",
    "        \n",
    "    def get_a(self):\n",
    "        return self._a\n",
    "    \n",
    "    def get_b(self):\n",
    "        return self._b\n",
    "    \n",
    "    def get_c(self):\n",
    "        return self._c\n",
    "    \n",
    "    def get_area(self):\n",
    "        from math import sqrt\n",
    "        s = (self._a + self._b + self._c) / 2.0  # semiperimeter\n",
    "        return sqrt(s * (s-self._a) * (s-self._b) * (s-self._c))\n",
    "    \n",
    "t = Triangle(\"3\", 4, 5)\n",
    "print(t.get_area())"
   ]
  },
  {
   "cell_type": "markdown",
   "metadata": {
    "deletable": true,
    "editable": true
   },
   "source": [
    "We need to call the setters and getters explicitely:"
   ]
  },
  {
   "cell_type": "code",
   "execution_count": 89,
   "metadata": {
    "collapsed": false,
    "deletable": true,
    "editable": true
   },
   "outputs": [
    {
     "name": "stdout",
     "output_type": "stream",
     "text": [
      "3.799671038392666\n"
     ]
    }
   ],
   "source": [
    "t.set_a(\"2\")\n",
    "print(t.get_area())"
   ]
  },
  {
   "cell_type": "markdown",
   "metadata": {
    "deletable": true,
    "editable": true
   },
   "source": [
    "The builtin property function binds getters, setters and deleters to an attribute."
   ]
  },
  {
   "cell_type": "code",
   "execution_count": 90,
   "metadata": {
    "collapsed": false,
    "deletable": true,
    "editable": true
   },
   "outputs": [
    {
     "name": "stdout",
     "output_type": "stream",
     "text": [
      "6.0\n"
     ]
    }
   ],
   "source": [
    "class Triangle(object):\n",
    "    def __init__(self, a, b, c):\n",
    "        self.a = a\n",
    "        self.b = b\n",
    "        self.c = c\n",
    "        \n",
    "    def set_a(self, a):\n",
    "        a = float(a)\n",
    "        self._a = a\n",
    "        \n",
    "    def set_b(self, b):\n",
    "        b = float(b)\n",
    "        self._b = b\n",
    "        \n",
    "    def set_c(self, c):\n",
    "        c = float(c)\n",
    "        self._c = c\n",
    "        \n",
    "    def get_a(self):\n",
    "        return self._a\n",
    "    \n",
    "    def get_b(self):\n",
    "        return self._b\n",
    "    \n",
    "    def get_c(self):\n",
    "        return self._c\n",
    "    \n",
    "    def del_(self):\n",
    "        pass\n",
    "    \n",
    "    def get_area(self):\n",
    "        from math import sqrt\n",
    "        s = (self._a + self._b + self._c) / 2.0  # semiperimeter\n",
    "        return sqrt(s * (s-self._a) * (s-self._b) * (s-self._c))\n",
    "    \n",
    "    a = property(get_a, set_a, del_, \"I'm the 'a' property.\")\n",
    "    b = property(get_b, set_b, del_, \"I'm the 'b' property.\")\n",
    "    c = property(get_c, set_c, del_, \"I'm the 'c' property.\")\n",
    "    \n",
    "t = Triangle(\"3\", 4, 5)\n",
    "print(t.get_area())"
   ]
  },
  {
   "cell_type": "code",
   "execution_count": 91,
   "metadata": {
    "collapsed": false,
    "deletable": true,
    "editable": true
   },
   "outputs": [
    {
     "name": "stdout",
     "output_type": "stream",
     "text": [
      "Help on Triangle in module __main__ object:\n",
      "\n",
      "class Triangle(builtins.object)\n",
      " |  Methods defined here:\n",
      " |  \n",
      " |  __init__(self, a, b, c)\n",
      " |      Initialize self.  See help(type(self)) for accurate signature.\n",
      " |  \n",
      " |  del_(self)\n",
      " |  \n",
      " |  get_a(self)\n",
      " |  \n",
      " |  get_area(self)\n",
      " |  \n",
      " |  get_b(self)\n",
      " |  \n",
      " |  get_c(self)\n",
      " |  \n",
      " |  set_a(self, a)\n",
      " |  \n",
      " |  set_b(self, b)\n",
      " |  \n",
      " |  set_c(self, c)\n",
      " |  \n",
      " |  ----------------------------------------------------------------------\n",
      " |  Data descriptors defined here:\n",
      " |  \n",
      " |  __dict__\n",
      " |      dictionary for instance variables (if defined)\n",
      " |  \n",
      " |  __weakref__\n",
      " |      list of weak references to the object (if defined)\n",
      " |  \n",
      " |  a\n",
      " |      I'm the 'a' property.\n",
      " |  \n",
      " |  b\n",
      " |      I'm the 'b' property.\n",
      " |  \n",
      " |  c\n",
      " |      I'm the 'c' property.\n",
      "\n"
     ]
    }
   ],
   "source": [
    "help(t)"
   ]
  },
  {
   "cell_type": "markdown",
   "metadata": {
    "deletable": true,
    "editable": true
   },
   "source": [
    "# Multiple inheritance\n",
    "\n",
    "There is no interface inheritance in Python but multiple inheritance is supported. Since every new-style class subclasses `object`, if a new style class inherits from more than one new style classes, the diamond problem is present.\n",
    "The diamond problem is solved via a sophisticated method resolution order (MRO).\n",
    "Note that the method resolution order is dramatically different between old and new style classes, and the latter case is considered much more reliable."
   ]
  },
  {
   "cell_type": "code",
   "execution_count": 96,
   "metadata": {
    "collapsed": false,
    "deletable": true,
    "editable": true
   },
   "outputs": [
    {
     "name": "stdout",
     "output_type": "stream",
     "text": [
      "Instantiating C\n",
      "C init called\n",
      "B init called\n",
      "Instantiating D\n",
      "A init called\n"
     ]
    }
   ],
   "source": [
    "class A(object):\n",
    "    def __init__(self, value):\n",
    "        print(\"A init called\")\n",
    "        self.value = value\n",
    "        \n",
    "class B(object):\n",
    "    def __init__(self):\n",
    "        print(\"B init called\")\n",
    "\n",
    "class C(B, A):\n",
    "    def __init__(self, value1, value2):\n",
    "        print(\"C init called\")\n",
    "        self.value2 = value2\n",
    "        super(C, self).__init__()\n",
    "        \n",
    "class D(A, B): pass\n",
    "        \n",
    "print(\"Instantiating C\")\n",
    "c = C(1, 2)\n",
    "print(\"Instantiating D\")\n",
    "d = D(12)"
   ]
  },
  {
   "cell_type": "markdown",
   "metadata": {
    "deletable": true,
    "editable": true
   },
   "source": [
    "# See also\n",
    "\n",
    "* [Classes (official documentation)](https://docs.python.org/2/tutorial/classes.html)\n",
    "* [Data model (official documentation)](https://docs.python.org/2/reference/datamodel.html)\n",
    "* [Method resolution order (since Python 2.3)](https://www.python.org/download/releases/2.3/mro/)"
   ]
  }
 ],
 "metadata": {
  "kernelspec": {
   "display_name": "Python 3",
   "language": "python",
   "name": "python3"
  },
  "language_info": {
   "codemirror_mode": {
    "name": "ipython",
    "version": 3
   },
   "file_extension": ".py",
   "mimetype": "text/x-python",
   "name": "python",
   "nbconvert_exporter": "python",
   "pygments_lexer": "ipython3",
   "version": "3.5.3"
  }
 },
 "nbformat": 4,
 "nbformat_minor": 0
}
