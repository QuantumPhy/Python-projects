{
 "cells": [
  {
   "cell_type": "markdown",
   "metadata": {},
   "source": [
    "Második feladat megoldás"
   ]
  },
  {
   "cell_type": "code",
   "execution_count": 1,
   "metadata": {
    "collapsed": false
   },
   "outputs": [],
   "source": [
    "def my_reduce(value):\n",
    "    mean_temperature = 0\n",
    "    sum_temp=0\n",
    "    div=0\n",
    "    for val in value:\n",
    "        for v in val:\n",
    "            sum_temp+=float(v)\n",
    "            div+=1\n",
    "    mean_temperature=sum_temp/div\n",
    "    return mean_temperature"
   ]
  },
  {
   "cell_type": "code",
   "execution_count": 2,
   "metadata": {
    "collapsed": true
   },
   "outputs": [],
   "source": [
    "import re\n",
    "def my_map(in_file):\n",
    "    temperature = dict()\n",
    "    for line in in_file:\n",
    "        pairs=line.split()\n",
    "        temp=pairs[0][2:4]\n",
    "        if(temp in temperature):\n",
    "            temperature[temp].append(pairs[1])\n",
    "        else:\n",
    "            temperature[temp]=[pairs[1]]\n",
    "    return temperature"
   ]
  },
  {
   "cell_type": "code",
   "execution_count": 3,
   "metadata": {
    "collapsed": false
   },
   "outputs": [
    {
     "name": "stdout",
     "output_type": "stream",
     "text": [
      "01: -0.32\n",
      "02: 0.661875\n",
      "03: 4.911351351351352\n",
      "04: 9.64388888888889\n",
      "05: 13.725268817204299\n",
      "06: 17.93463687150838\n",
      "07: 19.802732240437162\n",
      "08: 19.350537634408603\n",
      "09: 15.290449438202248\n",
      "10: 10.778378378378376\n",
      "11: 5.727777777777778\n",
      "12: 1.0953216374269006\n"
     ]
    }
   ],
   "source": [
    "import sys\n",
    "\n",
    "\n",
    "key_value = dict()\n",
    "for filename in ['data_2010.txt', 'data_2011.txt', 'data_2012.txt', 'data_2013.txt', 'data_2014.txt', 'data_2015.txt']:\n",
    "    in_file = open(filename, 'r')\n",
    "    key_value_per_file = my_map(in_file)\n",
    "    for key in key_value_per_file:\n",
    "        if(key in key_value):\n",
    "            key_value[key].append(key_value_per_file[key])\n",
    "        else:\n",
    "            key_value[key]=[key_value_per_file[key]]\n",
    "reduced = dict()\n",
    "for key in key_value:\n",
    "    reduced[key] = my_reduce(key_value[key])\n",
    "for key in reduced:\n",
    "    print(key + \": \" + str(reduced[key]))"
   ]
  }
 ],
 "metadata": {
  "kernelspec": {
   "display_name": "Python 3",
   "language": "python",
   "name": "python3"
  },
  "language_info": {
   "codemirror_mode": {
    "name": "ipython",
    "version": 3
   },
   "file_extension": ".py",
   "mimetype": "text/x-python",
   "name": "python",
   "nbconvert_exporter": "python",
   "pygments_lexer": "ipython3",
   "version": "3.6.0"
  }
 },
 "nbformat": 4,
 "nbformat_minor": 2
}
