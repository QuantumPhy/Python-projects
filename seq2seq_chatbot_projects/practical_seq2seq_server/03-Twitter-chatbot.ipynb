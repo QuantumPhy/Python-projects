{
 "cells": [
  {
   "cell_type": "markdown",
   "metadata": {},
   "source": [
    "# Demonstrate Seq2Seq Wrapper with twitter chat log"
   ]
  },
  {
   "cell_type": "code",
   "execution_count": 9,
   "metadata": {
    "collapsed": true
   },
   "outputs": [],
   "source": [
    "import tensorflow as tf\n",
    "import numpy as np\n",
    "\n",
    "# preprocessed data\n",
    "from datasets.twitter import data\n",
    "import data_utils"
   ]
  },
  {
   "cell_type": "code",
   "execution_count": 10,
   "metadata": {
    "collapsed": true
   },
   "outputs": [],
   "source": [
    "# load data from pickle and npy files\n",
    "metadata, idx_q, idx_a = data.load_data(PATH='datasets/cornell_corpus/')\n",
    "(trainX, trainY), (testX, testY), (validX, validY) = data_utils.split_dataset(idx_q, idx_a)"
   ]
  },
  {
   "cell_type": "code",
   "execution_count": 11,
   "metadata": {
    "collapsed": true
   },
   "outputs": [],
   "source": [
    "# parameters \n",
    "xseq_len = trainX.shape[-1]\n",
    "yseq_len = trainY.shape[-1]\n",
    "batch_size = 16\n",
    "xvocab_size = len(metadata['idx2w'])  \n",
    "yvocab_size = xvocab_size\n",
    "emb_dim = 512"
   ]
  },
  {
   "cell_type": "code",
   "execution_count": 12,
   "metadata": {
    "collapsed": true
   },
   "outputs": [],
   "source": [
    "import seq2seq_wrapper"
   ]
  },
  {
   "cell_type": "code",
   "execution_count": 13,
   "metadata": {},
   "outputs": [
    {
     "data": {
      "text/plain": [
       "<module 'seq2seq_wrapper' from 'C:\\\\Users\\\\ricsi\\\\Documents\\\\GitHub\\\\Python-projects\\\\seq2seq_chatbot_projects\\\\practical_seq2seq-master\\\\seq2seq_wrapper.py'>"
      ]
     },
     "execution_count": 13,
     "metadata": {},
     "output_type": "execute_result"
    }
   ],
   "source": [
    "import importlib\n",
    "importlib.reload(seq2seq_wrapper)"
   ]
  },
  {
   "cell_type": "code",
   "execution_count": 14,
   "metadata": {},
   "outputs": [
    {
     "name": "stdout",
     "output_type": "stream",
     "text": [
      "<log> Building Graph </log>"
     ]
    }
   ],
   "source": [
    "model = seq2seq_wrapper.Seq2Seq(xseq_len=xseq_len,\n",
    "                               yseq_len=yseq_len,\n",
    "                               xvocab_size=xvocab_size,\n",
    "                               yvocab_size=yvocab_size,\n",
    "                               ckpt_path='ckpt/cornell_corpus/',\n",
    "                               emb_dim=emb_dim,\n",
    "                               num_layers=3\n",
    "                               )"
   ]
  },
  {
   "cell_type": "code",
   "execution_count": 15,
   "metadata": {
    "collapsed": true
   },
   "outputs": [],
   "source": [
    "val_batch_gen = data_utils.rand_batch_gen(validX, validY, 128)\n",
    "test_batch_gen = data_utils.rand_batch_gen(testX, testY, 128)\n",
    "train_batch_gen = data_utils.rand_batch_gen(trainX, trainY, batch_size)"
   ]
  },
  {
   "cell_type": "code",
   "execution_count": null,
   "metadata": {},
   "outputs": [
    {
     "name": "stdout",
     "output_type": "stream",
     "text": [
      "\n",
      "<log> Training started </log>\n",
      "\n",
      "Model saved to disk at iteration #1000\n",
      "val   loss : 2.029175\n",
      "\n",
      "Model saved to disk at iteration #2000\n",
      "val   loss : 2.020699\n",
      "\n",
      "Model saved to disk at iteration #3000\n",
      "val   loss : 1.976326\n",
      "\n",
      "Model saved to disk at iteration #4000\n",
      "val   loss : 2.016675\n"
     ]
    }
   ],
   "source": [
    "sess = model.train(train_batch_gen, val_batch_gen)"
   ]
  },
  {
   "cell_type": "code",
   "execution_count": 39,
   "metadata": {
    "collapsed": true
   },
   "outputs": [],
   "source": [
    "sess = model.restore_last_session()"
   ]
  },
  {
   "cell_type": "code",
   "execution_count": 42,
   "metadata": {},
   "outputs": [
    {
     "name": "stdout",
     "output_type": "stream",
     "text": [
      "(20, 256)\n",
      "(256, 20)\n"
     ]
    }
   ],
   "source": [
    "input_ = test_batch_gen.__next__()[0]\n",
    "print(input_.shape)\n",
    "output = model.predict(sess, input_)\n",
    "print(output.shape)"
   ]
  },
  {
   "cell_type": "code",
   "execution_count": 41,
   "metadata": {},
   "outputs": [
    {
     "name": "stdout",
     "output_type": "stream",
     "text": [
      "q : [this is what alicia machado looked like when trump took to publicly amp unk unk her over her weight sh]; a : [ she has a chance]\n",
      "q : [i am jim amp my now then guy best friend is unk my heart hurts]; a : [is this the best thing ive seen it]\n",
      "q : [anytime you want to come down and watch a game with the unk you are more than welcome]; a : [oh no i dont know what to do]\n",
      "q : [we love a good cup of coffee with milk were excited for a without any thanks to ]; a : [we need to be in the bay area]\n",
      "q : [you guys is so good ]; a : [youre so cute ]\n",
      "q : [what year is considered the last of unk then ]; a : [the whole time is a good thing to the game]\n",
      "q : [im happy my friends support my dogs insta]; a : [you are so cute]\n",
      "q : [user survey done right by  unk short and easy low unk]; a : [so much the way to the end of the world is a great place]\n",
      "q : [why did i tell my mom to update her phone to ios10 lmao now she wont leave me alone]; a : [lmao i was thinking about that lol i was just thinking about it]\n",
      "q : [making a unk list of moving to chicago priorities first]; a : [what about the world of the world of the world of the world of the world]\n",
      "q : [lmao that summer winter collection unk unk ]; a : [you know what you get]\n",
      "q : [love this scene is so on point in it and the relationship is so clear and unk ]; a : [did you have a link to the end of the video]\n",
      "q : [hella fall birthdays at happy 18th ]; a : [you guys ]\n",
      "q : [if she unk thats whats at issue if she didnt consent shes not responsible for getting raped]; a : [if you dont care about trump and she has no idea what she wants to do with her]\n",
      "q : [haha someones enjoying sf a bit too much ]; a : [you know i was going to be a good day ]\n",
      "q : [ive said it before and ill say it again i am unk unk]; a : [did you know that cares about it]\n",
      "q : [always wanted a weird ass looking glass doll]; a : [its a good thing]\n",
      "q : [thanks john i had my students read your piece on empathy last week]; a : [this is a great article to read the article and i have a great day to see you]\n",
      "q : [just booked a unk trip to san unk]; a : [can i get a new one]\n",
      "q : [how bad is it if you typo that you are a phd in a unk email]; a : [not sure it was a lot of people who have a lot of people]\n",
      "q : [being a young woman is so hard]; a : [its not a joke]\n",
      "q : [soul beats with unk ]; a : [hey hyd check these beats]\n",
      "q : [but the receipts]; a : [they are a fan of the game]\n",
      "q : [what happened to the am show]; a : [was a little one of the last time]\n",
      "q : [i like unk]; a : [wait i love you]\n",
      "q : [corny that wasnt even the whole thing ]; a : [he was a joke ]\n",
      "q : [lmao who said this ]; a : [facts i dont even know what to say]\n",
      "q : [everyone do something you enjoy today]; a : [yes i have to go to my house]\n",
      "q : [well frankly hes beyond help then]; a : [but i dont know what to say about this]\n",
      "q : [its always a pretty good day for us city folk]; a : [one of the best songs ever]\n",
      "q : [id love to see what happens if tries to hit her back  i hope he does]; a : [she has to be a good time to get a pic of her]\n",
      "q : [how about people who take advantage of porn stars]; a : [yeah i think its not a good idea but its not a good thing]\n",
      "q : [its an example of a loaded question to help you understand what those are better]; a : [not been a fan of the time to be a fan of the time]\n",
      "q : [we hate to see this for the proper support team what is the product in question db]; a : [great article thanks for sharing]\n",
      "q : [unk but when ]; a : [when you got a new phone ]\n",
      "q : [im sure you can do better than this little buddy]; a : [he was not a joke but he was a pathological liar and a lot of people]\n",
      "q : [hire someone to follow you around and read your notifications to you]; a : [im not sure if i was there]\n",
      "q : [unk  working up a visual finding my unk for helping people identify how to determine based on your book]; a : [so good to hear this]\n",
      "q : [why do we take 4 years of high school just so we can take another 4 years of college]; a : [if you are a good person  ]\n",
      "q : [weigh in i see what you did there]; a : [i was there on the same side of the day i was in the city]\n",
      "q : [yes it can once a new season starts it doesnt matter who won whatever]; a : [its a good idea]\n",
      "q : [typical dems not saying how its pd for amp buying votes]; a : [and the media are not voting for trump who is a muslim and not the problem]\n",
      "q : [working retail makes you wish murder on people]; a : [i think its not a while]\n",
      "q : [all that fucking work lmao]; a : [lol thats so funny]\n",
      "q : [also probably bc my wifi shut off for some reason and now i cant watch greys]; a : [its not like it was a good time]\n",
      "q : [interesting to unk drug use about the candidate who has never smoked drank or done drugs reaching]; a : [what does that mean do you think he was a big fan of the planet]\n",
      "q : [my print copy of unk from arrived big thanks to for unk]; a : [great to hear this]\n",
      "q : [the boys at unk in n out ]; a : [i know what the hell is]\n",
      "q : [blues tiny new microphone wants to be good at everything]; a : [this is so cute]\n",
      "q : [start the season 02]; a : [the first one is a good game]\n",
      "q : [boo its only on mobile ]; a : [i know right lol]\n",
      "q : [so i cant identify with him anymore]; a : [you should be a little fan of that]\n",
      "q : [my favorite photo because im in it  but seriously thank you]; a : [ we will be in the city]\n",
      "q : [making my debut at the unk unk right now its a lot to take in]; a : [the best of the day is so good to see you guys in the morning]\n",
      "q : [absolutely not]; a : [im not gonna be a fan of the same side]\n",
      "q : [i think i could live somewhere thats always cold]; a : [oh yeah but i dont know what to do with this]\n",
      "q : [every trip to the grocery store becomes an unk filled unk ride]; a : [what a small puppy]\n",
      "q : [kevin spreading the word at grant and academy]; a : [idk i was thinking of the same side]\n",
      "q : [found your latest avatar]; a : [is that the first thing i have to watch the debate]\n",
      "q : [happy birthday to one of the funniest kids i know love you bro hope you enjoyed your day]; a : [thanks bro i appreciate you too]\n",
      "q : [dumb bitch unk out on some good unk dick nah im sayin]; a : [she is so cute ]\n",
      "q : [donald trumps online trolls turn on their god unk  the daily beast]; a : [this is a hoax]\n",
      "q : [thank you for your unk getting to know unk via]; a : [youre welcome ]\n",
      "q : [well got my baseball tonight but no unk]; a : [sorry to hear that i was just on the same side of the day]\n",
      "q : [thanks for the link awful]; a : [it was a pleasure to be able to get a good job and i dont think it was a good]\n",
      "q : [sa blackout power unk affects entire state]; a : [i dont think the same thing is that]\n",
      "q : [maybe youre just not used to direct responses anymore because there are none in your activity ]; a : [thats not true but its a fact that you dont care about a landslide]\n",
      "q : [the unk man]; a : [wait for the first time]\n",
      "q : [you giving me orders now ]; a : [you know what you mean]\n",
      "q : [head of nato responds to trumps criticism at the debate]; a : [she is a liar]\n",
      "q : [hey if you like what you see and shes your girl by all means vote for]; a : [my mom is a joke]\n",
      "q : [i included poc because he also thinks ppl should hide their unk which unk didnt make headline ]; a : [thats not not even a racist person who is a pathological liar]\n",
      "q : [i want him to come back so bad]; a : [me too i need to get a new one]\n",
      "q : [unk peeps who do you follow on ]; a : [ i need to get a new one]\n",
      "q : [he knows the real ]; a : [               ]\n",
      "q : [reading about the holy roman empire one word unk]; a : [the whole thing is that the first thing]\n",
      "q : [friends in the bay area going to  flights on are cheap just booked my trip for unk total]; a : [just be there for the first time ]\n",
      "q : [his comment about the 400 unk is just wrong]; a : [the only thing is not a joke]\n",
      "q : [im feeling especially inspired today i hope youre feeling the same ]; a : [lol i know i was just thinking about this]\n",
      "q : [thanks for the great information]; a : [thanks for sharing]\n",
      "q : [obama and hillary brought down our nightmare bin unk trump will work to bring down his nightmare rosie odonnell]; a : [and you are not a moron]\n",
      "q : [bouta head to the premiere w this unk]; a : [what the fuck]\n",
      "q : [as far as i know we only do them through unk ]; a : [you dont know what you mean]\n",
      "q : [how the heck do you lowkey not see a movie]; a : [its a joke but i dont know what it is]\n",
      "q : [ had so much fun unk amp celebrating the launch of with these lovely ladies ]; a : [so happy to hear this]\n",
      "q : [omg you sound like my mom lol she has been talking about that all week ]; a : [  you know what you say ]\n",
      "q : [it is absurd that republicans would rather shut down the government than ensure families in flint have clean drinking water]; a : [trump is a racist supporter and trump is a pathological liar]\n",
      "q : [yea we are in downtown at the holiday unk]; a : [yes i need to get a new phone]\n",
      "q : [baby unk up mum just for a hug ]; a : [have a great day]\n",
      "q : [id post these but too afraid of what some people will think ]; a : [its not a good thing]\n",
      "q : [weve done several trips but nothing like that photo i gotta do it in]; a : [just waiting for the game ]\n",
      "q : [summer is over we have a new video watch it amp the unk tears flow into lifes swimming]; a : [thank you for the heads up]\n",
      "q : [cat unk]; a : [i dont even know what to say]\n",
      "q : [tv legend norman unk there is too much media]; a : [but the world is a good idea]\n",
      "q : [unk marshall has a torn unk in his shoulder]; a : [is that a joke]\n",
      "q : [vote for who you want dont let anyone tell you what to do you be you]; a : [just like the same thing]\n",
      "q : [just bought your book at denver int airport and unk hillarys books behind amy unk]; a : [this is the best thing ive ever seen]\n",
      "q : [the wrong way to design a unk]; a : [looks like a lot of the world]\n",
      "q : [does he have something left to sell him he already sold his integrity just his soul is left]; a : [he has been a pathological liar with a landslide]\n",
      "q : [she got to get all of friends to unk me because she cant do it herself]; a : [i dont know what to do]\n",
      "q : [i hate being in class while real unk plays ]; a : [you should be a little bit a little bit a little bit]\n",
      "q : [hey  check your dm unk favor ]; a : [if you have a chance to be in the city ]\n",
      "q : [for good reason lol]; a : [lol i know that]\n",
      "q : [you think im mad at the unk unk but no im mad at this]; a : [you were gonna be a fan of the game lol]\n",
      "q : [a unk bear fell on me]; a : [wait you got this]\n",
      "q : [dont miss the debut of the night circus collection amp the new ed unk unk from ]; a : [this is awesome]\n",
      "q : [hello everyone leo from nyc joining the ]; a : [oh wow congrats to the bay]\n",
      "q : [thought they unk havent seen a camera shot of him in a while]; a : [i think they were watching the same side]\n",
      "q : [rogue cop he did it to scare me it worked]; a : [yup he is]\n",
      "q : [holy shit that was for unk the giants actually won a game]; a : [that was a joke]\n",
      "q : [rt if you have been unk by]; a : [brand new tune]\n",
      "q : [the cavs answer to the warriors signing kevin unk]; a : [its not the only one]\n",
      "q : [he hasnt a single clue how unk he sounds unbelievable how some people want to vote for this childish jerk]; a : [so a problem is a trump supporter]\n",
      "q : [unk meme lord]; a : [was a joke]\n",
      "q : [do you think and should see this retweet if the answer is yes]; a : [its a joke]\n",
      "q : [quoted tweet aside this would be a good bio]; a : [i think its not a good thing]\n",
      "q : [rt diversity is the single largest source of creativity with]; a : [ and the media are in the world of the world of the world]\n",
      "q : [will you watch this show]; a : [cant wait to see this]\n",
      "q : [i didnt know about the new job  congrats]; a : [it was so good]\n",
      "q : [guess whos in love]; a : [where i was there]\n",
      "q : [nice might as well stick around for unk in unk next week]; a : [well see you in the city]\n",
      "q : [congrats unk high school soccer team 6 and 0 breakfast of champions]; a : [ill be there]\n",
      "q : [and i know youll be just as unk as i am]; a : [you know what you say]\n",
      "q : [i play with a pay and play]; a : [nope dont be a fan of the game]\n",
      "q : [not a bad workshop space let the games begin]; a : [not a good thing i dont know what to do]\n",
      "q : [just tell me when we are living in real steel i want to start a robot fighting betting unk fund]; a : [i am not concerned about the time to be a while]\n",
      "q : [yeah unless they have a good 2 guard it wont mean anything]; a : [the whole thing is the first thing i have to be in the middle of the first time]\n",
      "q : [this is heartbreaking]; a : [i think the same thing is the worst part of the planet]\n",
      "q : [and da unk lmfao]; a : [this is my favorite tweet ever]\n",
      "q : [well said everyone love roman]; a : [you are so cute ]\n",
      "q : [political theory class starts and and are not here so]; a : [the best part of the world is in the middle of the world of the world]\n",
      "q : [you shouldve told him he was useless]; a : [he was just a fan of the game]\n",
      "q : [unk just came from her concert at unk ]; a : [this is a good thing]\n",
      "q : [think before you tweet]; a : [i dont think i was going to be a good place]\n",
      "q : [then you need to check out man its fucking sick]; a : [you are not a fan of the same side]\n",
      "q : [lt i was talking to her lol bigots i didnt think my spelling would be the part to offend u]; a : [she was so cute and she was so mad ]\n",
      "q : [ya know if it was the unk from south park it would actually be lit]; a : [not sure i have to go to the airport and get a few years ago]\n",
      "q : [unk youre always the cutest]; a : [thank you so much  ]\n",
      "q : [dawg wtf is this unk my mans are you seeing this b]; a : [i think i was there]\n",
      "q : [forgot to give a unk shoutout to unk happy belated birthday]; a : [thats a great guy]\n",
      "q : [just realized there is no apple watch support with unk lacks way too much to justify unk right now]; a : [not as a good idea]\n",
      "q : [sell yourself]; a : [  ]\n",
      "q : [i dont even love chicken wings as much as loves his girlfriend]; a : [the best of the best]\n",
      "q : [unk not omg lmao]; a : [lol i was thinking of that]\n",
      "q : [im not i just thought of that lmao but thanks for checking love ]; a : [ i love you too much time to be a little bit]\n",
      "q : [every time my boss calls me he laughs for like ten seconds before saying anything]; a : [the world is a joke]\n",
      "q : [lmfao what ]; a : [he said it was a joke]\n",
      "q : [chief unk getting on our knees is not going to stop police killings we need policy changes]; a : [ the only party is the enemy of the usa ]\n",
      "q : [read my joint statement with on ]; a : [wow this is awesome]\n",
      "q : [i knew this was coming lmao unk is fed up]; a : [you aint even got me like that was a joke lol]\n",
      "q : [space unk elon musk is an unk welfare king]; a : [this is a disgrace]\n",
      "q : [wheres your proof in power point oh wait youre fake]; a : [as long as you can get a good time to get a pic of you]\n",
      "q : [good call were thinking about tshirts would anyone else want one]; a : [i can have a good job]\n",
      "q : [saying isnt enough  those words demand action]; a : [and perhaps ]\n",
      "q : [can you send me the picture of my unk from last night]; a : [just got to the gym ]\n",
      "q : [hillary failed as secretary of state  why would president be any different]; a : [because she is a disgrace to the debate]\n",
      "q : [that was no unk]; a : [it was a joke]\n",
      "q : [can you name the famous unk amp the gang song featured in unk rocky]; a : [its a good time to get a new phone]\n",
      "q : [just applied for my first unk at unk  lol thanks for the invite to   cc]; a : [did you have a chance to get a new phone]\n",
      "q : [season 10 episode 5 its on netflix and it stars a young kevin unk]; a : [its like a few weeks ago]\n",
      "q : [sure is i know trump can be a unk ass but i prefer the unk over the devil]; a : [if you could be a little fan]\n",
      "q : [is this the chipotle by unk lol]; a : [they dont have to be a good game]\n",
      "q : [thank you for my first ever parking ticket feeling blessed on this day]; a : [welcome to you ]\n",
      "q : [we surely didnt mean to keep you waiting we appreciate your patience and unk with us we wo]; a : [yes i was there]\n",
      "q : [but the hateful racists adore him and embrace the unk he founded and enabled the racist birther unk]; a : [he said he was a pathological liar]\n",
      "q : [this is one of my favorite things in the city to be honest lol]; a : [love the best pic]\n",
      "q : [not at a presidential debate with 800 million watching]; a : [what a little one of the best things ever]\n",
      "q : [and you shall look for us in the same spot]; a : [lol i just got to get a pic of my phone]\n",
      "q : [will there be after pics]; a : [but i am not on the same side]\n",
      "q : [this video needs to go viral now]; a : [this is horrible]\n",
      "q : [unk i need beats follow me ill follow back then well hit the dm]; a : [check these beats]\n",
      "q : [visit a fun show or is it something i have to unk serious time for and focus on]; a : [is that a thing]\n",
      "q : [trumps nc state director unk after pulling gun on aide now his georgia one unk after arrest for battery]; a : [trump clinton is a disgrace]\n",
      "q : [shits garbage and they raising the unk]; a : [i dont know what it was]\n",
      "q : [i wouldnt be unk about them id be unk about some other bullshit lmao]; a : [they dont even know what they say they were talking about the same thing i dont even know how to]\n",
      "q : [would you save up unk to move to mars]; a : [what about the world]\n",
      "q : [if you dont pay federal taxes youre the reason why our airports bridges and schools are going to hell]; a : [you are a liar]\n",
      "q : [fights discrimination so new yorkers of all unk can live safely]; a : [i have to get a new one of the first time to get a new one]\n",
      "q : [your icon has me triggered]; a : [you dont even know what to do]\n",
      "q : [might be driving back to cali to visit next year ]; a : [come to me  ]\n",
      "q : [i exposed your ass like 6 months ago]; a : [if you have a good time to get a pic of you]\n",
      "q : [my nephew has listened to reason hes no longer voting johnson hes now with]; a : [he has to be a good time for the last one]\n",
      "q : [i wonder how many unk hackers donald had to pay to make a thing]; a : [maybe do you have a chance to get a chance to get a new phone]\n",
      "q : [not sure why bumgarner is talking shit just walk away man love him but come on that was pretty stupid]; a : [dont be a little one of my life ]\n",
      "q : [even youth started to take a stand against injustice]; a : [is he a joke]\n",
      "q : [i just earned the get toasted in autumn badge on ]; a : [i need to get a new phone on the app]\n",
      "q : [unk why does this fire multiple events the first time i press a key]; a : [why is this]\n",
      "q : [its a unk system the entire server appears frozen though so i have to wait to have it physically unk]; a : [i think its a good idea]\n",
      "q : [all while tim cook unk around as a privacy unk]; a : [so good for the best]\n",
      "q : [jess attempting to give me advice the grass is always unk on the other side ]; a : [when do you get the same side]\n",
      "q : [its not nice ]; a : [its a good one]\n",
      "q : [hello im a grown adult and i use stickers to communicate a wsj column by my unk]; a : [is this a thing]\n",
      "q : [when it was so warm in san francisco that you forgot to unk today]; a : [i wish i could be there]\n",
      "q : [ if i get elected believe me we take care of all of our people]; a : [you are not a fan of the country]\n",
      "q : [lol actually i think this one unk out all the great books you have in this pic]; a : [this is a great thing to be a great game]\n",
      "q : [going to host dinner we back yall]; a : [lmao im going to be in the gym ]\n",
      "q : [do they ive never heard of that]; a : [it is so good]\n",
      "q : [sounds like an amazing gathering of some really great humans who i adore]; a : [you are the best]\n",
      "q : [ok i thought it was just me lol]; a : [lol i dont even know what to say]\n",
      "q : [director unk how do we give them more tools]; a : [the world is the best of the world]\n",
      "q : [do i know this conference]; a : [i love this]\n",
      "q : [ hrc end debate w sad tale  turns out miss universe was accused of being murder unk]; a : [hillary is a disgrace for a landslide]\n",
      "q : [unk towards a home or for a journey to mars easy]; a : [what about the game]\n",
      "q : [good to hear seriously though if you need company even if its just digital im around]; a : [this is true i have a lot of times to be able to be a good one]\n",
      "q : [during mixed genre game discussion on game scoop unk cant believe no one mentioned henry unk]; a : [great news for the best]\n",
      "q : [an unk is supposed to hit us at unk pm tomorrow ]; a : [i have a new one]\n",
      "q : [unk larry for president]; a : [did you think that was a joke]\n",
      "q : [i hope your prayers are answered with use your job as a unk to better protect unk south carolina]; a : [so true i dont know what to do]\n",
      "q : [dang its kinda late have you ever been]; a : [i dont know what to do it]\n",
      "q : [cards on the table im also a big fat piece of crap i just think youre an inspirational dude]; a : [i think its a good idea i think i could be able to be able to be able to be]\n",
      "q : [new macbook pro coming soon apple and unk are making unk new computers]; a : [the most ones in the world is the first time]\n",
      "q : [trump claimed during the debate that he never said climate change was a hoax unk by china he did]; a : [you are a moron]\n",
      "q : [check and see if they were actually filmed in unk]; a : [they did it]\n",
      "q : [im all for it lets go]; a : [i know i was there]\n",
      "q : [clinton trump paid no federal income tax trump that makes me smart]; a : [i dont think the same thing is a fact that would be a fact]\n",
      "q : [i listened to whole show how is you arguing with unk unk for last 20 mins fantasy relevant]; a : [thought this was a good thing]\n",
      "q : [unk it was fun ty for including me in ur team ]; a : [so glad you enjoyed it]\n",
      "q : [so its not safe to send our children to school unk gotcha]; a : [hey is the link to the bay]\n",
      "q : [nah no spam unk def not no beans]; a : [not even even have to be a fan of the game]\n",
      "q : [just in cnn announces town hall with obama next week]; a : [and trump will be a better president than a landslide]\n",
      "q : [lol yeah this race is over get ready for unk president]; a : [cant wait to see that]\n",
      "q : [a5 i have students follow sm for presidential debates amp election to seek bias amp unk media messages]; a : [the media is not the worst states in the country of the country]\n",
      "q : [it was rolled up ]; a : [ the whole one is like a lot of the time]\n",
      "q : [same i rarely forget my phone but being able to write longer messages would be really helpful]; a : [you can go on the game]\n",
      "q : [bitch she looks good]; a : [her twist of her]\n",
      "q : [u know u have a good job when u get a card]; a : [youre a little fan of my life and a lot of people else]\n",
      "q : [trump unk saying not paying taxes makes me smart an hour after he said it]; a : [because he was a moron]\n",
      "q : [looked like this to me]; a : [the only one who is]\n",
      "q : [the only saying hillary clinton won  the clinton news network biggest liberal hacks amp liars ]; a : [hillary is a lie]\n",
      "q : [unk videos are the opposite of unk to me]; a : [its not a joke but its a good thing]\n",
      "q : [im coming to your house for the next game lol]; a : [ill be there for the next time]\n",
      "q : [i cant help it i have too much fun]; a : [i am so excited to hear that]\n",
      "q : [unk is right they arent real completely fake]; a : [if you are voting for trump who is a muslim person and a woman who wants to be a muslim]\n",
      "q : [looking for a here in]; a : [what is remote work]\n",
      "q : [played the video and nothing how loud is yours if its doing it]; a : [was like a lot of people in the first time]\n",
      "q : [shes good in the ring but needs work and can be annoying she needs to turn heel]; a : [she is so cute]\n",
      "q : [such a great honor final debate polls are in  and the movement wins ]; a : [ we need to get rid of the debate]\n",
      "q : [do you have any other poll numbers to unk cnn]; a : [if trump is elected trump is a disgrace]\n",
      "q : [project unk cracking down on all unk]; a : [i know that i was just thinking about it]\n",
      "q : [oh shit i just got on a random train how do you tell if it is the right one]; a : [not because i dont get a pic of the time lol]\n"
     ]
    }
   ],
   "source": [
    "replies = []\n",
    "for ii, oi in zip(input_.T, output):\n",
    "    q = data_utils.decode(sequence=ii, lookup=metadata['idx2w'], separator=' ')\n",
    "    decoded = data_utils.decode(sequence=oi, lookup=metadata['idx2w'], separator=' ').split(' ')\n",
    "    if decoded.count('unk') == 0:\n",
    "        if decoded not in replies:\n",
    "            print('q : [{0}]; a : [{1}]'.format(q, ' '.join(decoded)))\n",
    "            replies.append(decoded)"
   ]
  },
  {
   "cell_type": "code",
   "execution_count": null,
   "metadata": {
    "collapsed": true
   },
   "outputs": [],
   "source": []
  },
  {
   "cell_type": "code",
   "execution_count": null,
   "metadata": {
    "collapsed": true
   },
   "outputs": [],
   "source": []
  },
  {
   "cell_type": "code",
   "execution_count": null,
   "metadata": {
    "collapsed": true
   },
   "outputs": [],
   "source": []
  },
  {
   "cell_type": "code",
   "execution_count": null,
   "metadata": {
    "collapsed": true
   },
   "outputs": [],
   "source": []
  },
  {
   "cell_type": "code",
   "execution_count": null,
   "metadata": {
    "collapsed": true
   },
   "outputs": [],
   "source": []
  },
  {
   "cell_type": "code",
   "execution_count": null,
   "metadata": {
    "collapsed": true
   },
   "outputs": [],
   "source": []
  }
 ],
 "metadata": {
  "kernelspec": {
   "display_name": "Python 3",
   "language": "python",
   "name": "python3"
  },
  "language_info": {
   "codemirror_mode": {
    "name": "ipython",
    "version": 3
   },
   "file_extension": ".py",
   "mimetype": "text/x-python",
   "name": "python",
   "nbconvert_exporter": "python",
   "pygments_lexer": "ipython3",
   "version": "3.5.3"
  }
 },
 "nbformat": 4,
 "nbformat_minor": 1
}
