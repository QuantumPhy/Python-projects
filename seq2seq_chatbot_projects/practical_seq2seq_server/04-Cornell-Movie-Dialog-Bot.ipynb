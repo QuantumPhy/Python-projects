{
 "cells": [
  {
   "cell_type": "markdown",
   "metadata": {},
   "source": [
    "# Demonstrate Seq2Seq Wrapper with Cornell Movie Dialog Corpus"
   ]
  },
  {
   "cell_type": "code",
   "execution_count": 9,
   "metadata": {
    "collapsed": true
   },
   "outputs": [],
   "source": [
    "import tensorflow as tf\n",
    "import numpy as np\n",
    "\n",
    "# preprocessed data\n",
    "from datasets.cornell_corpus import data\n",
    "import data_utils"
   ]
  },
  {
   "cell_type": "code",
   "execution_count": 10,
   "metadata": {},
   "outputs": [
    {
     "data": {
      "text/plain": [
       "<module 'datasets.cornell_corpus.data' from '/userhome/student/csaky/chatbots/practical_seq2seq-master/datasets/cornell_corpus/data.py'>"
      ]
     },
     "execution_count": 10,
     "metadata": {},
     "output_type": "execute_result"
    }
   ],
   "source": [
    "import importlib\n",
    "importlib.reload(data)"
   ]
  },
  {
   "cell_type": "code",
   "execution_count": 11,
   "metadata": {
    "collapsed": true
   },
   "outputs": [],
   "source": [
    "# load data from pickle and npy files\n",
    "metadata, idx_q, idx_a = data.load_data(PATH='datasets/cornell_corpus/')\n",
    "(trainX, trainY), (testX, testY), (validX, validY) = data_utils.split_dataset(idx_q, idx_a)"
   ]
  },
  {
   "cell_type": "code",
   "execution_count": 12,
   "metadata": {
    "collapsed": true
   },
   "outputs": [],
   "source": [
    "# parameters \n",
    "xseq_len = trainX.shape[-1]\n",
    "yseq_len = trainY.shape[-1]\n",
    "batch_size = 32\n",
    "xvocab_size = len(metadata['idx2w'])  \n",
    "yvocab_size = xvocab_size\n",
    "emb_dim = 1024"
   ]
  },
  {
   "cell_type": "code",
   "execution_count": 15,
   "metadata": {
    "collapsed": true
   },
   "outputs": [],
   "source": [
    "import seq2seq_wrapper"
   ]
  },
  {
   "cell_type": "code",
   "execution_count": 16,
   "metadata": {},
   "outputs": [
    {
     "name": "stdout",
     "output_type": "stream",
     "text": [
      "<log> Building Graph </log>"
     ]
    }
   ],
   "source": [
    "importlib.reload(seq2seq_wrapper)\n",
    "model = seq2seq_wrapper.Seq2Seq(xseq_len=xseq_len,\n",
    "                               yseq_len=yseq_len,\n",
    "                               xvocab_size=xvocab_size,\n",
    "                               yvocab_size=yvocab_size,\n",
    "                               ckpt_path='ckpt/cornell_corpus/',\n",
    "                               emb_dim=emb_dim,\n",
    "                               num_layers=3\n",
    "                               )"
   ]
  },
  {
   "cell_type": "code",
   "execution_count": 17,
   "metadata": {
    "collapsed": true
   },
   "outputs": [],
   "source": [
    "val_batch_gen = data_utils.rand_batch_gen(validX, validY, 32)\n",
    "test_batch_gen = data_utils.rand_batch_gen(testX, testY, 32)\n",
    "train_batch_gen = data_utils.rand_batch_gen(trainX, trainY, batch_size)"
   ]
  },
  {
   "cell_type": "code",
   "execution_count": null,
   "metadata": {},
   "outputs": [
    {
     "name": "stdout",
     "output_type": "stream",
     "text": [
      "\n",
      "<log> Training started </log>\n",
      "\n",
      "Model saved to disk at iteration #1000\n",
      "valid   loss : 1.955774\n",
      "train   loss : 1.884649\n",
      "lr      rate : 0.000906\n",
      "\n",
      "Model saved to disk at iteration #2000\n",
      "valid   loss : 1.975578\n",
      "train   loss : 1.828991\n",
      "lr      rate : 0.000821\n"
     ]
    }
   ],
   "source": [
    "sess = model.train(train_batch_gen, val_batch_gen)"
   ]
  },
  {
   "cell_type": "code",
   "execution_count": 65,
   "metadata": {
    "collapsed": true
   },
   "outputs": [],
   "source": [
    "sess = model.restore_last_session()"
   ]
  },
  {
   "cell_type": "code",
   "execution_count": 66,
   "metadata": {},
   "outputs": [
    {
     "name": "stdout",
     "output_type": "stream",
     "text": [
      "(128, 25, 8002)\n"
     ]
    }
   ],
   "source": [
    "input_ = test_batch_gen.__next__()[0]\n",
    "output = model.predict(sess, input_)\n",
    "print(output.shape)"
   ]
  },
  {
   "cell_type": "code",
   "execution_count": 12,
   "metadata": {},
   "outputs": [
    {
     "name": "stdout",
     "output_type": "stream",
     "text": [
      "q : [frightening thought]; a : [i dont know]\n",
      "q : [whys that]; a : [you know what you want]\n",
      "q : [im sorry]; a : [i dont know]\n",
      "q : [open that door damn you]; a : [i dont know]\n",
      "q : [what do you mean]; a : [i dont know]\n",
      "q : [andy before we begin id just like to say everyone in this room is your friend]; a : [what are you talking about]\n",
      "q : [yeah i understand hes been up here the last six weeks]; a : [i dont know what you mean]\n",
      "q : [they had me from the gate]; a : [yes sir]\n",
      "q : [yes hes fine too you saw them at easter]; a : [yes sir]\n",
      "q : [i need to i need to believe something this is the first time ive ever come up against anything i couldnt understand]; a : [i dont know]\n",
      "q : [dont get mental man]; a : [i dont know]\n",
      "q : [you havent said anything]; a : [i dont know]\n",
      "q : [oh good]; a : [i dont know what you want]\n",
      "q : [things change]; a : [you know what you want]\n",
      "q : [yeah well miss breakfast]; a : [you know what you want]\n",
      "q : [my father had farm land it was the only thing we owned of any value]; a : [you dont know what you mean]\n",
      "q : [you said you liked me]; a : [i dont know]\n",
      "q : [put him in doctor unk office]; a : [no i dont know]\n",
      "q : [what is this]; a : [i dont know]\n",
      "q : [you said that last time]; a : [i dont know]\n",
      "q : [whoa whoa its gonna be alright]; a : [no i dont know]\n",
      "q : [do you think hell take the job]; a : [no i dont know]\n",
      "q : [i miss unk so much]; a : [i dont know]\n",
      "q : [golly i hadnt thought of that]; a : [you dont know what you want to do]\n",
      "q : [how long ago did this guy retire]; a : [i dont know]\n",
      "q : [really and maybe shorter habits and women unk and sleeping late]; a : [you want to go]\n",
      "q : [i see yes of course]; a : [you dont know what you want to do]\n",
      "q : [so mitchell had handled it afterwards brandon picked it up theres no indication you handled it]; a : [i dont know]\n",
      "q : [hell lead you over the first cliff you know that dont you]; a : [what are you talking about]\n",
      "q : [thanks miz unk but i dont want to take up any more of your time i best be going]; a : [you want to go]\n",
      "q : [a hundred an thirty]; a : [i know]\n",
      "q : [chopped liver]; a : [i dont know]\n",
      "q : [ill carry him till the third]; a : [you know what you mean]\n",
      "q : [why are you marrying johnny hes a fool]; a : [you dont know what you mean]\n",
      "q : [i thought you were over it]; a : [i dont know]\n",
      "q : [so unk youve seen this huh]; a : [i dont know]\n",
      "q : [the world thinks andy kaufman sucks so i was just giving em what they want]; a : [i dont know]\n",
      "q : [he cant drink this milk itll make him sick hes on a unk i was a fool i shouldnt have kept him with me]; a : [you dont know what you want]\n",
      "q : [wasnt a unk a short story]; a : [you know what you want]\n",
      "q : [how are you baby]; a : [i dont know]\n",
      "q : [screw you]; a : [i dont know]\n",
      "q : [i think ill go for a walk]; a : [oh yeah i dont want to talk to you]\n",
      "q : [ive given this a lot of thought sir the best thing that could happen is we find ryan and hes dead]; a : [i dont know what you want]\n",
      "q : [tom this is our case]; a : [we dont know what they were]\n",
      "q : [chewie and i will take care of this you stay here]; a : [oh i know]\n",
      "q : [wait there must be some unk he was the dog is alive]; a : [i dont know]\n",
      "q : [can we talk]; a : [i dont know]\n",
      "q : [so what do you think]; a : [i dont know]\n",
      "q : [well youre a little early]; a : [i dont know]\n",
      "q : [my letter]; a : [you know what you want]\n",
      "q : [well he aint normal thats unk sure]; a : [what are you doing]\n",
      "q : [what happened]; a : [i dont know]\n",
      "q : [lets go to bed ill rub your back]; a : [oh yeah i dont know what you want]\n",
      "q : [you said we could go to new york]; a : [okay ill be fine]\n",
      "q : [up were moving out]; a : [what are you doing]\n",
      "q : [you could still help me do that]; a : [i dont know what you want]\n",
      "q : [you alright]; a : [no i dont know]\n",
      "q : [youre dismissed]; a : [not yet]\n",
      "q : [its been here seventeen years did you live here before or something]; a : [i dont know]\n",
      "q : [you are such a great person lloyd im a good person but you are a great person]; a : [you know what i mean]\n",
      "q : [youre sorry i got somebodys old unk stuck in my ass so dont tell me youre sorry just take me home]; a : [i dont know what you want]\n",
      "q : [we been through this before]; a : [i dont know]\n",
      "q : [you could go deaf with the noise it unk means champion apollo creed is heading towards the ring]; a : [what do you mean]\n",
      "q : [wait a minute im letting unk in on this not all your friends]; a : [i dont know]\n",
      "q : [billys on it heat unk pretty unk for unk mountain boys]; a : [i dont know]\n",
      "q : [i will ask you once more what sort of car]; a : [you dont know what you want to do]\n",
      "q : [i dont know]; a : [you dont know what you want]\n",
      "q : [you get your first palm tree in south unk]; a : [yeah i know]\n",
      "q : [whats going on here]; a : [i dont know]\n",
      "q : [why didnt you come alone lester invited you did you have to bring her]; a : [i dont know what i was]\n",
      "q : [made your million yet]; a : [no i dont know]\n",
      "q : [hows mary]; a : [oh yeah]\n",
      "q : [oh wendy thats nice thats the unk]; a : [i dont know what you want]\n",
      "q : [guy unk dope and dollar from ripping off other drug dealers as least thats what the word is]; a : [i dont know]\n",
      "q : [your gun]; a : [i dont know]\n",
      "q : [got a thick feelin here]; a : [you know what you want]\n",
      "q : [well you know im dear to the subject matter]; a : [i dont know]\n",
      "q : [what national tv]; a : [i dont know]\n",
      "q : [thats where i was going unk drive]; a : [no i dont know]\n",
      "q : [and left from my dreaming was a feeling of unk unk]; a : [i dont know what you mean]\n",
      "q : [is it all right i made it out to cash you didnt tell me the name of the play]; a : [no i dont know]\n",
      "q : [oh yes well keep him in here obviously but if he had to leave and we were with him]; a : [i dont know what you mean]\n",
      "q : [rose you dont look well and you havent eaten a bit of breakfast]; a : [i dont know]\n",
      "q : [you could make a career by telling me where]; a : [you dont know what you want to do]\n",
      "q : [look ma no wires]; a : [i dont know]\n",
      "q : [hell be back soon]; a : [i dont know]\n",
      "q : [edie i need you to love me tell me you love me]; a : [i dont want to talk to you]\n",
      "q : [you dont think so]; a : [i dont know]\n",
      "q : [on top of the empire state building at sunset on unk day]; a : [yes sir]\n"
     ]
    }
   ],
   "source": [
    "replies = []\n",
    "for ii, oi in zip(input_.T, output):\n",
    "    q = data_utils.decode(sequence=ii, lookup=metadata['idx2w'], separator=' ')\n",
    "    decoded = data_utils.decode(sequence=oi, lookup=metadata['idx2w'], separator=' ').split(' ')\n",
    "    if decoded.count('unk') == 0:\n",
    "        #if decoded not in replies:\n",
    "            print('q : [{0}]; a : [{1}]'.format(q, ' '.join(decoded)))\n",
    "            replies.append(decoded)"
   ]
  },
  {
   "cell_type": "code",
   "execution_count": 73,
   "metadata": {},
   "outputs": [
    {
     "name": "stdout",
     "output_type": "stream",
     "text": [
      "[ 2 53  1  0  0  0  0  0  0  0  0  0  0  0  0  0  0  0  0  0  0  0  0  0  0]\n",
      "[   3  334 5121    0    0    0    0    0    0    0    0    0    0    0    0\n",
      "    0    0    0    0    0    0    0    0    0    0]\n",
      "q : [if its in here at all its in the back two unk]; a : [i probably porno]\n",
      "q : [i wish you didnt have to go so early]; a : [you doesnt you talking about looked]\n",
      "q : [that depends how do the unk usually kill their victims]; a : [fifteen minutes loved]\n",
      "q : [what were you doing there you never told me you were singing with an r and b group]; a : [thats isnt you talking about]\n",
      "q : [i mean mr green was so nice to me he took me in and]; a : [isnt told okay]\n",
      "q : [you ran without us]; a : [what national look and]\n",
      "q : [no its not going through the unk busted i thought unk fixed that]; a : [its know know how]\n",
      "q : [unk and draw two for unk now youre beginning to live]; a : [why get sound children act used few anyway]\n",
      "q : [thats crazy ill get you some applications]; a : [very when here]\n",
      "q : [i will only be gone about half an hour]; a : [not mean know sometimes i know ask]\n",
      "q : [what is the nature of your interest in joe]; a : [they was know its]\n",
      "q : [i have to go im sorry to say]; a : [then can think too bring me cab woman]\n",
      "q : [i didnt say anything]; a : [i would want to senator stupid phone maam]\n",
      "q : [i think this place is just fine]; a : [have going want its if dont in need henry]\n",
      "q : [why]; a : [out says know what]\n",
      "q : [you just have to remember men are like houses and trade unk i thought you had a pretty good marriage]; a : [youre cant think if i knew are]\n",
      "q : [down from houston i think he knew the girl before]; a : [he talked going accident conference]\n",
      "q : [unk what are you]; a : [transfer guess know i]\n",
      "q : [right no one else]; a : [oh buy see if]\n",
      "q : [well youre a unk now]; a : [i wont have i]\n",
      "q : [thats all right maybe she could have fooled me but she didnt fool my mother]; a : [take will understand i were got about]\n",
      "q : [youre mine you know i made you]; a : [im cant care]\n",
      "q : [no i mean i can check it for you]; a : [its the run in]\n",
      "q : [would you like to come in]; a : [i do want anymore]\n",
      "q : [i dont know how to walk in heels]; a : [you mean care anything you want and go with]\n",
      "q : [ill be a monkeys kid sister what dyou want to do a thing like that for]; a : [weve dont we doing]\n",
      "q : [what are you studying now mrs hillyer]; a : [id dont know but]\n",
      "q : [i feel bad about walkin]; a : [and didnt know that to can]\n",
      "q : [i gotta go meet kelly for a drink downstairs she wants to talk about some photo thing]; a : [ive no]\n",
      "q : [what not you too]; a : [presents said know think]\n",
      "q : [alright kincaid no where to]; a : [go dont know marriage]\n",
      "q : [i wish i still thought like you]; a : [why want it i killed your]\n",
      "q : [you got your room straightened out yet]; a : [im wasnt believe the]\n",
      "q : [this isnt the junior chamber of unk brad]; a : [yeah it do understand even how it are anne]\n",
      "q : [mickey and mallory were unk unk in a mental examination before their trial im confused whats changed]; a : [the asked to go sick first]\n",
      "q : [i dont know what happened]; a : [i dont know exactly]\n",
      "q : [you were unk ideas making plans arriving at decisions right]; a : [im do know who]\n",
      "q : [it was lying where on the balcony]; a : [now we remember an use operation]\n",
      "q : [he even had me wanting to play for the unk man how stupid am i]; a : [where if how else the]\n",
      "q : [you do it]; a : [is dont know anything]\n",
      "q : [edward i cant]; a : [you cant need anything instead say]\n",
      "q : [im getting a 10 finders fee from my man if i can get the right price]; a : [your being your know back]\n",
      "q : [youre unk in his heart and memory unk which works out great]; a : [is you you talking about]\n",
      "q : [its not that can we meet after school please]; a : [im maybe didnt i]\n",
      "q : [its been about a year and a half]; a : [it hurt do you was asking]\n",
      "q : [wanna join your little friend]; a : [i dont want]\n",
      "q : [next time we do a job like this we gonna want more money or we are going back to post offices and cars]; a : [okay think me make in]\n",
      "q : [would you give that script a rest its like a unk unk cord to you]; a : [oh dont know what]\n",
      "q : [two miles unk over there do you know where this unk is or not]; a : [no understand]\n",
      "q : [then youll be all set]; a : [i know go that youre fucked that]\n",
      "q : [thank you]; a : [yeah didnt believe what you looked like]\n",
      "q : [anywhere we have to stop it from getting out]; a : [youve need catch its]\n",
      "q : [its too bad about your mom at least she went unk ive seen a lot of people go out the hard way]; a : [shes if you doing about]\n",
      "q : [what unk to you]; a : [im came know its]\n",
      "q : [hi can i come in]; a : [yeah thank oh]\n",
      "q : [outside of that]; a : [what mean know]\n",
      "q : [no i fucking dont you cant make a cup of tea edward]; a : [and do you want do]\n",
      "q : [i think its time you went home drew]; a : [do think want it take able great im]\n",
      "q : [youre talking through your hat youre offering a deal because youve got no proof]; a : [and know know to bed back boy thanks]\n",
      "q : [this is crazy you cant escape like this]; a : [you think care what we do i]\n",
      "q : [assume away]; a : [we know know im]\n",
      "q : [not from me i only stole it when are you coming over to the unk men]; a : [ray didnt want to see im you]\n",
      "q : [how come youre not unk]; a : [im thought doubt]\n",
      "q : [that wouldnt be a wise thing to do]; a : [my did know me you said]\n",
      "q : [you cant see the whole the whole complete act yet not yet but when this is done its going to be so so]; a : [i was know how]\n",
      "q : [i know where theyre going]; a : [you got know i]\n",
      "q : [why youre just a girl what do you do for a living you pack a shotgun]; a : [what know know did]\n",
      "q : [there you go again youre nothing but false notes]; a : [hey old you talking about]\n",
      "q : [why the suit]; a : [i know know what]\n",
      "q : [take off your hat]; a : [im know away speak home]\n",
      "q : [andy we dont want the viewer to get out of their chair they might change the channel]; a : [up couple trouble of]\n",
      "q : [you know unk]; a : [i sir prom think the]\n",
      "q : [and id end up a widow in two ways lets forget it ill just be a little more careful next time]; a : [i are know and kind did it]\n",
      "q : [how far is it scout]; a : [thatll got want you]\n",
      "q : [unk you]; a : [ive just say what]\n",
      "q : [dont make yourself sick]; a : [im sure know if]\n",
      "q : [if you were looking for promotion you should have picked one of the unk ones]; a : [i would usually anything]\n",
      "q : [could be]; a : [where have what hes do]\n",
      "q : [you know unk is a very unk habit]; a : [yes have have why]\n",
      "q : [unk was already dead his brain just hadnt caught on to that fact]; a : [the can mind oh it might the crazy]\n",
      "q : [ill be in my office]; a : [i bet want anything ask with him]\n",
      "q : [we actually got a phone call busy morning]; a : [i see know]\n",
      "q : [white man just using you to keep the black man down]; a : [lionel signature bottles three]\n",
      "q : [you know baby i cant figure you out]; a : [smoking could to go trying choice in]\n",
      "q : [and frank]; a : [take want a this mean is]\n",
      "q : [just get on with it alex]; a : [ill are you talking about you]\n",
      "q : [thats what i want to find out we have to get help]; a : [what am know to say to him later]\n",
      "q : [a mistake]; a : [who know know it]\n",
      "q : [whats your point]; a : [he know know]\n",
      "q : [im a yankee unk unk]; a : [view know too]\n",
      "q : [im trained im ready to go you wanna buy some candy to help unk youth in the]; a : [how are they gonna about]\n",
      "q : [have you seen my wallet]; a : [you that dont make]\n",
      "q : [this is nice]; a : [yes didnt know him]\n",
      "q : [no but there are four guys back there you might check out]; a : [how if you talking here]\n",
      "q : [about two years ago]; a : [you can whats in feel her]\n",
      "q : [he wants to unk he wants to unk]; a : [thats dont have what]\n",
      "q : [i dont understand what does this have to do with you carried a baby somewhere its unusual but]; a : [one have have about about are do that mary]\n",
      "q : [but nowhere near three million dollars worth i would say maybe twenty thousand]; a : [you did call the know out procedure you]\n",
      "q : [youre out of your mind]; a : [she promise know you]\n",
      "q : [about edie]; a : [its dunno said jim]\n",
      "q : [hey hold it unk the cash]; a : [probably have]\n",
      "q : [unk unk]; a : [er silly just]\n",
      "q : [more wine]; a : [ah mistake geek]\n",
      "q : [you like taking risks]; a : [right think need im]\n",
      "q : [we have twelve unk twelve unk twelve unk they moved away the highway]; a : [lets gave sire]\n",
      "q : [last nights as much my fault as yours if hes gonna put the blame on anybody]; a : [well havent even to give throwing call]\n",
      "q : [oh ellen my sweet ellen of course i knew]; a : [so shoulda any]\n",
      "q : [do you really think so andy]; a : [i understand know you]\n",
      "q : [lando grab it]; a : [arrest doctors have he you mean]\n",
      "q : [talking about like you dont like me very much do you]; a : [i love see this]\n",
      "q : [im confused about your past is the thing]; a : [its actually know if you dont say]\n",
      "q : [whos that with your dad]; a : [my got know you]\n",
      "q : [how do you do]; a : [its have say why]\n",
      "q : [good luck with yours kit]; a : [i didnt know who]\n",
      "q : [what do you see riddick]; a : [ask dont know]\n",
      "q : [then who did]; a : [would will have what one wanna look]\n",
      "q : [gimme a goddamn cigarette]; a : [is know give what i was]\n",
      "q : [paul my little unk penguin in the study always faces due south]; a : [that shall you going about]\n"
     ]
    }
   ],
   "source": [
    "import tensorflow as tf\n",
    "import numpy as np\n",
    "import random\n",
    "\n",
    "# preprocessed data\n",
    "from datasets.cornell_corpus import data\n",
    "import data_utils\n",
    "\n",
    "# load data from pickle and npy files\n",
    "metadata, idx_q, idx_a = data.load_data(PATH='datasets/cornell_corpus/')\n",
    "(trainX, trainY), (testX, testY), (validX, validY) = data_utils.split_dataset(idx_q, idx_a)\n",
    "\n",
    "\n",
    "input_ = test_batch_gen.__next__()[0]\n",
    "#input_=np.reshape(testX[0].T,(20,1))\n",
    "output = model.predict(sess, input_)\n",
    "#print(output.shape)\n",
    "output_max=np.argmax(output,axis=2)\n",
    "print(output_max[0,:])\n",
    "\n",
    "pred=np.zeros((128,25),dtype=np.int32)\n",
    "for inst in range(128):\n",
    "    for word in range(25):\n",
    "        #output[0,word,output[0,word,:]<0]=0\n",
    "        #output[0,word,:]+=np.abs(np.amin(output[0,word,:]))\n",
    "        sum_all=np.sum(np.exp(output[inst,word,:]))\n",
    "        output[inst,word,:]=np.exp(output[inst,word,:])/sum_all\n",
    "    \n",
    "        r=random.uniform(0,1)\n",
    "        s=0\n",
    "        broke=False\n",
    "        for i in range(8002):\n",
    "            s+=output[inst,word,i]\n",
    "            if s>=r:\n",
    "                pred[inst,word]=i\n",
    "                broke =True\n",
    "                break\n",
    "        if not broke:\n",
    "            pred[inst,word]=8001\n",
    "\n",
    "output=pred\n",
    "print(pred[0,:])\n",
    "\n",
    "replies = []\n",
    "for ii, oi in zip(input_.T, output):\n",
    "    q = data_utils.decode(sequence=ii, lookup=metadata['idx2w'], separator=' ')\n",
    "    decoded = data_utils.decode(sequence=oi, lookup=metadata['idx2w'], separator=' ').split(' ')\n",
    "    if decoded.count('unk') == 0:\n",
    "        #if decoded not in replies:\n",
    "            print('q : [{0}]; a : [{1}]'.format(q, ' '.join(decoded)))\n",
    "            replies.append(decoded)"
   ]
  }
 ],
 "metadata": {
  "kernelspec": {
   "display_name": "Python 3",
   "language": "python",
   "name": "python3"
  },
  "language_info": {
   "codemirror_mode": {
    "name": "ipython",
    "version": 3
   },
   "file_extension": ".py",
   "mimetype": "text/x-python",
   "name": "python",
   "nbconvert_exporter": "python",
   "pygments_lexer": "ipython3",
   "version": "3.5.2"
  }
 },
 "nbformat": 4,
 "nbformat_minor": 1
}
