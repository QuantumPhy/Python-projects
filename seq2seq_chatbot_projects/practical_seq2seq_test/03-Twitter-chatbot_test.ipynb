{
 "cells": [
  {
   "cell_type": "markdown",
   "metadata": {},
   "source": [
    "# Demonstrate Seq2Seq Wrapper with twitter chat log\n",
    "\n",
    "Put softmax to the outputs:\n",
    "p_i=exp(o_i)/sum(exp(o))"
   ]
  },
  {
   "cell_type": "code",
   "execution_count": 28,
   "metadata": {
    "collapsed": true
   },
   "outputs": [],
   "source": [
    "import tensorflow as tf\n",
    "import numpy as np\n",
    "import random\n",
    "\n",
    "# preprocessed data\n",
    "from datasets.twitter import data\n",
    "import data_utils"
   ]
  },
  {
   "cell_type": "code",
   "execution_count": 29,
   "metadata": {
    "collapsed": true
   },
   "outputs": [],
   "source": [
    "# load data from pickle and npy files\n",
    "metadata, idx_q, idx_a = data.load_data(PATH='datasets/twitter/')\n",
    "(trainX, trainY), (testX, testY), (validX, validY) = data_utils.split_dataset(idx_q, idx_a)"
   ]
  },
  {
   "cell_type": "code",
   "execution_count": 30,
   "metadata": {
    "collapsed": true
   },
   "outputs": [],
   "source": [
    "# parameters \n",
    "xseq_len = trainX.shape[-1]\n",
    "yseq_len = trainY.shape[-1]\n",
    "batch_size = 16\n",
    "xvocab_size = len(metadata['idx2w'])  \n",
    "yvocab_size = xvocab_size\n",
    "emb_dim = 1024"
   ]
  },
  {
   "cell_type": "code",
   "execution_count": 31,
   "metadata": {
    "collapsed": true
   },
   "outputs": [],
   "source": [
    "import seq2seq_wrapper"
   ]
  },
  {
   "cell_type": "code",
   "execution_count": 32,
   "metadata": {},
   "outputs": [
    {
     "data": {
      "text/plain": [
       "<module 'seq2seq_wrapper' from 'C:\\\\Users\\\\ricsi\\\\Documents\\\\GitHub\\\\Python-projects\\\\seq2seq_chatbot_projects\\\\practical_seq2seq_test\\\\seq2seq_wrapper.py'>"
      ]
     },
     "execution_count": 32,
     "metadata": {},
     "output_type": "execute_result"
    }
   ],
   "source": [
    "import importlib\n",
    "importlib.reload(seq2seq_wrapper)"
   ]
  },
  {
   "cell_type": "code",
   "execution_count": 33,
   "metadata": {},
   "outputs": [
    {
     "name": "stdout",
     "output_type": "stream",
     "text": [
      "<log> Building Graph </log>"
     ]
    }
   ],
   "source": [
    "model = seq2seq_wrapper.Seq2Seq(xseq_len=xseq_len,\n",
    "                               yseq_len=yseq_len,\n",
    "                               xvocab_size=xvocab_size,\n",
    "                               yvocab_size=yvocab_size,\n",
    "                               ckpt_path='ckpt/twitter/',\n",
    "                               emb_dim=emb_dim,\n",
    "                               num_layers=3\n",
    "                               )"
   ]
  },
  {
   "cell_type": "code",
   "execution_count": 34,
   "metadata": {
    "collapsed": true
   },
   "outputs": [],
   "source": [
    "val_batch_gen = data_utils.rand_batch_gen(validX, validY, 256)\n",
    "test_batch_gen = data_utils.rand_batch_gen(testX, testY, 256)\n",
    "train_batch_gen = data_utils.rand_batch_gen(trainX, trainY, batch_size)"
   ]
  },
  {
   "cell_type": "code",
   "execution_count": 146,
   "metadata": {},
   "outputs": [
    {
     "ename": "KeyboardInterrupt",
     "evalue": "",
     "output_type": "error",
     "traceback": [
      "\u001b[1;31m---------------------------------------------------------------------------\u001b[0m",
      "\u001b[1;31mKeyboardInterrupt\u001b[0m                         Traceback (most recent call last)",
      "\u001b[1;32m<ipython-input-146-eeed7b0d25a1>\u001b[0m in \u001b[0;36m<module>\u001b[1;34m()\u001b[0m\n\u001b[1;32m----> 1\u001b[1;33m \u001b[0msess\u001b[0m \u001b[1;33m=\u001b[0m \u001b[0mmodel\u001b[0m\u001b[1;33m.\u001b[0m\u001b[0mtrain\u001b[0m\u001b[1;33m(\u001b[0m\u001b[0mtrain_batch_gen\u001b[0m\u001b[1;33m,\u001b[0m \u001b[0mval_batch_gen\u001b[0m\u001b[1;33m)\u001b[0m\u001b[1;33m\u001b[0m\u001b[0m\n\u001b[0m",
      "\u001b[1;32mC:\\Users\\ricsi\\Documents\\GitHub\\Python-projects\\seq2seq_chatbot_projects\\practical_seq2seq-master_test\\seq2seq_wrapper.py\u001b[0m in \u001b[0;36mtrain\u001b[1;34m(self, train_set, valid_set, sess)\u001b[0m\n\u001b[0;32m    136\u001b[0m             \u001b[0msess\u001b[0m \u001b[1;33m=\u001b[0m \u001b[0mtf\u001b[0m\u001b[1;33m.\u001b[0m\u001b[0mSession\u001b[0m\u001b[1;33m(\u001b[0m\u001b[1;33m)\u001b[0m\u001b[1;33m\u001b[0m\u001b[0m\n\u001b[0;32m    137\u001b[0m             \u001b[1;31m# init all variables\u001b[0m\u001b[1;33m\u001b[0m\u001b[1;33m\u001b[0m\u001b[0m\n\u001b[1;32m--> 138\u001b[1;33m             \u001b[0msess\u001b[0m\u001b[1;33m.\u001b[0m\u001b[0mrun\u001b[0m\u001b[1;33m(\u001b[0m\u001b[0mtf\u001b[0m\u001b[1;33m.\u001b[0m\u001b[0mglobal_variables_initializer\u001b[0m\u001b[1;33m(\u001b[0m\u001b[1;33m)\u001b[0m\u001b[1;33m)\u001b[0m\u001b[1;33m\u001b[0m\u001b[0m\n\u001b[0m\u001b[0;32m    139\u001b[0m \u001b[1;33m\u001b[0m\u001b[0m\n\u001b[0;32m    140\u001b[0m         \u001b[0msys\u001b[0m\u001b[1;33m.\u001b[0m\u001b[0mstdout\u001b[0m\u001b[1;33m.\u001b[0m\u001b[0mwrite\u001b[0m\u001b[1;33m(\u001b[0m\u001b[1;34m'\\n<log> Training started </log>\\n'\u001b[0m\u001b[1;33m)\u001b[0m\u001b[1;33m\u001b[0m\u001b[0m\n",
      "\u001b[1;32mC:\\Users\\ricsi\\Anaconda3\\envs\\tensorflow0.12gpu\\lib\\site-packages\\tensorflow\\python\\client\\session.py\u001b[0m in \u001b[0;36mrun\u001b[1;34m(self, fetches, feed_dict, options, run_metadata)\u001b[0m\n\u001b[0;32m    764\u001b[0m     \u001b[1;32mtry\u001b[0m\u001b[1;33m:\u001b[0m\u001b[1;33m\u001b[0m\u001b[0m\n\u001b[0;32m    765\u001b[0m       result = self._run(None, fetches, feed_dict, options_ptr,\n\u001b[1;32m--> 766\u001b[1;33m                          run_metadata_ptr)\n\u001b[0m\u001b[0;32m    767\u001b[0m       \u001b[1;32mif\u001b[0m \u001b[0mrun_metadata\u001b[0m\u001b[1;33m:\u001b[0m\u001b[1;33m\u001b[0m\u001b[0m\n\u001b[0;32m    768\u001b[0m         \u001b[0mproto_data\u001b[0m \u001b[1;33m=\u001b[0m \u001b[0mtf_session\u001b[0m\u001b[1;33m.\u001b[0m\u001b[0mTF_GetBuffer\u001b[0m\u001b[1;33m(\u001b[0m\u001b[0mrun_metadata_ptr\u001b[0m\u001b[1;33m)\u001b[0m\u001b[1;33m\u001b[0m\u001b[0m\n",
      "\u001b[1;32mC:\\Users\\ricsi\\Anaconda3\\envs\\tensorflow0.12gpu\\lib\\site-packages\\tensorflow\\python\\client\\session.py\u001b[0m in \u001b[0;36m_run\u001b[1;34m(self, handle, fetches, feed_dict, options, run_metadata)\u001b[0m\n\u001b[0;32m    962\u001b[0m     \u001b[1;32mif\u001b[0m \u001b[0mfinal_fetches\u001b[0m \u001b[1;32mor\u001b[0m \u001b[0mfinal_targets\u001b[0m\u001b[1;33m:\u001b[0m\u001b[1;33m\u001b[0m\u001b[0m\n\u001b[0;32m    963\u001b[0m       results = self._do_run(handle, final_targets, final_fetches,\n\u001b[1;32m--> 964\u001b[1;33m                              feed_dict_string, options, run_metadata)\n\u001b[0m\u001b[0;32m    965\u001b[0m     \u001b[1;32melse\u001b[0m\u001b[1;33m:\u001b[0m\u001b[1;33m\u001b[0m\u001b[0m\n\u001b[0;32m    966\u001b[0m       \u001b[0mresults\u001b[0m \u001b[1;33m=\u001b[0m \u001b[1;33m[\u001b[0m\u001b[1;33m]\u001b[0m\u001b[1;33m\u001b[0m\u001b[0m\n",
      "\u001b[1;32mC:\\Users\\ricsi\\Anaconda3\\envs\\tensorflow0.12gpu\\lib\\site-packages\\tensorflow\\python\\client\\session.py\u001b[0m in \u001b[0;36m_do_run\u001b[1;34m(self, handle, target_list, fetch_list, feed_dict, options, run_metadata)\u001b[0m\n\u001b[0;32m   1012\u001b[0m     \u001b[1;32mif\u001b[0m \u001b[0mhandle\u001b[0m \u001b[1;32mis\u001b[0m \u001b[1;32mNone\u001b[0m\u001b[1;33m:\u001b[0m\u001b[1;33m\u001b[0m\u001b[0m\n\u001b[0;32m   1013\u001b[0m       return self._do_call(_run_fn, self._session, feed_dict, fetch_list,\n\u001b[1;32m-> 1014\u001b[1;33m                            target_list, options, run_metadata)\n\u001b[0m\u001b[0;32m   1015\u001b[0m     \u001b[1;32melse\u001b[0m\u001b[1;33m:\u001b[0m\u001b[1;33m\u001b[0m\u001b[0m\n\u001b[0;32m   1016\u001b[0m       return self._do_call(_prun_fn, self._session, handle, feed_dict,\n",
      "\u001b[1;32mC:\\Users\\ricsi\\Anaconda3\\envs\\tensorflow0.12gpu\\lib\\site-packages\\tensorflow\\python\\client\\session.py\u001b[0m in \u001b[0;36m_do_call\u001b[1;34m(self, fn, *args)\u001b[0m\n\u001b[0;32m   1019\u001b[0m   \u001b[1;32mdef\u001b[0m \u001b[0m_do_call\u001b[0m\u001b[1;33m(\u001b[0m\u001b[0mself\u001b[0m\u001b[1;33m,\u001b[0m \u001b[0mfn\u001b[0m\u001b[1;33m,\u001b[0m \u001b[1;33m*\u001b[0m\u001b[0margs\u001b[0m\u001b[1;33m)\u001b[0m\u001b[1;33m:\u001b[0m\u001b[1;33m\u001b[0m\u001b[0m\n\u001b[0;32m   1020\u001b[0m     \u001b[1;32mtry\u001b[0m\u001b[1;33m:\u001b[0m\u001b[1;33m\u001b[0m\u001b[0m\n\u001b[1;32m-> 1021\u001b[1;33m       \u001b[1;32mreturn\u001b[0m \u001b[0mfn\u001b[0m\u001b[1;33m(\u001b[0m\u001b[1;33m*\u001b[0m\u001b[0margs\u001b[0m\u001b[1;33m)\u001b[0m\u001b[1;33m\u001b[0m\u001b[0m\n\u001b[0m\u001b[0;32m   1022\u001b[0m     \u001b[1;32mexcept\u001b[0m \u001b[0merrors\u001b[0m\u001b[1;33m.\u001b[0m\u001b[0mOpError\u001b[0m \u001b[1;32mas\u001b[0m \u001b[0me\u001b[0m\u001b[1;33m:\u001b[0m\u001b[1;33m\u001b[0m\u001b[0m\n\u001b[0;32m   1023\u001b[0m       \u001b[0mmessage\u001b[0m \u001b[1;33m=\u001b[0m \u001b[0mcompat\u001b[0m\u001b[1;33m.\u001b[0m\u001b[0mas_text\u001b[0m\u001b[1;33m(\u001b[0m\u001b[0me\u001b[0m\u001b[1;33m.\u001b[0m\u001b[0mmessage\u001b[0m\u001b[1;33m)\u001b[0m\u001b[1;33m\u001b[0m\u001b[0m\n",
      "\u001b[1;32mC:\\Users\\ricsi\\Anaconda3\\envs\\tensorflow0.12gpu\\lib\\site-packages\\tensorflow\\python\\client\\session.py\u001b[0m in \u001b[0;36m_run_fn\u001b[1;34m(session, feed_dict, fetch_list, target_list, options, run_metadata)\u001b[0m\n\u001b[0;32m    997\u001b[0m                 run_metadata):\n\u001b[0;32m    998\u001b[0m       \u001b[1;31m# Ensure any changes to the graph are reflected in the runtime.\u001b[0m\u001b[1;33m\u001b[0m\u001b[1;33m\u001b[0m\u001b[0m\n\u001b[1;32m--> 999\u001b[1;33m       \u001b[0mself\u001b[0m\u001b[1;33m.\u001b[0m\u001b[0m_extend_graph\u001b[0m\u001b[1;33m(\u001b[0m\u001b[1;33m)\u001b[0m\u001b[1;33m\u001b[0m\u001b[0m\n\u001b[0m\u001b[0;32m   1000\u001b[0m       \u001b[1;32mwith\u001b[0m \u001b[0merrors\u001b[0m\u001b[1;33m.\u001b[0m\u001b[0mraise_exception_on_not_ok_status\u001b[0m\u001b[1;33m(\u001b[0m\u001b[1;33m)\u001b[0m \u001b[1;32mas\u001b[0m \u001b[0mstatus\u001b[0m\u001b[1;33m:\u001b[0m\u001b[1;33m\u001b[0m\u001b[0m\n\u001b[0;32m   1001\u001b[0m         return tf_session.TF_Run(session, options,\n",
      "\u001b[1;32mC:\\Users\\ricsi\\Anaconda3\\envs\\tensorflow0.12gpu\\lib\\site-packages\\tensorflow\\python\\client\\session.py\u001b[0m in \u001b[0;36m_extend_graph\u001b[1;34m(self)\u001b[0m\n\u001b[0;32m   1046\u001b[0m         \u001b[1;32mwith\u001b[0m \u001b[0merrors\u001b[0m\u001b[1;33m.\u001b[0m\u001b[0mraise_exception_on_not_ok_status\u001b[0m\u001b[1;33m(\u001b[0m\u001b[1;33m)\u001b[0m \u001b[1;32mas\u001b[0m \u001b[0mstatus\u001b[0m\u001b[1;33m:\u001b[0m\u001b[1;33m\u001b[0m\u001b[0m\n\u001b[0;32m   1047\u001b[0m           tf_session.TF_ExtendGraph(\n\u001b[1;32m-> 1048\u001b[1;33m               self._session, graph_def.SerializeToString(), status)\n\u001b[0m\u001b[0;32m   1049\u001b[0m         \u001b[0mself\u001b[0m\u001b[1;33m.\u001b[0m\u001b[0m_opened\u001b[0m \u001b[1;33m=\u001b[0m \u001b[1;32mTrue\u001b[0m\u001b[1;33m\u001b[0m\u001b[0m\n\u001b[0;32m   1050\u001b[0m \u001b[1;33m\u001b[0m\u001b[0m\n",
      "\u001b[1;32mC:\\Users\\ricsi\\Anaconda3\\envs\\tensorflow0.12gpu\\lib\\site-packages\\google\\protobuf\\internal\\python_message.py\u001b[0m in \u001b[0;36mSerializeToString\u001b[1;34m(self)\u001b[0m\n\u001b[0;32m   1034\u001b[0m           'Message %s is missing required fields: %s' % (\n\u001b[0;32m   1035\u001b[0m           self.DESCRIPTOR.full_name, ','.join(self.FindInitializationErrors())))\n\u001b[1;32m-> 1036\u001b[1;33m     \u001b[1;32mreturn\u001b[0m \u001b[0mself\u001b[0m\u001b[1;33m.\u001b[0m\u001b[0mSerializePartialToString\u001b[0m\u001b[1;33m(\u001b[0m\u001b[1;33m)\u001b[0m\u001b[1;33m\u001b[0m\u001b[0m\n\u001b[0m\u001b[0;32m   1037\u001b[0m   \u001b[0mcls\u001b[0m\u001b[1;33m.\u001b[0m\u001b[0mSerializeToString\u001b[0m \u001b[1;33m=\u001b[0m \u001b[0mSerializeToString\u001b[0m\u001b[1;33m\u001b[0m\u001b[0m\n\u001b[0;32m   1038\u001b[0m \u001b[1;33m\u001b[0m\u001b[0m\n",
      "\u001b[1;32mC:\\Users\\ricsi\\Anaconda3\\envs\\tensorflow0.12gpu\\lib\\site-packages\\google\\protobuf\\internal\\python_message.py\u001b[0m in \u001b[0;36mSerializePartialToString\u001b[1;34m(self)\u001b[0m\n\u001b[0;32m   1043\u001b[0m   \u001b[1;32mdef\u001b[0m \u001b[0mSerializePartialToString\u001b[0m\u001b[1;33m(\u001b[0m\u001b[0mself\u001b[0m\u001b[1;33m)\u001b[0m\u001b[1;33m:\u001b[0m\u001b[1;33m\u001b[0m\u001b[0m\n\u001b[0;32m   1044\u001b[0m     \u001b[0mout\u001b[0m \u001b[1;33m=\u001b[0m \u001b[0mBytesIO\u001b[0m\u001b[1;33m(\u001b[0m\u001b[1;33m)\u001b[0m\u001b[1;33m\u001b[0m\u001b[0m\n\u001b[1;32m-> 1045\u001b[1;33m     \u001b[0mself\u001b[0m\u001b[1;33m.\u001b[0m\u001b[0m_InternalSerialize\u001b[0m\u001b[1;33m(\u001b[0m\u001b[0mout\u001b[0m\u001b[1;33m.\u001b[0m\u001b[0mwrite\u001b[0m\u001b[1;33m)\u001b[0m\u001b[1;33m\u001b[0m\u001b[0m\n\u001b[0m\u001b[0;32m   1046\u001b[0m     \u001b[1;32mreturn\u001b[0m \u001b[0mout\u001b[0m\u001b[1;33m.\u001b[0m\u001b[0mgetvalue\u001b[0m\u001b[1;33m(\u001b[0m\u001b[1;33m)\u001b[0m\u001b[1;33m\u001b[0m\u001b[0m\n\u001b[0;32m   1047\u001b[0m   \u001b[0mcls\u001b[0m\u001b[1;33m.\u001b[0m\u001b[0mSerializePartialToString\u001b[0m \u001b[1;33m=\u001b[0m \u001b[0mSerializePartialToString\u001b[0m\u001b[1;33m\u001b[0m\u001b[0m\n",
      "\u001b[1;32mC:\\Users\\ricsi\\Anaconda3\\envs\\tensorflow0.12gpu\\lib\\site-packages\\google\\protobuf\\internal\\python_message.py\u001b[0m in \u001b[0;36mInternalSerialize\u001b[1;34m(self, write_bytes)\u001b[0m\n\u001b[0;32m   1049\u001b[0m   \u001b[1;32mdef\u001b[0m \u001b[0mInternalSerialize\u001b[0m\u001b[1;33m(\u001b[0m\u001b[0mself\u001b[0m\u001b[1;33m,\u001b[0m \u001b[0mwrite_bytes\u001b[0m\u001b[1;33m)\u001b[0m\u001b[1;33m:\u001b[0m\u001b[1;33m\u001b[0m\u001b[0m\n\u001b[0;32m   1050\u001b[0m     \u001b[1;32mfor\u001b[0m \u001b[0mfield_descriptor\u001b[0m\u001b[1;33m,\u001b[0m \u001b[0mfield_value\u001b[0m \u001b[1;32min\u001b[0m \u001b[0mself\u001b[0m\u001b[1;33m.\u001b[0m\u001b[0mListFields\u001b[0m\u001b[1;33m(\u001b[0m\u001b[1;33m)\u001b[0m\u001b[1;33m:\u001b[0m\u001b[1;33m\u001b[0m\u001b[0m\n\u001b[1;32m-> 1051\u001b[1;33m       \u001b[0mfield_descriptor\u001b[0m\u001b[1;33m.\u001b[0m\u001b[0m_encoder\u001b[0m\u001b[1;33m(\u001b[0m\u001b[0mwrite_bytes\u001b[0m\u001b[1;33m,\u001b[0m \u001b[0mfield_value\u001b[0m\u001b[1;33m)\u001b[0m\u001b[1;33m\u001b[0m\u001b[0m\n\u001b[0m\u001b[0;32m   1052\u001b[0m     \u001b[1;32mfor\u001b[0m \u001b[0mtag_bytes\u001b[0m\u001b[1;33m,\u001b[0m \u001b[0mvalue_bytes\u001b[0m \u001b[1;32min\u001b[0m \u001b[0mself\u001b[0m\u001b[1;33m.\u001b[0m\u001b[0m_unknown_fields\u001b[0m\u001b[1;33m:\u001b[0m\u001b[1;33m\u001b[0m\u001b[0m\n\u001b[0;32m   1053\u001b[0m       \u001b[0mwrite_bytes\u001b[0m\u001b[1;33m(\u001b[0m\u001b[0mtag_bytes\u001b[0m\u001b[1;33m)\u001b[0m\u001b[1;33m\u001b[0m\u001b[0m\n",
      "\u001b[1;32mC:\\Users\\ricsi\\Anaconda3\\envs\\tensorflow0.12gpu\\lib\\site-packages\\google\\protobuf\\internal\\encoder.py\u001b[0m in \u001b[0;36mEncodeRepeatedField\u001b[1;34m(write, value)\u001b[0m\n\u001b[0;32m    757\u001b[0m       \u001b[1;32mfor\u001b[0m \u001b[0melement\u001b[0m \u001b[1;32min\u001b[0m \u001b[0mvalue\u001b[0m\u001b[1;33m:\u001b[0m\u001b[1;33m\u001b[0m\u001b[0m\n\u001b[0;32m    758\u001b[0m         \u001b[0mwrite\u001b[0m\u001b[1;33m(\u001b[0m\u001b[0mtag\u001b[0m\u001b[1;33m)\u001b[0m\u001b[1;33m\u001b[0m\u001b[0m\n\u001b[1;32m--> 759\u001b[1;33m         \u001b[0mlocal_EncodeVarint\u001b[0m\u001b[1;33m(\u001b[0m\u001b[0mwrite\u001b[0m\u001b[1;33m,\u001b[0m \u001b[0melement\u001b[0m\u001b[1;33m.\u001b[0m\u001b[0mByteSize\u001b[0m\u001b[1;33m(\u001b[0m\u001b[1;33m)\u001b[0m\u001b[1;33m)\u001b[0m\u001b[1;33m\u001b[0m\u001b[0m\n\u001b[0m\u001b[0;32m    760\u001b[0m         \u001b[0melement\u001b[0m\u001b[1;33m.\u001b[0m\u001b[0m_InternalSerialize\u001b[0m\u001b[1;33m(\u001b[0m\u001b[0mwrite\u001b[0m\u001b[1;33m)\u001b[0m\u001b[1;33m\u001b[0m\u001b[0m\n\u001b[0;32m    761\u001b[0m     \u001b[1;32mreturn\u001b[0m \u001b[0mEncodeRepeatedField\u001b[0m\u001b[1;33m\u001b[0m\u001b[0m\n",
      "\u001b[1;32mC:\\Users\\ricsi\\Anaconda3\\envs\\tensorflow0.12gpu\\lib\\site-packages\\google\\protobuf\\internal\\python_message.py\u001b[0m in \u001b[0;36mByteSize\u001b[1;34m(self)\u001b[0m\n\u001b[0;32m   1011\u001b[0m     \u001b[0msize\u001b[0m \u001b[1;33m=\u001b[0m \u001b[1;36m0\u001b[0m\u001b[1;33m\u001b[0m\u001b[0m\n\u001b[0;32m   1012\u001b[0m     \u001b[1;32mfor\u001b[0m \u001b[0mfield_descriptor\u001b[0m\u001b[1;33m,\u001b[0m \u001b[0mfield_value\u001b[0m \u001b[1;32min\u001b[0m \u001b[0mself\u001b[0m\u001b[1;33m.\u001b[0m\u001b[0mListFields\u001b[0m\u001b[1;33m(\u001b[0m\u001b[1;33m)\u001b[0m\u001b[1;33m:\u001b[0m\u001b[1;33m\u001b[0m\u001b[0m\n\u001b[1;32m-> 1013\u001b[1;33m       \u001b[0msize\u001b[0m \u001b[1;33m+=\u001b[0m \u001b[0mfield_descriptor\u001b[0m\u001b[1;33m.\u001b[0m\u001b[0m_sizer\u001b[0m\u001b[1;33m(\u001b[0m\u001b[0mfield_value\u001b[0m\u001b[1;33m)\u001b[0m\u001b[1;33m\u001b[0m\u001b[0m\n\u001b[0m\u001b[0;32m   1014\u001b[0m \u001b[1;33m\u001b[0m\u001b[0m\n\u001b[0;32m   1015\u001b[0m     \u001b[1;32mfor\u001b[0m \u001b[0mtag_bytes\u001b[0m\u001b[1;33m,\u001b[0m \u001b[0mvalue_bytes\u001b[0m \u001b[1;32min\u001b[0m \u001b[0mself\u001b[0m\u001b[1;33m.\u001b[0m\u001b[0m_unknown_fields\u001b[0m\u001b[1;33m:\u001b[0m\u001b[1;33m\u001b[0m\u001b[0m\n",
      "\u001b[1;32mC:\\Users\\ricsi\\Anaconda3\\envs\\tensorflow0.12gpu\\lib\\site-packages\\google\\protobuf\\internal\\encoder.py\u001b[0m in \u001b[0;36mFieldSize\u001b[1;34m(map_value)\u001b[0m\n\u001b[0;32m    358\u001b[0m       \u001b[1;31m# duplication. For message map, value.ByteSize() should be called to\u001b[0m\u001b[1;33m\u001b[0m\u001b[1;33m\u001b[0m\u001b[0m\n\u001b[0;32m    359\u001b[0m       \u001b[1;31m# update the status.\u001b[0m\u001b[1;33m\u001b[0m\u001b[1;33m\u001b[0m\u001b[0m\n\u001b[1;32m--> 360\u001b[1;33m       \u001b[0mentry_msg\u001b[0m \u001b[1;33m=\u001b[0m \u001b[0mmessage_type\u001b[0m\u001b[1;33m.\u001b[0m\u001b[0m_concrete_class\u001b[0m\u001b[1;33m(\u001b[0m\u001b[0mkey\u001b[0m\u001b[1;33m=\u001b[0m\u001b[0mkey\u001b[0m\u001b[1;33m,\u001b[0m \u001b[0mvalue\u001b[0m\u001b[1;33m=\u001b[0m\u001b[0mvalue\u001b[0m\u001b[1;33m)\u001b[0m\u001b[1;33m\u001b[0m\u001b[0m\n\u001b[0m\u001b[0;32m    361\u001b[0m       \u001b[0mtotal\u001b[0m \u001b[1;33m+=\u001b[0m \u001b[0mmessage_sizer\u001b[0m\u001b[1;33m(\u001b[0m\u001b[0mentry_msg\u001b[0m\u001b[1;33m)\u001b[0m\u001b[1;33m\u001b[0m\u001b[0m\n\u001b[0;32m    362\u001b[0m       \u001b[1;32mif\u001b[0m \u001b[0mis_message_map\u001b[0m\u001b[1;33m:\u001b[0m\u001b[1;33m\u001b[0m\u001b[0m\n",
      "\u001b[1;32mC:\\Users\\ricsi\\Anaconda3\\envs\\tensorflow0.12gpu\\lib\\site-packages\\google\\protobuf\\internal\\python_message.py\u001b[0m in \u001b[0;36minit\u001b[1;34m(self, **kwargs)\u001b[0m\n\u001b[0;32m    479\u001b[0m     \u001b[0mself\u001b[0m\u001b[1;33m.\u001b[0m\u001b[0m_is_present_in_parent\u001b[0m \u001b[1;33m=\u001b[0m \u001b[1;32mFalse\u001b[0m\u001b[1;33m\u001b[0m\u001b[0m\n\u001b[0;32m    480\u001b[0m     \u001b[0mself\u001b[0m\u001b[1;33m.\u001b[0m\u001b[0m_listener\u001b[0m \u001b[1;33m=\u001b[0m \u001b[0mmessage_listener_mod\u001b[0m\u001b[1;33m.\u001b[0m\u001b[0mNullMessageListener\u001b[0m\u001b[1;33m(\u001b[0m\u001b[1;33m)\u001b[0m\u001b[1;33m\u001b[0m\u001b[0m\n\u001b[1;32m--> 481\u001b[1;33m     \u001b[0mself\u001b[0m\u001b[1;33m.\u001b[0m\u001b[0m_listener_for_children\u001b[0m \u001b[1;33m=\u001b[0m \u001b[0m_Listener\u001b[0m\u001b[1;33m(\u001b[0m\u001b[0mself\u001b[0m\u001b[1;33m)\u001b[0m\u001b[1;33m\u001b[0m\u001b[0m\n\u001b[0m\u001b[0;32m    482\u001b[0m     \u001b[1;32mfor\u001b[0m \u001b[0mfield_name\u001b[0m\u001b[1;33m,\u001b[0m \u001b[0mfield_value\u001b[0m \u001b[1;32min\u001b[0m \u001b[0mlist\u001b[0m\u001b[1;33m(\u001b[0m\u001b[0mkwargs\u001b[0m\u001b[1;33m.\u001b[0m\u001b[0mitems\u001b[0m\u001b[1;33m(\u001b[0m\u001b[1;33m)\u001b[0m\u001b[1;33m)\u001b[0m\u001b[1;33m:\u001b[0m\u001b[1;33m\u001b[0m\u001b[0m\n\u001b[0;32m    483\u001b[0m       \u001b[0mfield\u001b[0m \u001b[1;33m=\u001b[0m \u001b[0m_GetFieldByName\u001b[0m\u001b[1;33m(\u001b[0m\u001b[0mmessage_descriptor\u001b[0m\u001b[1;33m,\u001b[0m \u001b[0mfield_name\u001b[0m\u001b[1;33m)\u001b[0m\u001b[1;33m\u001b[0m\u001b[0m\n",
      "\u001b[1;32mC:\\Users\\ricsi\\Anaconda3\\envs\\tensorflow0.12gpu\\lib\\site-packages\\google\\protobuf\\internal\\python_message.py\u001b[0m in \u001b[0;36m__init__\u001b[1;34m(self, parent_message)\u001b[0m\n\u001b[0;32m   1379\u001b[0m       \u001b[0mself\u001b[0m\u001b[1;33m.\u001b[0m\u001b[0m_parent_message_weakref\u001b[0m \u001b[1;33m=\u001b[0m \u001b[0mparent_message\u001b[0m\u001b[1;33m\u001b[0m\u001b[0m\n\u001b[0;32m   1380\u001b[0m     \u001b[1;32melse\u001b[0m\u001b[1;33m:\u001b[0m\u001b[1;33m\u001b[0m\u001b[0m\n\u001b[1;32m-> 1381\u001b[1;33m       \u001b[0mself\u001b[0m\u001b[1;33m.\u001b[0m\u001b[0m_parent_message_weakref\u001b[0m \u001b[1;33m=\u001b[0m \u001b[0mweakref\u001b[0m\u001b[1;33m.\u001b[0m\u001b[0mproxy\u001b[0m\u001b[1;33m(\u001b[0m\u001b[0mparent_message\u001b[0m\u001b[1;33m)\u001b[0m\u001b[1;33m\u001b[0m\u001b[0m\n\u001b[0m\u001b[0;32m   1382\u001b[0m \u001b[1;33m\u001b[0m\u001b[0m\n\u001b[0;32m   1383\u001b[0m     \u001b[1;31m# As an optimization, we also indicate directly on the listener whether\u001b[0m\u001b[1;33m\u001b[0m\u001b[1;33m\u001b[0m\u001b[0m\n",
      "\u001b[1;31mKeyboardInterrupt\u001b[0m: "
     ]
    }
   ],
   "source": [
    "sess = model.train(train_batch_gen, val_batch_gen)"
   ]
  },
  {
   "cell_type": "code",
   "execution_count": 35,
   "metadata": {
    "collapsed": true
   },
   "outputs": [],
   "source": [
    "sess = model.restore_last_session()"
   ]
  },
  {
   "cell_type": "code",
   "execution_count": 14,
   "metadata": {},
   "outputs": [
    {
     "name": "stdout",
     "output_type": "stream",
     "text": [
      "(20, 1)\n",
      "(1, 20, 8002)\n",
      "[[ 35   8   6 255  10  72  67  23   6 595   3  18   6 875 320   0   0   0\n",
      "    0   0]]\n"
     ]
    }
   ],
   "source": [
    "#input_ = test_batch_gen.__next__()[0]\n",
    "input_=np.reshape(testX[0].T,(20,1))\n",
    "print(input_.shape)\n",
    "output = model.predict(sess, input_)\n",
    "print(output.shape)\n",
    "output_max=np.argmax(output,axis=2)\n",
    "print(output_max)"
   ]
  },
  {
   "cell_type": "code",
   "execution_count": 348,
   "metadata": {
    "collapsed": true
   },
   "outputs": [],
   "source": [
    "pred=np.zeros((1,20),dtype=np.int32)\n",
    "for word in range(20):\n",
    "    output[0,word,output[0,word,:]<0]=0\n",
    "    #output[0,word,:]+=np.abs(np.amin(output[0,word,:]))\n",
    "    sum_all=np.sum(output[0,word,:])\n",
    "    output[0,word,:]/=sum_all\n",
    "    \n",
    "    r=random.uniform(0,1)\n",
    "    s=0\n",
    "    broke=False\n",
    "    for i in range(8002):\n",
    "        s+=output[0,word,i]\n",
    "        if s>=r:\n",
    "            pred[0,word]=i\n",
    "            broke =True\n",
    "            break\n",
    "    if not broke:\n",
    "        pred[0,word]=8001\n",
    "    "
   ]
  },
  {
   "cell_type": "code",
   "execution_count": 349,
   "metadata": {},
   "outputs": [
    {
     "name": "stdout",
     "output_type": "stream",
     "text": [
      "[[  40 1581  118   41  468   56  899  517  541  147    8  448 1153   22\n",
      "   827   59  100   60  604   36]]\n",
      "[[  7  55  32   7 106   3  18   6 242 458  10   2 821   0   0   0   0   0\n",
      "    0   0]]\n"
     ]
    }
   ],
   "source": [
    "print(pred)\n",
    "print(np.argmax(output,axis=2))\n",
    "output=pred\n"
   ]
  },
  {
   "cell_type": "code",
   "execution_count": 350,
   "metadata": {},
   "outputs": [
    {
     "name": "stdout",
     "output_type": "stream",
     "text": [
      "q : [how are you doing my friend]; a : [if beach then dont stupid lol card matter wtf last is bitch laughing was alone now well thats others all]\n"
     ]
    }
   ],
   "source": [
    "replies = []\n",
    "for ii, oi in zip(input_.T, output):\n",
    "    q = data_utils.decode(sequence=ii, lookup=metadata['idx2w'], separator=' ')\n",
    "    decoded = data_utils.decode(sequence=oi, lookup=metadata['idx2w'], separator=' ').split(' ')\n",
    "    if decoded.count('unk') == 0:\n",
    "        if decoded not in replies:\n",
    "            print('q : [{0}]; a : [{1}]'.format(q, ' '.join(decoded)))\n",
    "            replies.append(decoded)"
   ]
  },
  {
   "cell_type": "code",
   "execution_count": 36,
   "metadata": {},
   "outputs": [
    {
     "name": "stdout",
     "output_type": "stream",
     "text": [
      "[ 4 69 28  6 54 74  3 48  6 54 74  0  0  0  0  0  0  0  0  0]\n",
      "[   4  396   12  781  291  537 1223 1941 5062  504  410  375    0    0    0\n",
      "    0    0    0    0    0]\n",
      "q : [the on never now came moron the on from a thats of resident unk thank what came]; max a : [the good are a they yes i got a they yes]\n",
      "q : [week me three excuse were water you youve wants me a howd i a jim unk showing finally if]; max a : [whats it your a howd i im and you these]\n",
      "q : [she shoot go time than us i mother a acres and i death to]; max a : [here it got a howd i got a record]\n",
      "q : [any isnt were didnt unk you offer louder the cry unk up he the guess to can]; max a : [the all good hes we a himself]\n",
      "q : [have for it me unk mars that fish suppose night unk]; max a : [know told but for know a dollars of you these of you these]\n",
      "q : [at know unk there in over close to]; max a : [the used the we oh to]\n",
      "q : [the good it words a hair which going almost]; max a : [almost i you much]\n",
      "q : [unk you unk go to]; max a : [hes what a theyll]\n",
      "q : [a thought she thats im unk her a hear when know your see buddy total smart you sexual baker]; max a : [to it for a match]\n",
      "q : [dont scully me he on hows be population were bad in fish to]; max a : [each ive it to]\n",
      "q : [theres are too does dont what you skip unk unk to]; max a : [dont what a deeply]\n",
      "q : [the where your talk unk have]; max a : [the all need up he i get]\n",
      "q : [what dont a himself]; max a : [the good but your a howd i im a they try]\n",
      "q : [people way me it to]; max a : [ive it me you knock]\n",
      "q : [slug the your a died]; max a : [got a some out of this thank]\n",
      "q : [her hi you much please the strange and iced]; max a : [thats it before im a dollars of you these]\n",
      "q : [do this sorry i you unk getting the noise it unk]; max a : [let im oh me it]\n",
      "q : [heller the good unk when call a clear if boston me a business a thanks business]; max a : [the all good like we a himself]\n",
      "q : [what oh so unk goddamnit factor]; max a : [are know a they yes i got i got a some out]\n",
      "q : [to unk]; max a : [the all up he i more]\n",
      "q : [one dont along whats it mother a winter do in there we you tax back is spoil]; max a : [in we this woman hear better must dad in always]\n",
      "q : [few dont hear been do yes to]; max a : [whats it your a special i you school of you these]\n",
      "q : [the lets you yeah get tell is hes ill so scared theyre smart you 18]; max a : [but all your a off magic of you these]\n",
      "q : [you unk of thought]; max a : [dont what a they please i im a look these]\n",
      "q : [cant for but left i unk you dyin of unk usual]; max a : [but for have weve police]\n",
      "q : [itll unk me you feeling enterprise]; max a : [the used the am im oh]\n",
      "q : [ground found that youre]; max a : [they way found]\n",
      "q : [chris took he for you newspapers wait car right merrick you hey animals night hey eating]; max a : [with us i got a some hit and you card according]\n",
      "q : [real and important thousand had nothing president mom supposed you cold raise met what win]; max a : [peter with thats made in]\n",
      "q : [was you said do connect of to change mine]; max a : [where first i tell it wouldnt and you should yes to]\n",
      "q : [this link a weather that are on unk my well why to]; max a : [the we open is the we on open about in]\n",
      "q : [on blame needs about in at youre partners]; max a : [on im a dollars of you should yes]\n",
      "q : [was dont went damn their what likes a file of unk that make intend mirrors unk walking stolen]; max a : [whats it up is]\n",
      "q : [it more is just with all up are than im a thanks baby alans how that gets be job]; max a : [for it complete he a house]\n",
      "q : [its being about think it wife my a unk seafood times you emmett]; max a : [because it up he it guess about is the all need up he i get]\n",
      "q : [unk how do is nightclub unk]; max a : [know a theyll]\n",
      "q : [place the made on change word that why had a girls survive]; max a : [each like we on a dollars of you hey yes go]\n",
      "q : [huh absolutely]; max a : [it thats im a they out]\n",
      "q : [the where first i break would]; max a : [the we open you hey please]\n",
      "q : [these to toddy unk help hed me my traffic montana separate something do may you these ill a asshole month]; max a : [thats the got hundred hot of be thank the us a howard havent well this some may]\n",
      "q : [let doors im wonderful me be pills unk]; max a : [the all good it your a ass not can]\n",
      "q : [are you hey since please because]; max a : [like we a himself]\n",
      "q : [with thats philip johnny her unk you learn of join wood that scuse stone unk is with day and]; max a : [so christ you whole what know a correct]\n",
      "q : [as me beer my unk they till city or me they happen wearing class holding was]; max a : [with naw me you to mum auggie some speak wish au reads are banana picard does was]\n",
      "q : [at this safe not you some doubt]; max a : [so out what a looking of yeah she your a they ago]\n",
      "q : [dont know outta im fact no the up are youre outta call yes to]; max a : [all up he it okay i im a they out]\n",
      "q : [off had discouraged bride]; max a : [its know told here it thats got a along of you building]\n",
      "q : [unk gordon expenses]; max a : [the one is along to]\n",
      "q : [unk still nurse of mrs you chance for fer i to vault playing in for that to]; max a : [on from in to the one in]\n",
      "q : [right today whose does unk emergency that honor who working love]; max a : [the up been no the all need up think i get in]\n",
      "q : [any were didnt unk to thing what you i you makes yeah not ask isnt model]; max a : [can for a shake i didnt]\n",
      "q : [the want very your scott dinner of sir please kill]; max a : [the one dont hear]\n",
      "q : [right it us you grade carter always fair make unk let call a howd that course porter pay to]; max a : [let im oh]\n",
      "q : [between rat mind its a barking]; max a : [the good hes we surprise and you card of you again]\n",
      "q : [cant hell mind moment i miracle]; max a : [like help im a himself no like we a another girls magic]\n",
      "q : [ive every its lions maybe will somebody the all real room food married well of make]; max a : [that maybe you whole what know a story]\n",
      "q : [political know this nature unk check i morning months love and unk sweet]; max a : [go the all up he i get is]\n",
      "q : [if you america of you advance as me asian that properly unk]; max a : [an different ive it me coffee]\n",
      "q : [unk troops extra i ends desk sounds to like when your fortune remember thing the coulda dont safe scam]; max a : [right you thatd what]\n",
      "q : [ill yourself dad this victory]; max a : [go at been to]\n",
      "q : [stopped that madame far hard her you unk]; max a : [dont love what have weve they]\n",
      "q : [at me emotional]; max a : [whats it up is reading about]\n",
      "q : [unk what then]; max a : [the us i god dont]\n",
      "q : [theres unk erin hurry but making unk going hi did]; max a : [but working being about you these go]\n",
      "q : [press took lombard it i moment virus night a looking why idea]; max a : [its and you notice mistake]\n",
      "q : [act and unless dont what sport a back interested please after too do how oh to]; max a : [in we a they please]\n",
      "q : [the say meet those to so most he i deep]; max a : [where first i tell it oh]\n",
      "q : [kind lived give]; max a : [ive it to]\n",
      "q : [dont what you money asses please no its have needs of could]; max a : [the one dont out]\n",
      "q : [psychological youre way that town broke son you some bird unk blow have principal they]; max a : [first the we oh going]\n",
      "q : [but back wake could hike unk]; max a : [because the we open about is]\n",
      "q : [drawer cause unk if a muffin]; max a : [you drink baby what just a access]\n",
      "q : [but on where somewhere loaded that turning dont future but two they been did]; max a : [at know you take sorry the all up he i get]\n",
      "q : [this bud what i your a some peggy into yes the tell this memory there hope if sure guys]; max a : [certainly at he the put]\n",
      "q : [unk thats program mother talk horrible do see been original him like unk anything dont hell know two they]; max a : [like from a looking of while and you card]\n",
      "q : [fucking back drugs you brother behind way was a yes lie to]; max a : [as found the save in do you way of you way to]\n",
      "q : [government still government vito is that through then with for]; max a : [hes ill so most of you or that play major she for you hour]\n",
      "q : [men laurie]; max a : [theres this lie for it do you these]\n",
      "q : [anyone just a unk me a pulse whatll by voice i leave]; max a : [like what just like we a himself no like we a himself]\n",
      "q : [unk we they and this eye on pace take comes you committed of syndrome go]; max a : [shes have mine i arent in to]\n",
      "q : [ad unk the margo show alright off without]; max a : [right for it tonight i eddie to]\n",
      "q : [on a rat listen damn breaks whatever me radiator a training other knew unk waste what hairs me window virginia]; max a : [you take please is what know a story leak a can famous]\n",
      "q : [only character clarence that unless unk for heart dont yes]; max a : [you house what do you hey behind of you those]\n",
      "q : [unk run]; max a : [dont what a they please]\n",
      "q : [couldnt he this doug was unk have in when hasnt talk ahead did]; max a : [there a truck of you until]\n",
      "q : [experience about you nice of banking and stopped cool madame afternoon to evening]; max a : [dont what have whos]\n",
      "q : [that of lost this should birds vote taken we pointless unk to]; max a : [at he hes find]\n",
      "q : [rest its they him the unk now thinks smile of unk and trust a goin ben to]; max a : [the guy just dont what a they please]\n",
      "q : [it up think barn dont what]; max a : [in we a himself]\n",
      "q : [folks what doing with your a some may god in were you unk buried frederick night bialystock lodge]; max a : [ive it me you squad how]\n",
      "q : [murder what a ordered you unk hour about can that you organized care her]; max a : [you take out she ill i im stuff not you again]\n",
      "q : [right it presents that hes bad wipe]; max a : [is we a himself the we open of in]\n",
      "q : [with something from would unk minister]; max a : [let im oh to]\n",
      "q : [happened just a look way]; max a : [as me you knock]\n",
      "q : [you youve richard unk juno]; max a : [you take yours i nice you bodyguards and you card of you house]\n",
      "q : [the turn of ready video are his have around piece young]; max a : [go are know you hey please]\n",
      "q : [together you much divorced and you house]; max a : [to the one it have them to]\n",
      "q : [seen unk your idea her talk howd for but wait contest cut]; max a : [him thanks him it your a howd]\n",
      "q : [genius want jersey youre of this writing]; max a : [the lets it got oh]\n",
      "q : [you unk ill superman neighborhood me stuff me gave a failure]; max a : [saw dont what called]\n",
      "q : [help in really remember have them off]; max a : [the all up he i get in to]\n",
      "q : [its sarge me talk picking me you pull landlord i children]; max a : [the good are know a they most]\n",
      "q : [mary to remember private the life and a them off royal had the last get]; max a : [wanna and you card of you card truth of you house of you house of you house]\n",
      "q : [unk seems]; max a : [all up he it good]\n",
      "q : [he for it being about go]; max a : [whats it up he it good]\n",
      "q : [it all your i say retrieval i movie sound are then do or jorge with under fun with under hooked]; max a : [the all up he it for being about you sorry i im a problem shut i im york i im]\n",
      "q : [here it your a generous before years my criminal you married that unk dont]; max a : [all killer about in]\n",
      "q : [you jeffrey your his have they was saavik even broken breath going couldnt at on helped]; max a : [that you should yes what a they please]\n",
      "q : [george his unk in not sir mountains reed to]; max a : [choice crew for it too i im a dollars of you house]\n",
      "q : [from i im how and nothing truth me a zavitz ray]; max a : [here it thats get in ever the thats got a they yes i got a they yes]\n",
      "q : [are wanted be couldnt what him they him sort]; max a : [oh what a they most]\n",
      "q : [you married again pathetic are parts right out follow what parents that you wont what a unk stops em]; max a : [have it for a match]\n",
      "q : [fucking unk all on good dangerous you kick good dangerous you sarah her have they]; max a : [as me you knock]\n",
      "q : [else a unk to]; max a : [you take please what is you hour what you serious]\n",
      "q : [after be receive north anything conversation and investment]; max a : [he what dont]\n",
      "q : [be eye what railroad]; max a : [it for a match]\n",
      "q : [unk]; max a : [the all up he i more]\n",
      "q : [excuse here an life nose not my shit]; max a : [all killer he i get]\n",
      "q : [been something a standing hes what and a hiding]; max a : [there just a gods]\n",
      "q : [people girl to]; max a : [ive it to]\n",
      "q : [have unk of you above road]; max a : [you take out what a himself]\n",
      "q : [down the happy with well youve other to go]; max a : [let im oh and you wish to]\n",
      "q : [that are dance name off]; max a : [that but for a dollars of you these]\n",
      "q : [the up no like am im card approve product evening cant get but real mr orange]; max a : [john at he but find]\n",
      "q : [back discuss i bad a hair unk her be paulie two me blank i nice you some unk]; max a : [look ride as me coffee dont]\n",
      "q : [no just its comes unk that unk dont question that the tried im talk occasionally to]; max a : [he quite i it]\n",
      "q : [are seem just it know elephant cant you for off anything and m]; max a : [all killer about a hear of a hear of a business]\n",
      "q : [the on ready more the bet it have]; max a : [the one it going to]\n",
      "q : [down thinking a other to gonna this quiet enough]; max a : [like on on a looking of yeah and you card of you house]\n",
      "q : [some kane unk post promised favor doin]; max a : [seen at a they out]\n",
      "q : [in what fight tight is unk unk what captain can and again super]; max a : [you take out she ill i im a they out]\n",
      "q : [am dont im you chicago of you youve miserable of you mall gump]; max a : [theres down the lets in we a looking of you these]\n",
      "q : [youre you business with whatre true you yeah she old life then little of frances]; max a : [to with us i got a howd i got a truck of you until]\n",
      "q : [to dont what a thought she ill wife such torpedoes that acted]; max a : [can what a shake]\n",
      "q : [only fake im by impossible crew]; max a : [the good like we a looking of you these]\n",
      "q : [with get a messages ending please was give six gambling has other but something sire a gambling gun saturday]; max a : [hurry at point]\n",
      "q : [bring you these life him you protection parole door you some lawson pour]; max a : [you ring what you serious]\n",
      "q : [photo unk eating]; max a : [the one dont long]\n",
      "q : [the hold i families pay point think unk sleep]; max a : [it from my and you looks]\n",
      "q : [each gonna dad coming why or]; max a : [all just is it for]\n",
      "q : [before new my cant matthew trouble grounded well of you these before]; max a : [little like we a himself not a business]\n",
      "q : [the wanna is taking i im didnt alarm its know told is hes never a off mustve to]; max a : [the good like we a scheduled correct of lost like what a scheduled correct]\n",
      "q : [my broke i sensitive shots morning about fact in come im i involved you citizen ass]; max a : [ray here it all your i im a dollars of you hey running is the all your i street not]\n",
      "q : [better on his sink now favor not a kane hudson pieces]; max a : [a they way]\n",
      "q : [its getting me theyre kat i dont dan]; max a : [you drink please what you serious]\n",
      "q : [heavy unk]; max a : [you much which of you much]\n",
      "q : [it when stupid i solid that call putting pigeons not it]; max a : [its and you wish no the all up think i get in ever to]\n",
      "q : [mcmurphy responding]; max a : [know you take out]\n",
      "q : [of lost]; max a : [the us i got a some out of this thank to]\n",
      "q : [silly this unk think hello absurd]; max a : [you take please what you hey please the your i say i you school of you these]\n",
      "q : [four the hill her be sweet you wont way that believe and oh burglary i far federation]; max a : [each the up is we a looking of yeah]\n",
      "q : [cant wrong unk unk happen do peel]; max a : [you drink out the your i say i this true]\n",
      "q : [there kids he it working outta get love]; max a : [the all up he it okay i im]\n",
      "q : [the one will]; max a : [the one it]\n",
      "q : [dont want im this relative registered here mind help used a by people girl to]; max a : [dont what a look please i im a look way]\n",
      "q : [that do a housekeeper unk gotta wise buckaroo weather how see war]; max a : [that out of you much yeah]\n",
      "q : [dont we you break cool shelf rely unk that the allowed mean sorry night was kinds damage]; max a : [seen the one dont]\n",
      "q : [saw take out me room that unk how i poor the where need]; max a : [id i you notice]\n",
      "q : [isnt la three unk i room do this unk mr do you ring did]; max a : [but all your i im a things out]\n",
      "q : [cant whats the pete says do nothings laws to]; max a : [cant what you hour to]\n",
      "q : [unk what cast]; max a : [like what a looking of see weird and you card of you house]\n",
      "q : [ill yourself hold to to one you most of in talk wont line unk of you serious unk do seven]; max a : [no are know a please is what know a personal]\n",
      "q : [what talk which of pants problem transportation i god]; max a : [day my up right it got a paris i you youve great of you youve great to]\n",
      "q : [the late it home not unk did the lets know]; max a : [sit the all up he i get]\n",
      "q : [have the us i god to down]; max a : [all killer the all okay i got a along of you yes]\n",
      "q : [bit where born think plate the okay i say sure i finish jealous]; max a : [let im oh to]\n",
      "q : [unk so out must name dont deck always for but sea]; max a : [taking i im a dollars of you again]\n",
      "q : [point but for subway about see tree tired always merrick may the couldnt stay slaughtered you unk]; max a : [that mr know a scheduled correct of you again]\n",
      "q : [else agree are know youre even]; max a : [it when your his york i got a some hit not it]\n",
      "q : [are unk not a unk to]; max a : [it us i im a dollars of you these]\n",
      "q : [cant all it soul be tobacco yes tick you isnt top]; max a : [whole what a things party to to]\n",
      "q : [seen unk at have bags to]; max a : [the one dont to]\n",
      "q : [because be hate ticket gave ordinary it shift such]; max a : [it for a match]\n",
      "q : [unk these of unk together on comment that its old vein him home]; max a : [dont what have minutes]\n",
      "q : [liked unk the one parlor of unk at in at youre the buy hello i up]; max a : [whats it your a howd i im a they out]\n",
      "q : [know boot so]; max a : [the all up he i more about dont]\n",
      "q : [opinion of dont raise mile unk that unk was so hamburger the real]; max a : [what you much please]\n",
      "q : [dont what have police its getting me theyre have trees that fourteen no the lets it thatll we came]; max a : [the lot it going to the one it going them to]\n",
      "q : [seconds holland well sake cook i men realize him stayed saw seconds holland any]; max a : [what a ones pretty]\n",
      "q : [dont what have came the where away broke i in its have needs of it one it to]; max a : [ive it to]\n",
      "q : [unk a cease job me between been]; max a : [it all up he you home what is]\n",
      "q : [before bring best whole newspapers that out ye her now castro creative why run do by without to]; max a : [to tell it youre to]\n",
      "q : [it five im unk could me hunt shaw home anything theory]; max a : [like ill i im a himself no like we a himself]\n",
      "q : [theyd i many unk unk of carpenter do joey here so has west mouth deals]; max a : [this thank to]\n",
      "q : [go it for and pigs shark in to it your so water dont we murder she sally you rack]; max a : [it for being about you hey please is we a himself]\n",
      "q : [the whats a breaking me you unk bills religion i tell here but lock could that you fire]; max a : [stay know need do you hey behind of you these]\n",
      "q : [thats with secret unk introduced old]; max a : [know a himself no the all good are a they most]\n",
      "q : [together sending its about i really use a ones successful go]; max a : [seen its have getting me it to]\n",
      "q : [yet sort what know unk was youre to hes what guess]; max a : [hes what have everybody that hes over got a along of didnt]\n",
      "q : [hand now unk about with away hull taylor that and moment with away beast heaven]; max a : [to it for know a match to to to to to to to to to to to to to to]\n",
      "q : [after you gimme to]; max a : [have minutes to to to to to to to to to to]\n",
      "q : [here it against to there us a maps time then me it unk to were figured]; max a : [ive it me you turn of bit]\n",
      "q : [becky harry wearing about al that dozen unk]; max a : [what a they please i you school of you house]\n",
      "q : [afraid the herr it is what sure guys shit]; max a : [id i you notice mistake]\n",
      "q : [on and seconds therapist fat language not play youve great]; max a : [that can want im a off stuff had a cease]\n",
      "q : [bothers problem agent boyd burn killing grave umeu ugh been i oxygen a cancel shift of happens]; max a : [you take please what a wagons dishes what a feels pieces]\n",
      "q : [done my that kill i get right today recall]; max a : [together just is love]\n",
      "q : [over unk your range stress toilet him man there time work crying]; max a : [the good but time being about you hey behind of you these]\n",
      "q : [are off had unk to]; max a : [are than im a another girls]\n",
      "q : [seen day my mother it back do code]; max a : [whats it up he i more]\n",
      "q : [count think thanks that thing get it honey to]; max a : [let im oh to]\n",
      "q : [twenty it must his and one not france screen to]; max a : [than im a another these to]\n",
      "q : [thank what unk]; max a : [the up the we oh]\n",
      "q : [like we do a exactly unk alan not a file of ignorance then she from unk]; max a : [is what a himself]\n",
      "q : [time animal]; max a : [the we own in]\n",
      "q : [you should unk servant either well also fuck dr said guy knew through]; max a : [are just you hey please]\n",
      "q : [as me coffee the over okay i to in]; max a : [to ive it me coffee you special]\n",
      "q : [the back guy getting me you enemies before got horn have is it all really use a everywhere of important]; max a : [the good you hey please what]\n",
      "q : [that with on define mean should long was double anyone unk nicky sane was meals]; max a : [the we on a dollars of you hey yes i got a thanks yes i got a some hit]\n",
      "q : [so theory be woman acting their]; max a : [no the your a rather i you school of you these]\n",
      "q : [dont what cant the bill how do beer son not will]; max a : [it for have they i up is]\n",
      "q : [grown well of ignore do dont stick to]; max a : [the us i got a some hit]\n",
      "q : [me they yours hello up you push off had the get on cobb now most]; max a : [know told the all need up he i more about in no the all good in we a looking of]\n",
      "q : [unk cleaning unk what straight cant under with wait in em]; max a : [you house jesus i im a look these]\n",
      "q : [you everybody feel uncle someplace ill impression do my]; max a : [you has out the we just i got a along of this thank]\n",
      "q : [paying you nation stuff find is any dog i unk could]; max a : [in we a looking of you or pieces that a looking of yeah for a shake]\n",
      "q : [roll uthinku i charged]; max a : [he about you these]\n",
      "q : [god tuesday play bitch finest decide guys until what orbit]; max a : [it for a match]\n",
      "q : [bright a 200 and cloud hear the us would worse]; max a : [havent sir worse]\n",
      "q : [so get it back good its corner about is]; max a : [all killer to]\n",
      "q : [wanted mr a roth unk owes do hull world]; max a : [you take yours like what and you card of you again]\n",
      "q : [to design you unk want mother it and a avenue easily]; max a : [where first i tell dont]\n",
      "q : [town did i terms got will size to]; max a : [where first i tell it wouldnt to]\n",
      "q : [seen unk unk]; max a : [the one is]\n",
      "q : [thoughts kind unk]; max a : [the all up he i more]\n",
      "q : [pick cant unk of dont know just using ill love shouldnt feeling easy]; max a : [little the all got this hit that maybe the up here the got in to]\n",
      "q : [his start me my no if he the saying are would faith sell]; max a : [hey the we have people me it]\n",
      "q : [unk unk we lovely said mrs some laszlo]; max a : [you should please the we open of you has yes the we and you card of you has yes]\n",
      "q : [the present unk talking start and a emergency hell unk someone my through]; max a : [the guy just the we on open about in no the we than im york i im york i im]\n",
      "q : [right any we sayin of anymore were unk stop lay eve didnt top loser laugh to]; max a : [world that surrender]\n",
      "q : [it bitch this accident frankly did]; max a : [it for a they party]\n",
      "q : [have fact i finger rally wagon have tomorrow i call do scratch club dan dont phil jesus i away]; max a : [choice what know a himself]\n",
      "q : [i taken how you unk that break to]; max a : [it for have police]\n",
      "q : [fucking unk it must his and out of work greene yah link]; max a : [the we open about in no the we on open about in]\n",
      "q : [go youre of it wouldnt for tryin doing nothing king yeah life then broken and 60 discussing something minute]; max a : [know your i im a they case]\n",
      "q : [back used the am your wouldve a harry no on cry theyre livin me was]; max a : [getting me you forgot the want im york i tell you hey behind of you house]\n",
      "q : [peace a paying that with thats sang president]; max a : [it us i im a they out]\n",
      "q : [fucking the feature i you along of unk fine forget of sort colonel me dont until]; max a : [have having it drugs you special i you o of you house of you house of you house of you]\n",
      "q : [dont we news fuck dr invitations you yours the our too i what it that unk dewey not be trap]; max a : [the one is long]\n",
      "q : [are easy a by favorite rate pulled please there a change trace planted out]; max a : [the good but your a looking of yeah and you card of you house]\n",
      "q : [far scott dont party me my unk]; max a : [seen dont above]\n",
      "q : [hair neither]; max a : [he what dont try]\n",
      "q : [fuse that the one be claim]; max a : [as me you excuse to]\n",
      "q : [they looks mind your a people way]; max a : [your a bout question]\n",
      "q : [the us a helicopter sal ranch]; max a : [with for kissing and to details and to mean concern to gun i to example]\n",
      "q : [are know tonight then louise without wanting youre great to]; max a : [a look way i you notice mistake to]\n",
      "q : [look kid shit and some unk was against friends oh]; max a : [dont what called]\n",
      "q : [to unk a can player i order how do youre you worthy driver hunch]; max a : [you take yours like what and you card of you again]\n",
      "q : [unk you california bill my a michael that like trouble could worry no donnie unk the your ale bank]; max a : [he whats it got a they ago]\n",
      "q : [afraid said eight him minutes him it for]; max a : [an have date ive it have them to]\n",
      "q : [likes to]; max a : [the all up he in year]\n",
      "q : [trying like when your find believe]; max a : [its know than got a along of you hey yes i got a along of my]\n",
      "q : [state explain opposite bill my you water]; max a : [man the good are know a they most]\n",
      "q : [each which of you yours the on crown a advise gonna part night work writing black]; max a : [know a dollars of you final]\n",
      "q : [a unk me unk em]; max a : [as me you knock]\n",
      "q : [itll unk that unk]; max a : [they way cuts]\n"
     ]
    }
   ],
   "source": [
    "import tensorflow as tf\n",
    "import numpy as np\n",
    "import random\n",
    "\n",
    "# preprocessed data\n",
    "from datasets.cornell_corpus import data\n",
    "import data_utils\n",
    "\n",
    "# load data from pickle and npy files\n",
    "metadata, idx_q, idx_a = data.load_data(PATH='datasets/twitter/')\n",
    "(trainX, trainY), (testX, testY), (validX, validY) = data_utils.split_dataset(idx_q, idx_a)\n",
    "\n",
    "temp=0.9\n",
    "\n",
    "input_ = test_batch_gen.__next__()[0]\n",
    "output = model.predict(sess, input_)\n",
    "output_max=np.argmax(output,axis=2)\n",
    "print(output_max[0,:])\n",
    "\n",
    "pred=np.zeros((256,20),dtype=np.int32)\n",
    "for inst in range(256):\n",
    "    for word in range(20):\n",
    "        #output[0,word,output[0,word,:]<0]=0\n",
    "        #output[0,word,:]+=np.abs(np.amin(output[0,word,:]))\n",
    "        sum_all=np.sum(np.exp(output[inst,word,:]/temp))\n",
    "        output[inst,word,:]=np.exp(output[inst,word,:]/temp)/sum_all\n",
    "    \n",
    "        r=random.uniform(0,1)\n",
    "        s=0\n",
    "        broke=False\n",
    "        for i in range(8002):\n",
    "            s+=output[inst,word,i]\n",
    "            if s>=r:\n",
    "                pred[inst,word]=i\n",
    "                broke =True\n",
    "                break\n",
    "        if not broke:\n",
    "            pred[inst,word]=8001\n",
    "\n",
    "output=pred\n",
    "print(pred[0,:])\n",
    "\n",
    "replies = []\n",
    "for ii, oi_max in zip(input_.T, output_max):\n",
    "    q = data_utils.decode(sequence=ii, lookup=metadata['idx2w'], separator=' ')\n",
    "    decoded_max = data_utils.decode(sequence=oi_max, lookup=metadata['idx2w'], separator=' ').split(' ')\n",
    "    #decoded_pred = data_utils.decode(sequence=oi_pred, lookup=metadata['idx2w'], separator=' ').split(' ')\n",
    "    #if decoded.count('unk') == 0:\n",
    "        #if decoded not in replies:\n",
    "    print('q : [{0}]; max a : [{1}]'.format(q, ' '.join(decoded_max)))\n",
    "    #print('q : [{0}]; pred a : [{1}]'.format(q, ' '.join(decoded_pred)))\n",
    "    replies.append(decoded_max)"
   ]
  },
  {
   "cell_type": "raw",
   "metadata": {
    "collapsed": true
   },
   "source": [
    "Chatbot talking to itself: (argmax)\n",
    "\n",
    "hey how are you doing my friend?\n",
    "you amp what you want  be a ok told of the control\n",
    "lol to if even amp what  do\n",
    "can a always\n",
    "lol to amp cant\n",
    "he is a killed\n",
    "to think he is a argue\n",
    "is that the mom\n",
    "its a know one"
   ]
  },
  {
   "cell_type": "raw",
   "metadata": {
    "collapsed": true
   },
   "source": [
    "Chatbot talking to itself 2: (softmax)\n",
    "\n",
    "hey how are you doing my friend?\n",
    "just avoiding streaming if right a realize td word nobody reading busy christ\n",
    "you is it know of kenzo  nyc phone today laughing trying\n",
    "very reminds thursday a be what loving\n",
    "tell this thought history of tryna birthday 300 ford elite photos can the term season everybody speed"
   ]
  },
  {
   "cell_type": "code",
   "execution_count": null,
   "metadata": {
    "collapsed": true
   },
   "outputs": [],
   "source": []
  },
  {
   "cell_type": "code",
   "execution_count": null,
   "metadata": {
    "collapsed": true
   },
   "outputs": [],
   "source": []
  },
  {
   "cell_type": "code",
   "execution_count": null,
   "metadata": {
    "collapsed": true
   },
   "outputs": [],
   "source": []
  }
 ],
 "metadata": {
  "kernelspec": {
   "display_name": "Python 3",
   "language": "python",
   "name": "python3"
  },
  "language_info": {
   "codemirror_mode": {
    "name": "ipython",
    "version": 3
   },
   "file_extension": ".py",
   "mimetype": "text/x-python",
   "name": "python",
   "nbconvert_exporter": "python",
   "pygments_lexer": "ipython3",
   "version": "3.5.3"
  }
 },
 "nbformat": 4,
 "nbformat_minor": 1
}
