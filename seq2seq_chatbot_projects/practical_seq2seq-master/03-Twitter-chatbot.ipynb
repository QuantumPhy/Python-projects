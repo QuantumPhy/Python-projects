{
 "cells": [
  {
   "cell_type": "markdown",
   "metadata": {},
   "source": [
    "# Demonstrate Seq2Seq Wrapper with twitter chat log"
   ]
  },
  {
   "cell_type": "code",
   "execution_count": 49,
   "metadata": {
    "collapsed": true
   },
   "outputs": [],
   "source": [
    "import tensorflow as tf\n",
    "import numpy as np\n",
    "\n",
    "# preprocessed data\n",
    "from datasets.cornell_corpus import data\n",
    "import data_utils"
   ]
  },
  {
   "cell_type": "code",
   "execution_count": 50,
   "metadata": {
    "collapsed": true
   },
   "outputs": [],
   "source": [
    "# load data from pickle and npy files\n",
    "metadata, idx_q, idx_a = data.load_data(PATH='datasets/cornell_corpus/')\n",
    "(trainX, trainY), (testX, testY), (validX, validY) = data_utils.split_dataset(idx_q, idx_a)"
   ]
  },
  {
   "cell_type": "code",
   "execution_count": 51,
   "metadata": {
    "collapsed": true
   },
   "outputs": [],
   "source": [
    "# parameters \n",
    "xseq_len = trainX.shape[-1]\n",
    "yseq_len = trainY.shape[-1]\n",
    "batch_size = 16\n",
    "xvocab_size = len(metadata['idx2w'])  \n",
    "yvocab_size = xvocab_size\n",
    "emb_dim = 512"
   ]
  },
  {
   "cell_type": "code",
   "execution_count": 52,
   "metadata": {
    "collapsed": true
   },
   "outputs": [],
   "source": [
    "import seq2seq_wrapper"
   ]
  },
  {
   "cell_type": "code",
   "execution_count": 53,
   "metadata": {},
   "outputs": [
    {
     "data": {
      "text/plain": [
       "<module 'seq2seq_wrapper' from 'C:\\\\Users\\\\ricsi\\\\Documents\\\\GitHub\\\\Python-projects\\\\seq2seq_chatbot_projects\\\\practical_seq2seq-master\\\\seq2seq_wrapper.py'>"
      ]
     },
     "execution_count": 53,
     "metadata": {},
     "output_type": "execute_result"
    }
   ],
   "source": [
    "import importlib\n",
    "importlib.reload(seq2seq_wrapper)"
   ]
  },
  {
   "cell_type": "code",
   "execution_count": 54,
   "metadata": {},
   "outputs": [
    {
     "name": "stdout",
     "output_type": "stream",
     "text": [
      "<log> Building Graph </log>"
     ]
    }
   ],
   "source": [
    "model = seq2seq_wrapper.Seq2Seq(xseq_len=xseq_len,\n",
    "                               yseq_len=yseq_len,\n",
    "                               xvocab_size=xvocab_size,\n",
    "                               yvocab_size=yvocab_size,\n",
    "                               ckpt_path='ckpt/cornell_corpus/',\n",
    "                               emb_dim=emb_dim,\n",
    "                               num_layers=3\n",
    "                               )"
   ]
  },
  {
   "cell_type": "code",
   "execution_count": 55,
   "metadata": {
    "collapsed": true
   },
   "outputs": [],
   "source": [
    "val_batch_gen = data_utils.rand_batch_gen(validX, validY, 128)\n",
    "test_batch_gen = data_utils.rand_batch_gen(testX, testY, 128)\n",
    "train_batch_gen = data_utils.rand_batch_gen(trainX, trainY, batch_size)"
   ]
  },
  {
   "cell_type": "code",
   "execution_count": 17,
   "metadata": {},
   "outputs": [
    {
     "name": "stdout",
     "output_type": "stream",
     "text": [
      "\n",
      "<log> Training started </log>\n",
      "\n",
      "Model saved to disk at iteration #1000\n",
      "val   loss : 2.029175\n",
      "\n",
      "Model saved to disk at iteration #2000\n",
      "val   loss : 2.020699\n",
      "\n",
      "Model saved to disk at iteration #3000\n",
      "val   loss : 1.976326\n",
      "\n",
      "Model saved to disk at iteration #4000\n",
      "val   loss : 2.016675\n",
      "\n",
      "Model saved to disk at iteration #5000\n",
      "val   loss : 1.976990\n",
      "\n",
      "Model saved to disk at iteration #6000\n",
      "val   loss : 1.980682\n",
      "\n",
      "Model saved to disk at iteration #7000\n",
      "val   loss : 1.957941\n",
      "\n",
      "Model saved to disk at iteration #8000\n",
      "val   loss : 1.945279\n",
      "\n",
      "Model saved to disk at iteration #9000\n",
      "val   loss : 1.929047\n",
      "\n",
      "Model saved to disk at iteration #10000\n",
      "val   loss : 1.926257\n",
      "\n",
      "Model saved to disk at iteration #11000\n",
      "val   loss : 1.934955\n",
      "\n",
      "Model saved to disk at iteration #12000\n",
      "val   loss : 1.915758\n",
      "\n",
      "Model saved to disk at iteration #13000\n",
      "val   loss : 1.942234\n",
      "\n",
      "Model saved to disk at iteration #14000\n",
      "val   loss : 1.930804\n",
      "\n",
      "Model saved to disk at iteration #15000\n",
      "val   loss : 1.924115\n",
      "\n",
      "Model saved to disk at iteration #16000\n",
      "val   loss : 1.884938\n",
      "\n",
      "Model saved to disk at iteration #17000\n",
      "val   loss : 1.897001\n",
      "\n",
      "Model saved to disk at iteration #18000\n",
      "val   loss : 1.879026\n",
      "Interrupted by user at iteration 18149\n"
     ]
    }
   ],
   "source": [
    "sess = model.train(train_batch_gen, val_batch_gen)"
   ]
  },
  {
   "cell_type": "code",
   "execution_count": 56,
   "metadata": {
    "collapsed": true
   },
   "outputs": [],
   "source": [
    "sess = model.restore_last_session()"
   ]
  },
  {
   "cell_type": "code",
   "execution_count": 57,
   "metadata": {},
   "outputs": [
    {
     "name": "stdout",
     "output_type": "stream",
     "text": [
      "(25, 128)\n",
      "(128, 25)\n"
     ]
    }
   ],
   "source": [
    "input_ = test_batch_gen.__next__()[0]\n",
    "print(input_.shape)\n",
    "output = model.predict(sess, input_)\n",
    "print(output.shape)"
   ]
  },
  {
   "cell_type": "code",
   "execution_count": 58,
   "metadata": {},
   "outputs": [
    {
     "name": "stdout",
     "output_type": "stream",
     "text": [
      "q : [what are they doing]; a : [i dont know]\n",
      "q : [someone in possession of all the facts are you telling me i have to do this]; a : [i dont know]\n",
      "q : [he says give em unk unk in jobs unk in the home also sex unk]; a : [i dont know]\n",
      "q : [what do you know about unk music]; a : [i dont know]\n",
      "q : [well mr unk detective your logic is unk what unk mr unk from putting the will back in the safe before they killed him]; a : [i dont know]\n",
      "q : [alright the truth is i thought we had something here]; a : [i dont know]\n",
      "q : [excuse me]; a : [i dont know]\n",
      "q : [my guess is if we dont take the chance pretty soon were not going to have much life left anyway]; a : [i dont know]\n",
      "q : [you got the will in there dont ya]; a : [i dont know]\n",
      "q : [whats wrong]; a : [i dont know]\n",
      "q : [have they found my father]; a : [i dont know]\n",
      "q : [why youre never going to know]; a : [i dont know]\n",
      "q : [come back some other time will you]; a : [i dont know]\n",
      "q : [please unk with me aramis i need my spirits lifted im old im weak my strength is gone]; a : [i dont know]\n",
      "q : [hey josie hold on youve been hiding something from me]; a : [i dont know]\n",
      "q : [now i didnt mean that you rat]; a : [i dont know]\n",
      "q : [okay i have five that says this is it for them]; a : [i dont know]\n",
      "q : [unk maam]; a : [i dont know]\n",
      "q : [all unk im givin the unk take em or we split up here and now]; a : [i dont know]\n",
      "q : [were slowing down this must be it]; a : [i dont know]\n",
      "q : [i dont care about bucks i might love this guy]; a : [i dont know]\n",
      "q : [ill send it to you at glades]; a : [i dont know]\n",
      "q : [and]; a : [i dont know]\n",
      "q : [ill worry about that when it happens and if it happens and its not gonna happen]; a : [i dont know]\n",
      "q : [sit down drew]; a : [i dont know]\n",
      "q : [at this pace it could be an evening wedding]; a : [i dont know]\n",
      "q : [turns out im allergic to unk boots go figure by the way im not looking for a unk set wheres unk]; a : [i dont know]\n",
      "q : [well yes george is a wonderful hairdresser]; a : [i dont know]\n",
      "q : [die what]; a : [i dont know]\n",
      "q : [ive been a good worker]; a : [i dont know]\n",
      "q : [unk you]; a : [i dont know]\n",
      "q : [you missed every one of your career unk sessions call me unk compulsive but lets do this right now]; a : [i dont know]\n",
      "q : [unk unk unk unk lift that thing]; a : [i dont know]\n",
      "q : [what do you mean it was incredibly romantic]; a : [i dont know]\n",
      "q : [did you see what the first bank stock opened at very impressive]; a : [i dont know]\n",
      "q : [what are you trying to tell me that i can dodge bullets]; a : [i dont know]\n",
      "q : [dont do this i cant]; a : [i dont know]\n",
      "q : [thats what i came to tell loretta theres been a miracle]; a : [i dont know]\n",
      "q : [im only asking what you think]; a : [i dont know]\n",
      "q : [well it aint exactly a bed of roses down here we gonna run or not]; a : [i dont know]\n",
      "q : [you suck you almost got us all killed]; a : [i dont know]\n",
      "q : [there isnt a girl in school that can hold a unk to you]; a : [i dont know]\n",
      "q : [you be careful people in masks cannot be trusted]; a : [i dont know]\n",
      "q : [god be unk locked]; a : [i dont know]\n",
      "q : [what happened whats earl doing here]; a : [i dont know]\n",
      "q : [very well captain ill pass that on unk]; a : [i dont know]\n",
      "q : [what are you staring at]; a : [i dont know]\n",
      "q : [well we got 40 and we wanna buy]; a : [i dont know]\n",
      "q : [if she runs then its a cover story all true all accurate]; a : [i dont know]\n",
      "q : [you got a name]; a : [i dont know]\n",
      "q : [how did it go]; a : [i dont know]\n",
      "q : [jim court]; a : [i dont know]\n",
      "q : [the men of the unk will fetch water from the lake build fires and provide every comfort you desire alice]; a : [i dont know]\n",
      "q : [particularly charles]; a : [i dont know]\n",
      "q : [shouldnt i be in a hospital]; a : [i dont know]\n",
      "q : [i think he mustve fell in]; a : [i dont know]\n",
      "q : [i dont rate it]; a : [i dont know]\n",
      "q : [no i dont]; a : [i dont know]\n",
      "q : [i dont know i thought maybe i was]; a : [i dont know]\n",
      "q : [what do you want from me]; a : [i dont know]\n",
      "q : [i told you there is no way out he wont let you go]; a : [i dont know]\n",
      "q : [hey baby thats where they put me unk howd you know that you been up]; a : [i dont know]\n",
      "q : [you wanna disrespect an officer of the law]; a : [i dont know]\n",
      "q : [you see what im sayin you control the space]; a : [i dont know]\n",
      "q : [they get some unk for this stuff]; a : [i dont know]\n",
      "q : [better now where you at]; a : [i dont know]\n",
      "q : [you think you can bargain with me]; a : [i dont know]\n",
      "q : [i see you as a young unk ryan myself]; a : [i dont know]\n",
      "q : [here put this on you examine him]; a : [i dont know]\n",
      "q : [quite i think id best take it back]; a : [i dont know]\n",
      "q : [whats a chinese heaven]; a : [i dont know]\n",
      "q : [spent time in arizona why]; a : [i dont know]\n",
      "q : [so how come youre putting lipstick on]; a : [i dont know]\n",
      "q : [tell you what ill book you on some unk and meanwhile well show the special around see if somebody wants to buy it]; a : [i dont know]\n",
      "q : [shut up]; a : [i dont know]\n",
      "q : [you know what my dad will do to you]; a : [i dont know]\n",
      "q : [no mr lounds youll be just fine]; a : [i dont know]\n",
      "q : [the reason i know this and you dont is that im younger and unk so im more in touch with unk forces]; a : [i dont know]\n",
      "q : [coach hates me doesnt she]; a : [i dont know]\n",
      "q : [i dont know]; a : [i dont know]\n",
      "q : [oh yes oh thats great]; a : [i dont know]\n",
      "q : [right chewie lets see what this piece of junk can do ready everybody]; a : [i dont know]\n",
      "q : [are you sure you know what youre doing]; a : [i dont know]\n",
      "q : [reiben how many time i got to tell you im from unk]; a : [i dont know]\n",
      "q : [no its too far away]; a : [i dont know]\n",
      "q : [i have an appointment with him right here right now]; a : [i dont know]\n",
      "q : [in unk unk no contest]; a : [i dont know]\n",
      "q : [hes unk up talent for hal phillip walker]; a : [i dont know]\n",
      "q : [you realize that in order to do that wed actually have to play the game]; a : [i dont know]\n",
      "q : [their arms]; a : [i dont know]\n",
      "q : [hey barney]; a : [i dont know]\n",
      "q : [vancouver unk]; a : [i dont know]\n",
      "q : [thats it all done we are off]; a : [i dont know]\n",
      "q : [youre from out of town]; a : [i dont know]\n",
      "q : [whats the plan]; a : [i dont know]\n",
      "q : [assume away]; a : [i dont know]\n",
      "q : [thanks walter]; a : [i dont know]\n",
      "q : [i get my revenge and make some fast cash]; a : [i dont know]\n",
      "q : [and he called the reporters]; a : [i dont know]\n",
      "q : [jimmy did you touch her]; a : [i dont know]\n",
      "q : [what happened to shelly]; a : [i dont know]\n",
      "q : [sounds high doesnt it]; a : [i dont know]\n",
      "q : [a hundred an thirty]; a : [i dont know]\n",
      "q : [bullshit a little you lied to me]; a : [i dont know]\n",
      "q : [youre kind to be so unk]; a : [i dont know]\n",
      "q : [you sure you didnt see one of these]; a : [i dont know]\n",
      "q : [oh dear george this is gonna kill tony hes waited his whole life for this break]; a : [i dont know]\n",
      "q : [dont hurt me]; a : [i dont know]\n",
      "q : [would you give that script a rest its like a unk unk cord to you]; a : [i dont know]\n",
      "q : [theres one to every rule]; a : [i dont know]\n",
      "q : [we made it neil we made it]; a : [i dont know]\n",
      "q : [ive been looking at the duty unk the unk hours unk]; a : [i dont know]\n",
      "q : [thank you sir]; a : [i dont know]\n",
      "q : [i have a wonderful unk i put people right at ease]; a : [i dont know]\n",
      "q : [lord vader this is an unexpected pleasure were honored by your presence]; a : [i dont know]\n",
      "q : [i assure you lord vader my men are working as fast as they can]; a : [i dont know]\n",
      "q : [hang unk]; a : [i dont know]\n",
      "q : [what we got here a unk]; a : [i dont know]\n",
      "q : [wait there]; a : [i dont know]\n",
      "q : [youre not takin me to downtown unk]; a : [i dont know]\n",
      "q : [i will be happy if i have you i love you]; a : [i dont know]\n",
      "q : [you cannot hide forever luke]; a : [i dont know]\n",
      "q : [roger de unk roger de unk oh yes the director is he good i mean bad]; a : [i dont know]\n",
      "q : [big king too bad]; a : [i dont know]\n",
      "q : [the unk room i need to see you]; a : [i dont know]\n",
      "q : [into our group]; a : [i dont know]\n",
      "q : [well the school will be here unk will still be around right now]; a : [i dont know]\n",
      "q : [no i just think anything can be explained but mary doing a thing like this i dont know how to handle]; a : [i dont know]\n"
     ]
    }
   ],
   "source": [
    "replies = []\n",
    "for ii, oi in zip(input_.T, output):\n",
    "    q = data_utils.decode(sequence=ii, lookup=metadata['idx2w'], separator=' ')\n",
    "    decoded = data_utils.decode(sequence=oi, lookup=metadata['idx2w'], separator=' ').split(' ')\n",
    "    if decoded.count('unk') == 0:\n",
    "        #if decoded not in replies:\n",
    "            print('q : [{0}]; a : [{1}]'.format(q, ' '.join(decoded)))\n",
    "            replies.append(decoded)"
   ]
  },
  {
   "cell_type": "code",
   "execution_count": null,
   "metadata": {
    "collapsed": true
   },
   "outputs": [],
   "source": []
  },
  {
   "cell_type": "code",
   "execution_count": null,
   "metadata": {
    "collapsed": true
   },
   "outputs": [],
   "source": []
  },
  {
   "cell_type": "code",
   "execution_count": null,
   "metadata": {
    "collapsed": true
   },
   "outputs": [],
   "source": []
  },
  {
   "cell_type": "code",
   "execution_count": null,
   "metadata": {
    "collapsed": true
   },
   "outputs": [],
   "source": []
  },
  {
   "cell_type": "code",
   "execution_count": null,
   "metadata": {
    "collapsed": true
   },
   "outputs": [],
   "source": []
  },
  {
   "cell_type": "code",
   "execution_count": null,
   "metadata": {
    "collapsed": true
   },
   "outputs": [],
   "source": []
  }
 ],
 "metadata": {
  "kernelspec": {
   "display_name": "Python 3",
   "language": "python",
   "name": "python3"
  },
  "language_info": {
   "codemirror_mode": {
    "name": "ipython",
    "version": 3
   },
   "file_extension": ".py",
   "mimetype": "text/x-python",
   "name": "python",
   "nbconvert_exporter": "python",
   "pygments_lexer": "ipython3",
   "version": "3.5.3"
  }
 },
 "nbformat": 4,
 "nbformat_minor": 1
}
