{
 "cells": [
  {
   "cell_type": "markdown",
   "metadata": {
    "deletable": true,
    "editable": true
   },
   "source": [
    "# Demonstrate Seq2Seq Wrapper with Cornell Movie Dialog Corpus"
   ]
  },
  {
   "cell_type": "code",
   "execution_count": 1,
   "metadata": {
    "collapsed": true,
    "deletable": true,
    "editable": true
   },
   "outputs": [],
   "source": [
    "import tensorflow as tf\n",
    "import numpy as np\n",
    "\n",
    "# preprocessed data\n",
    "from datasets.cornell_corpus import data\n",
    "import data_utils"
   ]
  },
  {
   "cell_type": "code",
   "execution_count": 2,
   "metadata": {
    "collapsed": false,
    "deletable": true,
    "editable": true
   },
   "outputs": [
    {
     "data": {
      "text/plain": [
       "<module 'datasets.cornell_corpus.data' from 'C:\\\\Users\\\\ricsi\\\\Documents\\\\GitHub\\\\Python-projects\\\\seq2seq_chatbot_projects\\\\practical_seq2seq_cornell\\\\datasets\\\\cornell_corpus\\\\data.py'>"
      ]
     },
     "execution_count": 2,
     "metadata": {},
     "output_type": "execute_result"
    }
   ],
   "source": [
    "import importlib\n",
    "importlib.reload(data)"
   ]
  },
  {
   "cell_type": "code",
   "execution_count": 3,
   "metadata": {
    "collapsed": true,
    "deletable": true,
    "editable": true
   },
   "outputs": [],
   "source": [
    "# load data from pickle and npy files\n",
    "metadata, idx_q, idx_a = data.load_data(PATH='datasets/cornell_corpus/')\n",
    "(trainX, trainY), (testX, testY), (validX, validY) = data_utils.split_dataset(idx_q, idx_a)"
   ]
  },
  {
   "cell_type": "code",
   "execution_count": 4,
   "metadata": {
    "collapsed": true,
    "deletable": true,
    "editable": true
   },
   "outputs": [],
   "source": [
    "# parameters \n",
    "xseq_len = trainX.shape[-1]\n",
    "yseq_len = trainY.shape[-1]\n",
    "batch_size = 16\n",
    "xvocab_size = len(metadata['idx2w'])  \n",
    "yvocab_size = xvocab_size\n",
    "emb_dim = 128\n",
    "num_units=512\n",
    "num_heads=16\n",
    "epochs=100000\n",
    "min_lr=0.000001\n",
    "max_lr=0.001\n",
    "lr_step=5000"
   ]
  },
  {
   "cell_type": "code",
   "execution_count": 5,
   "metadata": {
    "collapsed": false,
    "deletable": true,
    "editable": true
   },
   "outputs": [],
   "source": [
    "import seq2seq_wrapper"
   ]
  },
  {
   "cell_type": "code",
   "execution_count": 6,
   "metadata": {
    "collapsed": false,
    "deletable": true,
    "editable": true
   },
   "outputs": [
    {
     "name": "stdout",
     "output_type": "stream",
     "text": [
      "<log> Building Graph </log>"
     ]
    }
   ],
   "source": [
    "importlib.reload(seq2seq_wrapper)\n",
    "model = seq2seq_wrapper.Seq2Seq(xseq_len=xseq_len,\n",
    "                               yseq_len=yseq_len,\n",
    "                               xvocab_size=xvocab_size,\n",
    "                               yvocab_size=yvocab_size,\n",
    "                               ckpt_path='ckpt/cornell_corpus/',\n",
    "                               emb_dim=emb_dim,\n",
    "                               num_units=num_units,\n",
    "                               num_heads=num_heads,\n",
    "                               batch_size=batch_size,\n",
    "                               epochs=epochs,\n",
    "                               max_lr=max_lr,\n",
    "                               min_lr=min_lr,\n",
    "                               lr_step=lr_step,\n",
    "                               num_layers=3,\n",
    "                               )"
   ]
  },
  {
   "cell_type": "code",
   "execution_count": 7,
   "metadata": {
    "collapsed": true,
    "deletable": true,
    "editable": true
   },
   "outputs": [],
   "source": [
    "val_batch_gen = data_utils.rand_batch_gen(validX, validY, batch_size)\n",
    "test_batch_gen = data_utils.rand_batch_gen(testX, testY, batch_size)\n",
    "train_batch_gen = data_utils.rand_batch_gen(trainX, trainY, batch_size)"
   ]
  },
  {
   "cell_type": "code",
   "execution_count": null,
   "metadata": {
    "collapsed": false,
    "deletable": true,
    "editable": true
   },
   "outputs": [],
   "source": [
    "sess = model.train(train_batch_gen, val_batch_gen)"
   ]
  },
  {
   "cell_type": "code",
   "execution_count": 8,
   "metadata": {
    "collapsed": true,
    "deletable": true,
    "editable": true
   },
   "outputs": [],
   "source": [
    "sess = model.restore_last_session()"
   ]
  },
  {
   "cell_type": "code",
   "execution_count": 66,
   "metadata": {
    "collapsed": false,
    "deletable": true,
    "editable": true
   },
   "outputs": [
    {
     "name": "stdout",
     "output_type": "stream",
     "text": [
      "(128, 25, 8002)\n"
     ]
    }
   ],
   "source": [
    "input_ = test_batch_gen.__next__()[0]\n",
    "output = model.predict(sess, input_)\n",
    "print(output.shape)"
   ]
  },
  {
   "cell_type": "code",
   "execution_count": 12,
   "metadata": {
    "collapsed": false,
    "deletable": true,
    "editable": true
   },
   "outputs": [
    {
     "name": "stdout",
     "output_type": "stream",
     "text": [
      "q : [frightening thought]; a : [i dont know]\n",
      "q : [whys that]; a : [you know what you want]\n",
      "q : [im sorry]; a : [i dont know]\n",
      "q : [open that door damn you]; a : [i dont know]\n",
      "q : [what do you mean]; a : [i dont know]\n",
      "q : [andy before we begin id just like to say everyone in this room is your friend]; a : [what are you talking about]\n",
      "q : [yeah i understand hes been up here the last six weeks]; a : [i dont know what you mean]\n",
      "q : [they had me from the gate]; a : [yes sir]\n",
      "q : [yes hes fine too you saw them at easter]; a : [yes sir]\n",
      "q : [i need to i need to believe something this is the first time ive ever come up against anything i couldnt understand]; a : [i dont know]\n",
      "q : [dont get mental man]; a : [i dont know]\n",
      "q : [you havent said anything]; a : [i dont know]\n",
      "q : [oh good]; a : [i dont know what you want]\n",
      "q : [things change]; a : [you know what you want]\n",
      "q : [yeah well miss breakfast]; a : [you know what you want]\n",
      "q : [my father had farm land it was the only thing we owned of any value]; a : [you dont know what you mean]\n",
      "q : [you said you liked me]; a : [i dont know]\n",
      "q : [put him in doctor unk office]; a : [no i dont know]\n",
      "q : [what is this]; a : [i dont know]\n",
      "q : [you said that last time]; a : [i dont know]\n",
      "q : [whoa whoa its gonna be alright]; a : [no i dont know]\n",
      "q : [do you think hell take the job]; a : [no i dont know]\n",
      "q : [i miss unk so much]; a : [i dont know]\n",
      "q : [golly i hadnt thought of that]; a : [you dont know what you want to do]\n",
      "q : [how long ago did this guy retire]; a : [i dont know]\n",
      "q : [really and maybe shorter habits and women unk and sleeping late]; a : [you want to go]\n",
      "q : [i see yes of course]; a : [you dont know what you want to do]\n",
      "q : [so mitchell had handled it afterwards brandon picked it up theres no indication you handled it]; a : [i dont know]\n",
      "q : [hell lead you over the first cliff you know that dont you]; a : [what are you talking about]\n",
      "q : [thanks miz unk but i dont want to take up any more of your time i best be going]; a : [you want to go]\n",
      "q : [a hundred an thirty]; a : [i know]\n",
      "q : [chopped liver]; a : [i dont know]\n",
      "q : [ill carry him till the third]; a : [you know what you mean]\n",
      "q : [why are you marrying johnny hes a fool]; a : [you dont know what you mean]\n",
      "q : [i thought you were over it]; a : [i dont know]\n",
      "q : [so unk youve seen this huh]; a : [i dont know]\n",
      "q : [the world thinks andy kaufman sucks so i was just giving em what they want]; a : [i dont know]\n",
      "q : [he cant drink this milk itll make him sick hes on a unk i was a fool i shouldnt have kept him with me]; a : [you dont know what you want]\n",
      "q : [wasnt a unk a short story]; a : [you know what you want]\n",
      "q : [how are you baby]; a : [i dont know]\n",
      "q : [screw you]; a : [i dont know]\n",
      "q : [i think ill go for a walk]; a : [oh yeah i dont want to talk to you]\n",
      "q : [ive given this a lot of thought sir the best thing that could happen is we find ryan and hes dead]; a : [i dont know what you want]\n",
      "q : [tom this is our case]; a : [we dont know what they were]\n",
      "q : [chewie and i will take care of this you stay here]; a : [oh i know]\n",
      "q : [wait there must be some unk he was the dog is alive]; a : [i dont know]\n",
      "q : [can we talk]; a : [i dont know]\n",
      "q : [so what do you think]; a : [i dont know]\n",
      "q : [well youre a little early]; a : [i dont know]\n",
      "q : [my letter]; a : [you know what you want]\n",
      "q : [well he aint normal thats unk sure]; a : [what are you doing]\n",
      "q : [what happened]; a : [i dont know]\n",
      "q : [lets go to bed ill rub your back]; a : [oh yeah i dont know what you want]\n",
      "q : [you said we could go to new york]; a : [okay ill be fine]\n",
      "q : [up were moving out]; a : [what are you doing]\n",
      "q : [you could still help me do that]; a : [i dont know what you want]\n",
      "q : [you alright]; a : [no i dont know]\n",
      "q : [youre dismissed]; a : [not yet]\n",
      "q : [its been here seventeen years did you live here before or something]; a : [i dont know]\n",
      "q : [you are such a great person lloyd im a good person but you are a great person]; a : [you know what i mean]\n",
      "q : [youre sorry i got somebodys old unk stuck in my ass so dont tell me youre sorry just take me home]; a : [i dont know what you want]\n",
      "q : [we been through this before]; a : [i dont know]\n",
      "q : [you could go deaf with the noise it unk means champion apollo creed is heading towards the ring]; a : [what do you mean]\n",
      "q : [wait a minute im letting unk in on this not all your friends]; a : [i dont know]\n",
      "q : [billys on it heat unk pretty unk for unk mountain boys]; a : [i dont know]\n",
      "q : [i will ask you once more what sort of car]; a : [you dont know what you want to do]\n",
      "q : [i dont know]; a : [you dont know what you want]\n",
      "q : [you get your first palm tree in south unk]; a : [yeah i know]\n",
      "q : [whats going on here]; a : [i dont know]\n",
      "q : [why didnt you come alone lester invited you did you have to bring her]; a : [i dont know what i was]\n",
      "q : [made your million yet]; a : [no i dont know]\n",
      "q : [hows mary]; a : [oh yeah]\n",
      "q : [oh wendy thats nice thats the unk]; a : [i dont know what you want]\n",
      "q : [guy unk dope and dollar from ripping off other drug dealers as least thats what the word is]; a : [i dont know]\n",
      "q : [your gun]; a : [i dont know]\n",
      "q : [got a thick feelin here]; a : [you know what you want]\n",
      "q : [well you know im dear to the subject matter]; a : [i dont know]\n",
      "q : [what national tv]; a : [i dont know]\n",
      "q : [thats where i was going unk drive]; a : [no i dont know]\n",
      "q : [and left from my dreaming was a feeling of unk unk]; a : [i dont know what you mean]\n",
      "q : [is it all right i made it out to cash you didnt tell me the name of the play]; a : [no i dont know]\n",
      "q : [oh yes well keep him in here obviously but if he had to leave and we were with him]; a : [i dont know what you mean]\n",
      "q : [rose you dont look well and you havent eaten a bit of breakfast]; a : [i dont know]\n",
      "q : [you could make a career by telling me where]; a : [you dont know what you want to do]\n",
      "q : [look ma no wires]; a : [i dont know]\n",
      "q : [hell be back soon]; a : [i dont know]\n",
      "q : [edie i need you to love me tell me you love me]; a : [i dont want to talk to you]\n",
      "q : [you dont think so]; a : [i dont know]\n",
      "q : [on top of the empire state building at sunset on unk day]; a : [yes sir]\n"
     ]
    }
   ],
   "source": [
    "replies = []\n",
    "for ii, oi in zip(input_.T, output):\n",
    "    q = data_utils.decode(sequence=ii, lookup=metadata['idx2w'], separator=' ')\n",
    "    decoded = data_utils.decode(sequence=oi, lookup=metadata['idx2w'], separator=' ').split(' ')\n",
    "    if decoded.count('unk') == 0:\n",
    "        #if decoded not in replies:\n",
    "            print('q : [{0}]; a : [{1}]'.format(q, ' '.join(decoded)))\n",
    "            replies.append(decoded)"
   ]
  },
  {
   "cell_type": "code",
   "execution_count": 10,
   "metadata": {
    "collapsed": false,
    "deletable": true,
    "editable": true
   },
   "outputs": [
    {
     "name": "stdout",
     "output_type": "stream",
     "text": [
      "[ 3 15 20  0  0  0  0  0  0  0  0  0  0  0  0  0  0  0  0  0  0  0  0  0  0]\n",
      "[  3 101  50  10   0   0   0   0   0   0   0   0   0   0   0   0   0   0\n",
      "   0   0   0   0   0   0   0]\n",
      "q : [joe zack is a good prospect exciting boy]; max a : [i dont know]\n",
      "q : [joe zack is a good prospect exciting boy]; pred a : [i mean think of]\n",
      "q : [ah no its fine]; max a : [i dont know]\n",
      "q : [ah no its fine]; pred a : [and sing know well]\n",
      "q : [you okay huh jimmy]; max a : [i dont know]\n",
      "q : [you okay huh jimmy]; pred a : [i dont put so]\n",
      "q : [who did you kill]; max a : [i dont know]\n",
      "q : [who did you kill]; pred a : [she cant know everything]\n",
      "q : [christ they even got my first grade report card here]; max a : [i dont know]\n",
      "q : [christ they even got my first grade report card here]; pred a : [no guess want]\n",
      "q : [mr carter the head butler sits there]; max a : [i dont know]\n",
      "q : [mr carter the head butler sits there]; pred a : [why didnt know who]\n",
      "q : [i hated to go to that place i almost went to the police station instead]; max a : [i dont know]\n",
      "q : [i hated to go to that place i almost went to the police station instead]; pred a : [come have need you]\n",
      "q : [i dont doc]; max a : [i dont know]\n",
      "q : [i dont doc]; pred a : [at wouldnt know so]\n",
      "q : [ned i swear i knew nothing of this]; max a : [i dont know]\n",
      "q : [ned i swear i knew nothing of this]; pred a : [im never think serious]\n",
      "q : [go ahead]; max a : [i dont know]\n",
      "q : [go ahead]; pred a : [that promised know unk]\n",
      "q : [daddy come on a name]; max a : [i dont know]\n",
      "q : [daddy come on a name]; pred a : [well didnt want are]\n",
      "q : [loretta whats that smell]; max a : [i dont know]\n",
      "q : [loretta whats that smell]; pred a : [youre cant leave im]\n",
      "q : [go to commercial man get off the stage]; max a : [i dont know]\n",
      "q : [go to commercial man get off the stage]; pred a : [think still really]\n",
      "q : [she thinks its funny to talk the way she does but]; max a : [i dont know]\n",
      "q : [she thinks its funny to talk the way she does but]; pred a : [do want know]\n",
      "q : [ive wondered that myself none of this answers my question though why bring me]; max a : [i dont know]\n",
      "q : [ive wondered that myself none of this answers my question though why bring me]; pred a : [thats dont know]\n",
      "q : [okay you read me well enough why cant i read you]; max a : [i dont know]\n",
      "q : [okay you read me well enough why cant i read you]; pred a : [its dont know come]\n"
     ]
    }
   ],
   "source": [
    "import tensorflow as tf\n",
    "import numpy as np\n",
    "import random\n",
    "\n",
    "# preprocessed data\n",
    "from datasets.cornell_corpus import data\n",
    "import data_utils\n",
    "\n",
    "# load data from pickle and npy files\n",
    "metadata, idx_q, idx_a = data.load_data(PATH='datasets/cornell_corpus/')\n",
    "(trainX, trainY), (testX, testY), (validX, validY) = data_utils.split_dataset(idx_q, idx_a)\n",
    "\n",
    "\n",
    "input_ = test_batch_gen.__next__()[0]\n",
    "output = model.predict(sess, input_)\n",
    "output_max=np.argmax(output,axis=2)\n",
    "print(output_max[0,:])\n",
    "\n",
    "pred=np.zeros((batch_size,25),dtype=np.int32)\n",
    "for inst in range(batch_size):\n",
    "    for word in range(25):\n",
    "        #output[0,word,output[0,word,:]<0]=0\n",
    "        #output[0,word,:]+=np.abs(np.amin(output[0,word,:]))\n",
    "        sum_all=np.sum(np.exp(output[inst,word,:]))\n",
    "        output[inst,word,:]=np.exp(output[inst,word,:])/sum_all\n",
    "    \n",
    "        r=random.uniform(0,1)\n",
    "        s=0\n",
    "        broke=False\n",
    "        for i in range(8002):\n",
    "            s+=output[inst,word,i]\n",
    "            if s>=r:\n",
    "                pred[inst,word]=i\n",
    "                broke =True\n",
    "                break\n",
    "        if not broke:\n",
    "            pred[inst,word]=8001\n",
    "\n",
    "output=pred\n",
    "print(pred[0,:])\n",
    "\n",
    "replies = []\n",
    "for ii, oi_max,oi_pred in zip(input_.T, output_max,pred):\n",
    "    q = data_utils.decode(sequence=ii, lookup=metadata['idx2w'], separator=' ')\n",
    "    decoded_max = data_utils.decode(sequence=oi_max, lookup=metadata['idx2w'], separator=' ').split(' ')\n",
    "    decoded_pred = data_utils.decode(sequence=oi_pred, lookup=metadata['idx2w'], separator=' ').split(' ')\n",
    "    #if decoded.count('unk') == 0:\n",
    "        #if decoded not in replies:\n",
    "    print('q : [{0}]; max a : [{1}]'.format(q, ' '.join(decoded_max)))\n",
    "    print('q : [{0}]; pred a : [{1}]'.format(q, ' '.join(decoded_pred)))\n",
    "    replies.append(decoded_max)"
   ]
  }
 ],
 "metadata": {
  "kernelspec": {
   "display_name": "Python 3",
   "language": "python",
   "name": "python3"
  },
  "language_info": {
   "codemirror_mode": {
    "name": "ipython",
    "version": 3
   },
   "file_extension": ".py",
   "mimetype": "text/x-python",
   "name": "python",
   "nbconvert_exporter": "python",
   "pygments_lexer": "ipython3",
   "version": "3.5.3"
  }
 },
 "nbformat": 4,
 "nbformat_minor": 1
}
